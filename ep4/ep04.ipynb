{
  "nbformat": 4,
  "nbformat_minor": 0,
  "metadata": {
    "kernelspec": {
      "display_name": "Python 3",
      "language": "python",
      "name": "python3"
    },
    "language_info": {
      "codemirror_mode": {
        "name": "ipython",
        "version": 3
      },
      "file_extension": ".py",
      "mimetype": "text/x-python",
      "name": "python",
      "nbconvert_exporter": "python",
      "pygments_lexer": "ipython3",
      "version": "3.8.10"
    },
    "colab": {
      "name": "ep04.ipynb",
      "provenance": [],
      "collapsed_sections": []
    }
  },
  "cells": [
    {
      "cell_type": "code",
      "metadata": {
        "colab": {
          "base_uri": "https://localhost:8080/"
        },
        "id": "daGWjDiHLetV",
        "outputId": "e6d9cbbb-70c4-44bb-9e6a-f57f802078f1"
      },
      "source": [
        "name1 = \"Daniela Gonzalez Favero\" \n",
        "name2 = \"Miguel Pereira Ostrowski\"\n",
        "\n",
        "honorPledge = \"I affirm that I have not given or received any unauthorized \" \\\n",
        "              \"help on this assignment, and that this work is my own.\\n\"\n",
        "\n",
        "\n",
        "print(\"\\nName: \", name1)\n",
        "print(\"\\nHonor pledge: \", honorPledge)\n",
        "\n",
        "print(\"\\nName: \", name2)\n",
        "print(\"\\nHonor pledge: \", honorPledge)"
      ],
      "execution_count": null,
      "outputs": [
        {
          "output_type": "stream",
          "text": [
            "\n",
            "Name:  Daniela Gonzalez Favero\n",
            "\n",
            "Honor pledge:  I affirm that I have not given or received any unauthorized help on this assignment, and that this work is my own.\n",
            "\n",
            "\n",
            "Name:  Miguel Pereira Ostrowski\n",
            "\n",
            "Honor pledge:  I affirm that I have not given or received any unauthorized help on this assignment, and that this work is my own.\n",
            "\n"
          ],
          "name": "stdout"
        }
      ]
    },
    {
      "cell_type": "markdown",
      "metadata": {
        "id": "L5uRbVdWMREt"
      },
      "source": [
        "# MAC0460 / MAC5832 (2021)\n",
        "---\n",
        "\n",
        "## EP4\n",
        "\n",
        "### Objectives:\n",
        "The aim of this EP is to\n",
        "- Practice training of linear, neural networks, and SVMs classifiers using the scikit-learn library (https://scikit-learn.org/)\n",
        "- Practice model evaluation, comparison and selection\n",
        "- Produce a summary report on the performed experiments and main findings\n"
      ]
    },
    {
      "cell_type": "code",
      "metadata": {
        "scrolled": false,
        "id": "YZ7BAOt9Leta"
      },
      "source": [
        "# All imports\n",
        "\n",
        "import numpy as np\n",
        "import matplotlib.pyplot as plt\n",
        "from tensorflow.keras.datasets import mnist\n",
        "from sklearn import model_selection,linear_model,svm,metrics\n",
        "from sklearn.neural_network import MLPClassifier\n",
        "\n",
        "%matplotlib inline"
      ],
      "execution_count": null,
      "outputs": []
    },
    {
      "cell_type": "markdown",
      "metadata": {
        "id": "Xd43x36LNHw9"
      },
      "source": [
        "# 1. Dataset preparation"
      ]
    },
    {
      "cell_type": "code",
      "metadata": {
        "id": "m-Tf8UO4Letb",
        "colab": {
          "base_uri": "https://localhost:8080/"
        },
        "outputId": "88b74614-eeb5-45cf-d712-ef98afa31687"
      },
      "source": [
        "(X_train_ori, y_train_ori), (X_test_ori, y_test_ori) = mnist.load_data()\n",
        "\n",
        "print(X_train_ori.shape, y_train_ori.shape)\n",
        "print(X_test_ori.shape, y_test_ori.shape)"
      ],
      "execution_count": null,
      "outputs": [
        {
          "output_type": "stream",
          "text": [
            "(60000, 28, 28) (60000,)\n",
            "(10000, 28, 28) (10000,)\n"
          ],
          "name": "stdout"
        }
      ]
    },
    {
      "cell_type": "code",
      "metadata": {
        "id": "ltIuMQZVLetb",
        "colab": {
          "base_uri": "https://localhost:8080/",
          "height": 295
        },
        "outputId": "9f397f29-5918-4d14-929b-24a32285bc81"
      },
      "source": [
        "labels = [\"%s\"%i for i in range(10)]\n",
        "\n",
        "unique, counts = np.unique(y_train_ori, return_counts=True)\n",
        "uniquet, countst = np.unique(y_test_ori, return_counts=True)\n",
        "\n",
        "fig, ax = plt.subplots()\n",
        "rects1 = ax.bar(unique - 0.2, counts, 0.25, label='Train')\n",
        "rects2 = ax.bar(unique + 0.2, countst, 0.25, label='Test')\n",
        "ax.legend()\n",
        "ax.set_xticks(unique)\n",
        "ax.set_xticklabels(labels)\n",
        "\n",
        "plt.title('MNIST classes')\n",
        "plt.xlabel('Class')\n",
        "plt.ylabel('Frequency')\n",
        "plt.show()"
      ],
      "execution_count": null,
      "outputs": [
        {
          "output_type": "display_data",
          "data": {
            "image/png": "[encoded data removed]",
            "text/plain": [
              "<Figure size 432x288 with 1 Axes>"
            ]
          },
          "metadata": {
            "tags": [],
            "needs_background": "light"
          }
        }
      ]
    },
    {
      "cell_type": "code",
      "metadata": {
        "id": "d2KnbATeLetc",
        "colab": {
          "base_uri": "https://localhost:8080/",
          "height": 373
        },
        "outputId": "28577824-15c3-4d9c-cf9f-6e4f83e03693"
      },
      "source": [
        "fig, ax = plt.subplots(2, 3, figsize = (9, 6))\n",
        "\n",
        "for i in range(6):\n",
        "    ax[i//3, i%3].imshow(X_train_ori[i], cmap='gray')\n",
        "    ax[i//3, i%3].axis('off')\n",
        "    ax[i//3, i%3].set_title(\"Class: %d\"%y_train_ori[i])\n",
        "    \n",
        "plt.show()"
      ],
      "execution_count": null,
      "outputs": [
        {
          "output_type": "display_data",
          "data": {
            "image/png": "[encoded data removed]",
            "text/plain": [
              "<Figure size 648x432 with 6 Axes>"
            ]
          },
          "metadata": {
            "tags": [],
            "needs_background": "light"
          }
        }
      ]
    },
    {
      "cell_type": "code",
      "metadata": {
        "id": "3wn9ExOMLetd"
      },
      "source": [
        "# Reduce the image size to its half \n",
        "X_train = np.array([image[::2, 1::2] for image in X_train_ori])\n",
        "X_test  = np.array([image[::2, 1::2] for image in X_test_ori])\n",
        "\n",
        "y_train = y_train_ori\n",
        "y_test = y_test_ori\n",
        "\n",
        "y_train_padrao = y_train"
      ],
      "execution_count": null,
      "outputs": []
    },
    {
      "cell_type": "code",
      "metadata": {
        "id": "jNtkwQ_KLetd",
        "colab": {
          "base_uri": "https://localhost:8080/",
          "height": 373
        },
        "outputId": "c1057870-ded4-4461-9757-beb769753773"
      },
      "source": [
        "fig, ax = plt.subplots(2, 3, figsize = (9, 6))\n",
        "\n",
        "for i in range(6):\n",
        "    ax[i//3, i%3].imshow(X_train[i], cmap='gray')\n",
        "    ax[i//3, i%3].axis('off')\n",
        "    ax[i//3, i%3].set_title(\"Class: %d\"%y_train_ori[i])\n",
        "    \n",
        "plt.show()"
      ],
      "execution_count": null,
      "outputs": [
        {
          "output_type": "display_data",
          "data": {
            "image/png": "[encoded data removed]",
            "text/plain": [
              "<Figure size 648x432 with 6 Axes>"
            ]
          },
          "metadata": {
            "tags": [],
            "needs_background": "light"
          }
        }
      ]
    },
    {
      "cell_type": "code",
      "metadata": {
        "id": "w9EhwWosLete",
        "colab": {
          "base_uri": "https://localhost:8080/"
        },
        "outputId": "9d45462b-c8d7-4025-f2f2-9fe0f2cecb99"
      },
      "source": [
        "X_train = (X_train/255.0).astype('float32').reshape((60000,14*14))\n",
        "X_test = (X_test/255.0).astype('float32').reshape((10000,14*14))\n",
        "\n",
        "print(X_train.dtype)\n",
        "print(X_test.dtype)\n",
        "\n",
        "print(\"\\nShape of X_train: \", X_train.shape)\n",
        "print(\"Shape of X_test: \", X_test.shape)\n",
        "\n",
        "print(\"\\nMinimum value in X_train:\", np.amin(X_train))\n",
        "print(\"Maximum value in X_train:\", np.amax(X_train))\n",
        "\n",
        "print(\"\\nMinimum value in X_test:\", np.amin(X_test))\n",
        "print(\"Maximum value in X_test:\", np.amax(X_test))\n"
      ],
      "execution_count": null,
      "outputs": [
        {
          "output_type": "stream",
          "text": [
            "float32\n",
            "float32\n",
            "\n",
            "Shape of X_train:  (60000, 196)\n",
            "Shape of X_test:  (10000, 196)\n",
            "\n",
            "Minimum value in X_train: 0.0\n",
            "Maximum value in X_train: 1.0\n",
            "\n",
            "Minimum value in X_test: 0.0\n",
            "Maximum value in X_test: 1.0\n"
          ],
          "name": "stdout"
        }
      ]
    },
    {
      "cell_type": "code",
      "metadata": {
        "colab": {
          "base_uri": "https://localhost:8080/"
        },
        "id": "GAL2P834UEqu",
        "outputId": "9f5bb0dd-12e6-4cfe-c8f8-f2f52c104a58"
      },
      "source": [
        "fraction = 30/100\n",
        "D_train, D_val, y_train, y_val = model_selection.train_test_split(X_train, y_train, test_size=fraction, random_state=512)\n",
        "\n",
        "print(D_train.shape)\n",
        "print(D_val.shape)\n",
        "print(y_train.shape)\n",
        "print(y_val.shape)"
      ],
      "execution_count": null,
      "outputs": [
        {
          "output_type": "stream",
          "text": [
            "(42000, 196)\n",
            "(18000, 196)\n",
            "(42000,)\n",
            "(18000,)\n"
          ],
          "name": "stdout"
        }
      ]
    },
    {
      "cell_type": "markdown",
      "metadata": {
        "id": "KAMBy_iANQPw"
      },
      "source": [
        "# 2. Training, evaluating and selecting models"
      ]
    },
    {
      "cell_type": "code",
      "metadata": {
        "id": "tG6ZPY5GpM7Z"
      },
      "source": [
        "def model_selection_val(y, y_predict):\n",
        "  print(\"erro quadratico medio: \\n\", metrics.mean_squared_error(y, y_predict))\n",
        "  print(\"\\nclassification report: \\n\",metrics.classification_report(y, y_predict))\n",
        "  print(\"matrix confusion: \\n\",metrics.confusion_matrix(y, y_predict))\n",
        "\n"
      ],
      "execution_count": null,
      "outputs": []
    },
    {
      "cell_type": "markdown",
      "metadata": {
        "id": "If9Wd1DFempX"
      },
      "source": [
        "# Logistic Regression"
      ]
    },
    {
      "cell_type": "code",
      "metadata": {
        "id": "nNslUgI4a8x_"
      },
      "source": [
        "## Treina \n",
        "clf = linear_model.LogisticRegression(random_state=0, max_iter=2000).fit(D_train, y_train)\n",
        "y_predict = clf.predict(D_train)\n"
      ],
      "execution_count": null,
      "outputs": []
    },
    {
      "cell_type": "code",
      "metadata": {
        "colab": {
          "base_uri": "https://localhost:8080/"
        },
        "id": "6WYDkbIreEVW",
        "outputId": "ef67e7a3-4947-456a-f2fd-011431a50097"
      },
      "source": [
        "clf.score(D_train, y_train)\n",
        "\n",
        "model_selection_val(y_train, y_predict)"
      ],
      "execution_count": null,
      "outputs": [
        {
          "output_type": "stream",
          "text": [
            "erro quadratico medio: \n",
            " 1.4487857142857143\n",
            "classification report: \n",
            "               precision    recall  f1-score   support\n",
            "\n",
            "           0       0.96      0.97      0.96      4142\n",
            "           1       0.94      0.97      0.95      4685\n",
            "           2       0.92      0.89      0.90      4141\n",
            "           3       0.90      0.88      0.89      4325\n",
            "           4       0.91      0.92      0.92      4087\n",
            "           5       0.88      0.87      0.88      3848\n",
            "           6       0.94      0.95      0.95      4194\n",
            "           7       0.93      0.93      0.93      4398\n",
            "           8       0.89      0.87      0.88      4076\n",
            "           9       0.88      0.90      0.89      4104\n",
            "\n",
            "    accuracy                           0.92     42000\n",
            "   macro avg       0.92      0.91      0.91     42000\n",
            "weighted avg       0.92      0.92      0.92     42000\n",
            "\n",
            "matrix confusion: \n",
            " [[4003    1   14    8    9   35   30   10   29    3]\n",
            " [   1 4543   24   14    4   19    2   15   55    8]\n",
            " [  21   50 3689   63   53   23   56   64  110   12]\n",
            " [  16   29   96 3823    2  164   16   39   88   52]\n",
            " [   7   24   26    4 3754    7   36   12   28  189]\n",
            " [  41   25   28  139   40 3354   76   16   88   41]\n",
            " [  29   15   31    3   44   46 3999    4   22    1]\n",
            " [  14   30   58   14   48    7    3 4076   10  138]\n",
            " [  25   84   45  121   23  114   34   14 3557   59]\n",
            " [  18   29   15   40  130   35    2  133   28 3674]]\n"
          ],
          "name": "stdout"
        }
      ]
    },
    {
      "cell_type": "markdown",
      "metadata": {
        "id": "ejvRxUFOkEkc"
      },
      "source": [
        "# Neural Network"
      ]
    },
    {
      "cell_type": "code",
      "metadata": {
        "id": "6AuFqdmObSei"
      },
      "source": [
        "nn = MLPClassifier(random_state=0, max_iter=500, learning_rate_init=0.01, hidden_layer_sizes=(10, )).fit(D_train, y_train)\n",
        "\n",
        "y_predict_nn = nn.predict(D_train)"
      ],
      "execution_count": null,
      "outputs": []
    },
    {
      "cell_type": "code",
      "metadata": {
        "colab": {
          "base_uri": "https://localhost:8080/"
        },
        "id": "NnlZ0DcCbfpF",
        "outputId": "70d10c16-63e0-4123-b71c-2356d89698b8"
      },
      "source": [
        "nn.score(D_train, y_train)\n",
        "\n",
        "model_selection_val(y_train, y_predict_nn)"
      ],
      "execution_count": null,
      "outputs": [
        {
          "output_type": "stream",
          "text": [
            "erro quadratico medio: \n",
            " 1.2007380952380953\n",
            "classification report: \n",
            "               precision    recall  f1-score   support\n",
            "\n",
            "           0       0.97      0.97      0.97      4142\n",
            "           1       0.96      0.97      0.96      4685\n",
            "           2       0.95      0.92      0.94      4141\n",
            "           3       0.89      0.93      0.91      4325\n",
            "           4       0.92      0.93      0.93      4087\n",
            "           5       0.89      0.91      0.90      3848\n",
            "           6       0.98      0.95      0.96      4194\n",
            "           7       0.95      0.94      0.95      4398\n",
            "           8       0.92      0.88      0.90      4076\n",
            "           9       0.90      0.91      0.91      4104\n",
            "\n",
            "    accuracy                           0.93     42000\n",
            "   macro avg       0.93      0.93      0.93     42000\n",
            "weighted avg       0.93      0.93      0.93     42000\n",
            "\n",
            "matrix confusion: \n",
            " [[4003    1    7   12   12   41   16    9   22   19]\n",
            " [   0 4540   19   14    5   16    4   18   58   11]\n",
            " [  14   34 3812   96   31   24    9   37   80    4]\n",
            " [   5   13   39 4013    2  118    2   29   65   39]\n",
            " [   3   17   26    3 3812   11   23   21   18  153]\n",
            " [  25    7   27  145   26 3514   25    8   38   33]\n",
            " [  43    9   18    6   37   81 3974    0   25    1]\n",
            " [   8   23   40   38   38    5    0 4152    4   90]\n",
            " [  21   63   23  148   21   99   18   12 3594   77]\n",
            " [  11   18    1   36  161   18    2   83   20 3754]]\n"
          ],
          "name": "stdout"
        }
      ]
    },
    {
      "cell_type": "markdown",
      "metadata": {
        "id": "KYJvUhfYmf_F"
      },
      "source": [
        "# SVM"
      ]
    },
    {
      "cell_type": "code",
      "metadata": {
        "id": "7yQkJwCHivG-"
      },
      "source": [
        "svm_clf = svm.LinearSVC(random_state=0, max_iter=5000).fit(D_train, y_train)\n",
        "\n",
        "y_predict_svm = svm_clf.predict(D_train)"
      ],
      "execution_count": null,
      "outputs": []
    },
    {
      "cell_type": "code",
      "metadata": {
        "colab": {
          "base_uri": "https://localhost:8080/"
        },
        "id": "lhwy3-xQjZgW",
        "outputId": "e548204c-1fe4-4ae7-a40e-2a46849f3b74"
      },
      "source": [
        "svm_clf.score(D_train, y_train)\n",
        "\n",
        "model_selection_val(y_train, y_predict_svm)"
      ],
      "execution_count": null,
      "outputs": [
        {
          "output_type": "stream",
          "text": [
            "erro quadratico medio: \n",
            " 1.6512619047619048\n",
            "classification report: \n",
            "               precision    recall  f1-score   support\n",
            "\n",
            "           0       0.95      0.97      0.96      4142\n",
            "           1       0.93      0.97      0.95      4685\n",
            "           2       0.91      0.88      0.89      4141\n",
            "           3       0.89      0.88      0.89      4325\n",
            "           4       0.90      0.91      0.90      4087\n",
            "           5       0.87      0.85      0.86      3848\n",
            "           6       0.93      0.95      0.94      4194\n",
            "           7       0.92      0.92      0.92      4398\n",
            "           8       0.87      0.84      0.86      4076\n",
            "           9       0.87      0.86      0.87      4104\n",
            "\n",
            "    accuracy                           0.91     42000\n",
            "   macro avg       0.90      0.90      0.90     42000\n",
            "weighted avg       0.90      0.91      0.90     42000\n",
            "\n",
            "matrix confusion: \n",
            " [[4032    1    8    9    5   24   28    7   21    7]\n",
            " [   1 4551   27    9    4   23    5   12   46    7]\n",
            " [  28   55 3639   59   59   24   69   73  119   16]\n",
            " [  19   32  110 3803   11  142   20   41   97   50]\n",
            " [  11   24   29    7 3717   12   31   13   40  203]\n",
            " [  51   32   34  162   55 3258   92   23   93   48]\n",
            " [  31   19   33    3   27   57 3999    2   21    2]\n",
            " [  19   35   49   18   62   11    3 4062   15  124]\n",
            " [  35  105   56  126   34  155   40   19 3420   86]\n",
            " [  25   41   26   70  159   44    2  151   44 3542]]\n"
          ],
          "name": "stdout"
        }
      ]
    },
    {
      "cell_type": "markdown",
      "metadata": {
        "id": "OK8O7ANFNUiQ"
      },
      "source": [
        "# 3 Choosing a final model"
      ]
    },
    {
      "cell_type": "code",
      "metadata": {
        "colab": {
          "base_uri": "https://localhost:8080/"
        },
        "id": "8-t6LZk_nJSR",
        "outputId": "fa4cf8f2-92a5-4ab3-e27b-fb11a86be4f7"
      },
      "source": [
        "y_predict_val = clf.predict(D_val)\n",
        "print('clf\\n', clf.score(D_val, y_val))\n",
        "\n",
        "model_selection_val(y_val, y_predict_val)"
      ],
      "execution_count": null,
      "outputs": [
        {
          "output_type": "stream",
          "text": [
            "clf\n",
            " 0.9086666666666666\n",
            "erro quadratico medio: \n",
            " 1.5659444444444444\n",
            "classification report: \n",
            "               precision    recall  f1-score   support\n",
            "\n",
            "           0       0.95      0.96      0.96      1781\n",
            "           1       0.94      0.98      0.96      2057\n",
            "           2       0.92      0.89      0.91      1817\n",
            "           3       0.89      0.86      0.88      1806\n",
            "           4       0.90      0.91      0.90      1755\n",
            "           5       0.86      0.86      0.86      1573\n",
            "           6       0.94      0.95      0.94      1724\n",
            "           7       0.93      0.93      0.93      1867\n",
            "           8       0.88      0.85      0.86      1775\n",
            "           9       0.88      0.88      0.88      1845\n",
            "\n",
            "    accuracy                           0.91     18000\n",
            "   macro avg       0.91      0.91      0.91     18000\n",
            "weighted avg       0.91      0.91      0.91     18000\n",
            "\n",
            "matrix confusion: \n",
            " [[1713    0   11    6    3   14   14    3   15    2]\n",
            " [   0 2009    8    9    2   11    0    0   18    0]\n",
            " [  15   17 1624   30   23    8   19   26   43   12]\n",
            " [   9   12   45 1562    4   87    6   27   41   13]\n",
            " [   3   11   11    1 1591    3   22    5   11   97]\n",
            " [  17    7   13   63   22 1355   30    8   50    8]\n",
            " [   6    5   11    0   21   29 1639    0   12    1]\n",
            " [   6   12   16    7   29    2    0 1729    8   58]\n",
            " [  19   49   26   55   11   55   15    8 1505   32]\n",
            " [  14   11    6   30   63   16    0   61   15 1629]]\n"
          ],
          "name": "stdout"
        }
      ]
    },
    {
      "cell_type": "code",
      "metadata": {
        "colab": {
          "base_uri": "https://localhost:8080/"
        },
        "id": "LY9N7Wmc0alV",
        "outputId": "57814d2f-13b5-43dd-836d-9ec12721b91a"
      },
      "source": [
        "y_predict_nn_val = nn.predict(D_val)\n",
        "print('nn\\n', nn.score(D_val, y_val))\n",
        "\n",
        "model_selection_val(y_val, y_predict_nn_val)"
      ],
      "execution_count": null,
      "outputs": [
        {
          "output_type": "stream",
          "text": [
            "nn\n",
            " 0.9203333333333333\n",
            "erro quadratico medio: \n",
            " 1.3540555555555556\n",
            "classification report: \n",
            "               precision    recall  f1-score   support\n",
            "\n",
            "           0       0.96      0.96      0.96      1781\n",
            "           1       0.96      0.97      0.96      2057\n",
            "           2       0.94      0.91      0.93      1817\n",
            "           3       0.86      0.90      0.88      1806\n",
            "           4       0.91      0.92      0.92      1755\n",
            "           5       0.86      0.90      0.88      1573\n",
            "           6       0.96      0.94      0.95      1724\n",
            "           7       0.94      0.94      0.94      1867\n",
            "           8       0.90      0.85      0.88      1775\n",
            "           9       0.89      0.90      0.90      1845\n",
            "\n",
            "    accuracy                           0.92     18000\n",
            "   macro avg       0.92      0.92      0.92     18000\n",
            "weighted avg       0.92      0.92      0.92     18000\n",
            "\n",
            "matrix confusion: \n",
            " [[1701    0    9   10    3   28   10    1   13    6]\n",
            " [   0 1996    9    5    1   10    1    5   27    3]\n",
            " [   5   16 1659   51   16   15    9   17   27    2]\n",
            " [   6    5   23 1629    3   72    3   25   29   11]\n",
            " [   4    9    8    0 1608    4   14   11   10   87]\n",
            " [   8    2   10   73    9 1420   12    3   27    9]\n",
            " [  12    5    8    2   17   43 1622    0   13    2]\n",
            " [   4   10   18   13   15    4    0 1747    4   52]\n",
            " [  14   31   15   83   12   45   11    8 1516   40]\n",
            " [   9    8    0   20   75    5    0   44   16 1668]]\n"
          ],
          "name": "stdout"
        }
      ]
    },
    {
      "cell_type": "code",
      "metadata": {
        "colab": {
          "base_uri": "https://localhost:8080/"
        },
        "id": "BzpmHayZ0bLb",
        "outputId": "8cdd638d-a1cb-4ced-921f-f72b0de4edb3"
      },
      "source": [
        "y_predict_svm_val = svm_clf.predict(D_val)\n",
        "print('svm\\n', svm_clf.score(D_val, y_val))\n",
        "\n",
        "model_selection_val(y_val, y_predict_svm_val)"
      ],
      "execution_count": null,
      "outputs": [
        {
          "output_type": "stream",
          "text": [
            "svm\n",
            " 0.9004444444444445\n",
            "erro quadratico medio: \n",
            " 1.7382222222222221\n",
            "classification report: \n",
            "               precision    recall  f1-score   support\n",
            "\n",
            "           0       0.94      0.97      0.96      1781\n",
            "           1       0.93      0.97      0.95      2057\n",
            "           2       0.91      0.88      0.89      1817\n",
            "           3       0.88      0.86      0.87      1806\n",
            "           4       0.90      0.90      0.90      1755\n",
            "           5       0.85      0.85      0.85      1573\n",
            "           6       0.94      0.95      0.94      1724\n",
            "           7       0.91      0.92      0.92      1867\n",
            "           8       0.87      0.82      0.85      1775\n",
            "           9       0.87      0.86      0.86      1845\n",
            "\n",
            "    accuracy                           0.90     18000\n",
            "   macro avg       0.90      0.90      0.90     18000\n",
            "weighted avg       0.90      0.90      0.90     18000\n",
            "\n",
            "matrix confusion: \n",
            " [[1728    0    7   10    3    7   14    2   10    0]\n",
            " [   1 2005   12    4    2   11    1    0   19    2]\n",
            " [  17   22 1597   30   24    6   24   39   48   10]\n",
            " [  13   15   49 1553    4   74    9   31   39   19]\n",
            " [   3   16   10    0 1584    9   11    3   13  106]\n",
            " [  21    8   18   72   20 1333   27   12   45   17]\n",
            " [   7    7   13    0   16   27 1641    0   12    1]\n",
            " [   7   14   19    5   35    2    1 1725    8   51]\n",
            " [  21   52   30   57   13   75   22    9 1458   38]\n",
            " [  17   16    8   41   68   21    0   71   19 1584]]\n"
          ],
          "name": "stdout"
        }
      ]
    },
    {
      "cell_type": "markdown",
      "metadata": {
        "id": "bveTKPbjNYUU"
      },
      "source": [
        "# 4 Error estimation"
      ]
    },
    {
      "cell_type": "code",
      "metadata": {
        "colab": {
          "base_uri": "https://localhost:8080/"
        },
        "id": "I6VsfKGs2Uoc",
        "outputId": "a2b2eab0-99ac-42b1-8925-db2c9812c548"
      },
      "source": [
        "y_predict_nn_test = nn.predict(X_test)\n",
        "print('nn\\n', nn.score(X_test, y_test))\n",
        "\n",
        "model_selection_val(y_test, y_predict_nn_test)"
      ],
      "execution_count": null,
      "outputs": [
        {
          "output_type": "stream",
          "text": [
            "nn\n",
            " 0.9255\n",
            "erro quadratico medio: \n",
            " 1.2629\n",
            "classification report: \n",
            "               precision    recall  f1-score   support\n",
            "\n",
            "           0       0.97      0.97      0.97       980\n",
            "           1       0.96      0.97      0.96      1135\n",
            "           2       0.94      0.91      0.92      1032\n",
            "           3       0.88      0.92      0.90      1010\n",
            "           4       0.92      0.94      0.93       982\n",
            "           5       0.88      0.91      0.89       892\n",
            "           6       0.96      0.93      0.94       958\n",
            "           7       0.94      0.91      0.93      1028\n",
            "           8       0.90      0.87      0.89       974\n",
            "           9       0.92      0.90      0.91      1009\n",
            "\n",
            "    accuracy                           0.93     10000\n",
            "   macro avg       0.93      0.92      0.92     10000\n",
            "weighted avg       0.93      0.93      0.93     10000\n",
            "\n",
            "matrix confusion: \n",
            " [[ 955    0    4    2    2    7    5    2    1    2]\n",
            " [   0 1100    3    2    1    0    3    5   21    0]\n",
            " [   5    4  937   20   10   14    7   13   22    0]\n",
            " [   2    2    7  934    2   33    2   11   16    1]\n",
            " [   1    1    9    2  920    8    7    4    3   27]\n",
            " [   3    2    7   40    5  814    6    2    9    4]\n",
            " [  10    4    6    1   10   30  893    0    4    0]\n",
            " [   0   15   15   19    8    2    0  939    2   28]\n",
            " [   7    9    7   40    9   15   10    7  850   20]\n",
            " [   6    9    1    6   37    6    1   18   12  913]]\n"
          ],
          "name": "stdout"
        }
      ]
    },
    {
      "cell_type": "code",
      "metadata": {
        "id": "idgBhdXl7nz0"
      },
      "source": [
        "sklearn.model_selection.cross_val_square(nn, )"
      ],
      "execution_count": null,
      "outputs": []
    },
    {
      "cell_type": "code",
      "metadata": {
        "id": "2VjPN5hZ9Brz"
      },
      "source": [
        "## X_train == D_train U D_val\n",
        "nn2 = MLPClassifier(random_state=0, max_iter=500, learning_rate_init=0.01, hidden_layer_sizes=(10, )).fit(X_train, y_train_padrao)\n",
        "\n",
        "y_predict_nn = nn.predict(X_train)"
      ],
      "execution_count": null,
      "outputs": []
    },
    {
      "cell_type": "code",
      "metadata": {
        "colab": {
          "base_uri": "https://localhost:8080/"
        },
        "id": "AppPCOLM-d3O",
        "outputId": "fc79e04a-bf63-49a2-8ff8-df1d973eb0b0"
      },
      "source": [
        "print('nn treino\\n', nn.score(X_train, y_train))\n",
        "\n",
        "model_selection_val(y_train, y_predict_nn)"
      ],
      "execution_count": null,
      "outputs": [
        {
          "output_type": "stream",
          "text": [
            "nn treino\n",
            " 0.9289\n",
            "erro quadratico medio: \n",
            " 1.2467333333333332\n",
            "classification report: \n",
            "               precision    recall  f1-score   support\n",
            "\n",
            "           0       0.97      0.96      0.97      5923\n",
            "           1       0.96      0.97      0.96      6742\n",
            "           2       0.95      0.92      0.93      5958\n",
            "           3       0.88      0.92      0.90      6131\n",
            "           4       0.92      0.93      0.92      5842\n",
            "           5       0.89      0.91      0.90      5421\n",
            "           6       0.97      0.95      0.96      5918\n",
            "           7       0.95      0.94      0.94      6265\n",
            "           8       0.91      0.87      0.89      5851\n",
            "           9       0.89      0.91      0.90      5949\n",
            "\n",
            "    accuracy                           0.93     60000\n",
            "   macro avg       0.93      0.93      0.93     60000\n",
            "weighted avg       0.93      0.93      0.93     60000\n",
            "\n",
            "matrix confusion: \n",
            " [[5704    1   16   22   15   69   26   10   35   25]\n",
            " [   0 6536   28   19    6   26    5   23   85   14]\n",
            " [  19   50 5471  147   47   39   18   54  107    6]\n",
            " [  11   18   62 5642    5  190    5   54   94   50]\n",
            " [   7   26   34    3 5420   15   37   32   28  240]\n",
            " [  33    9   37  218   35 4934   37   11   65   42]\n",
            " [  55   14   26    8   54  124 5596    0   38    3]\n",
            " [  12   33   58   51   53    9    0 5899    8  142]\n",
            " [  35   94   38  231   33  144   29   20 5110  117]\n",
            " [  20   26    1   56  236   23    2  127   36 5422]]\n"
          ],
          "name": "stdout"
        }
      ]
    },
    {
      "cell_type": "code",
      "metadata": {
        "colab": {
          "base_uri": "https://localhost:8080/"
        },
        "id": "VNHrWwb7-SlA",
        "outputId": "1faeacf2-262d-41ba-ff8e-734714e38f65"
      },
      "source": [
        "y_predict_nn_test = nn.predict(X_test)\n",
        "print('nn\\n', nn.score(X_test, y_test))\n",
        "\n",
        "model_selection_val(y_test, y_predict_nn_test)"
      ],
      "execution_count": null,
      "outputs": [
        {
          "output_type": "stream",
          "text": [
            "nn\n",
            " 0.9255\n",
            "erro quadratico medio: \n",
            " 1.2629\n",
            "classification report: \n",
            "               precision    recall  f1-score   support\n",
            "\n",
            "           0       0.97      0.97      0.97       980\n",
            "           1       0.96      0.97      0.96      1135\n",
            "           2       0.94      0.91      0.92      1032\n",
            "           3       0.88      0.92      0.90      1010\n",
            "           4       0.92      0.94      0.93       982\n",
            "           5       0.88      0.91      0.89       892\n",
            "           6       0.96      0.93      0.94       958\n",
            "           7       0.94      0.91      0.93      1028\n",
            "           8       0.90      0.87      0.89       974\n",
            "           9       0.92      0.90      0.91      1009\n",
            "\n",
            "    accuracy                           0.93     10000\n",
            "   macro avg       0.93      0.92      0.92     10000\n",
            "weighted avg       0.93      0.93      0.93     10000\n",
            "\n",
            "matrix confusion: \n",
            " [[ 955    0    4    2    2    7    5    2    1    2]\n",
            " [   0 1100    3    2    1    0    3    5   21    0]\n",
            " [   5    4  937   20   10   14    7   13   22    0]\n",
            " [   2    2    7  934    2   33    2   11   16    1]\n",
            " [   1    1    9    2  920    8    7    4    3   27]\n",
            " [   3    2    7   40    5  814    6    2    9    4]\n",
            " [  10    4    6    1   10   30  893    0    4    0]\n",
            " [   0   15   15   19    8    2    0  939    2   28]\n",
            " [   7    9    7   40    9   15   10    7  850   20]\n",
            " [   6    9    1    6   37    6    1   18   12  913]]\n"
          ],
          "name": "stdout"
        }
      ]
    }
  ]
}