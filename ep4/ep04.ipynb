{
 "cells": [
  {
   "cell_type": "code",
   "execution_count": 2,
   "metadata": {
    "colab": {
     "base_uri": "https://localhost:8080/"
    },
    "id": "daGWjDiHLetV",
    "outputId": "4ddbe60e-e84a-44f7-9e94-047ae1ef8849"
   },
   "outputs": [
    {
     "name": "stdout",
     "output_type": "stream",
     "text": [
      "\n",
      "Name:  Daniela Gonzalez Favero\n",
      "\n",
      "Honor pledge:  I affirm that I have not given or received any unauthorized help on this assignment, and that this work is my own.\n",
      "\n",
      "\n",
      "Name:  Miguel Pereira Ostrowski\n",
      "\n",
      "Honor pledge:  I affirm that I have not given or received any unauthorized help on this assignment, and that this work is my own.\n",
      "\n"
     ]
    }
   ],
   "source": [
    "name1 = \"Daniela Gonzalez Favero\" \n",
    "name2 = \"Miguel Pereira Ostrowski\"\n",
    "\n",
    "honorPledge = \"I affirm that I have not given or received any unauthorized \" \\\n",
    "              \"help on this assignment, and that this work is my own.\\n\"\n",
    "\n",
    "\n",
    "print(\"\\nName: \", name1)\n",
    "print(\"\\nHonor pledge: \", honorPledge)\n",
    "\n",
    "print(\"\\nName: \", name2)\n",
    "print(\"\\nHonor pledge: \", honorPledge)"
   ]
  },
  {
   "cell_type": "markdown",
   "metadata": {
    "id": "L5uRbVdWMREt"
   },
   "source": [
    "# MAC0460 / MAC5832 (2021)\n",
    "---\n",
    "\n",
    "## EP4\n",
    "\n",
    "### Objectives:\n",
    "The aim of this EP is to\n",
    "- Practice training of linear, neural networks, and SVMs classifiers using the scikit-learn library (https://scikit-learn.org/)\n",
    "- Practice model evaluation, comparison and selection\n",
    "- Produce a summary report on the performed experiments and main findings\n"
   ]
  },
  {
   "cell_type": "code",
   "execution_count": 3,
   "metadata": {
    "id": "YZ7BAOt9Leta",
    "scrolled": false
   },
   "outputs": [],
   "source": [
    "# All imports\n",
    "\n",
    "import numpy as np\n",
    "import matplotlib.pyplot as plt\n",
    "from tensorflow.keras.datasets import mnist\n",
    "\n",
    "from sklearn.model_selection import train_test_split\n",
    "\n",
    "from sklearn.linear_model import LogisticRegression\n",
    "from sklearn.svm import LinearSVC\n",
    "from sklearn.neural_network import MLPClassifier\n",
    "\n",
    "from sklearn.metrics import mean_squared_error, classification_report, confusion_matrix\n",
    "from sklearn.model_selection import GridSearchCV\n",
    "\n",
    "%matplotlib inline"
   ]
  },
  {
   "cell_type": "markdown",
   "metadata": {
    "id": "Xd43x36LNHw9"
   },
   "source": [
    "# 1. Dataset preparation\n",
    "## 1.1. Downloading data\n",
    "Reading the MNIST dataset using the `tensorflow.keras` library:"
   ]
  },
  {
   "cell_type": "code",
   "execution_count": 4,
   "metadata": {
    "colab": {
     "base_uri": "https://localhost:8080/"
    },
    "id": "m-Tf8UO4Letb",
    "outputId": "ba3fcaa1-31ed-440f-cfcb-da3d213e6277"
   },
   "outputs": [
    {
     "name": "stdout",
     "output_type": "stream",
     "text": [
      "(60000, 28, 28) (60000,)\n",
      "(10000, 28, 28) (10000,)\n"
     ]
    }
   ],
   "source": [
    "(X_train_ori, y_train_ori), (X_test_ori, y_test_ori) = mnist.load_data()\n",
    "\n",
    "print(X_train_ori.shape, y_train_ori.shape)\n",
    "print(X_test_ori.shape, y_test_ori.shape)"
   ]
  },
  {
   "cell_type": "code",
   "execution_count": 5,
   "metadata": {
    "colab": {
     "base_uri": "https://localhost:8080/",
     "height": 295
    },
    "id": "ltIuMQZVLetb",
    "outputId": "8a0d2729-5d3e-4af6-f472-d78545d66e5c"
   },
   "outputs": [
    {
     "data": {
      "image/png": "[encoded data removed]",
      "text/plain": [
       "<Figure size 432x288 with 1 Axes>"
      ]
     },
     "metadata": {
      "needs_background": "light"
     },
     "output_type": "display_data"
    }
   ],
   "source": [
    "labels = [\"%s\"%i for i in range(10)]\n",
    "\n",
    "unique, counts = np.unique(y_train_ori, return_counts=True)\n",
    "uniquet, countst = np.unique(y_test_ori, return_counts=True)\n",
    "\n",
    "fig, ax = plt.subplots()\n",
    "rects1 = ax.bar(unique - 0.2, counts, 0.25, label='Train')\n",
    "rects2 = ax.bar(unique + 0.2, countst, 0.25, label='Test')\n",
    "ax.legend()\n",
    "ax.set_xticks(unique)\n",
    "ax.set_xticklabels(labels)\n",
    "\n",
    "plt.title('MNIST classes')\n",
    "plt.xlabel('Class')\n",
    "plt.ylabel('Frequency')\n",
    "plt.show()"
   ]
  },
  {
   "cell_type": "code",
   "execution_count": 6,
   "metadata": {
    "colab": {
     "base_uri": "https://localhost:8080/",
     "height": 373
    },
    "id": "d2KnbATeLetc",
    "outputId": "d1d50c75-b6da-46b5-b45b-f0cc6ad3bdc2"
   },
   "outputs": [
    {
     "data": {
      "image/png": "[encoded data removed]",
      "text/plain": [
       "<Figure size 648x432 with 6 Axes>"
      ]
     },
     "metadata": {
      "needs_background": "light"
     },
     "output_type": "display_data"
    }
   ],
   "source": [
    "fig, ax = plt.subplots(2, 3, figsize = (9, 6))\n",
    "\n",
    "for i in range(6):\n",
    "    ax[i//3, i%3].imshow(X_train_ori[i], cmap='gray')\n",
    "    ax[i//3, i%3].axis('off')\n",
    "    ax[i//3, i%3].set_title(\"Class: %d\"%y_train_ori[i])\n",
    "    \n",
    "plt.show()"
   ]
  },
  {
   "cell_type": "markdown",
   "metadata": {
    "id": "LHTViEENqTOS"
   },
   "source": [
    "## 1.2. Preprocessing\n",
    "Reducing the image size:"
   ]
  },
  {
   "cell_type": "code",
   "execution_count": 7,
   "metadata": {
    "id": "3wn9ExOMLetd"
   },
   "outputs": [],
   "source": [
    "# Reduce the image size to its half \n",
    "X_train = np.array([image[::2, 1::2] for image in X_train_ori])\n",
    "X_test  = np.array([image[::2, 1::2] for image in X_test_ori])\n",
    "\n",
    "y_train = y_train_ori\n",
    "y_test = y_test_ori\n",
    "\n",
    "y_train_padrao = y_train"
   ]
  },
  {
   "cell_type": "code",
   "execution_count": 8,
   "metadata": {
    "colab": {
     "base_uri": "https://localhost:8080/",
     "height": 373
    },
    "id": "jNtkwQ_KLetd",
    "outputId": "a6c88510-1efa-4908-a146-ee87eb4f94a5"
   },
   "outputs": [
    {
     "data": {
      "image/png": "[encoded data removed]",
      "text/plain": [
       "<Figure size 648x432 with 6 Axes>"
      ]
     },
     "metadata": {
      "needs_background": "light"
     },
     "output_type": "display_data"
    }
   ],
   "source": [
    "fig, ax = plt.subplots(2, 3, figsize = (9, 6))\n",
    "\n",
    "for i in range(6):\n",
    "    ax[i//3, i%3].imshow(X_train[i], cmap='gray')\n",
    "    ax[i//3, i%3].axis('off')\n",
    "    ax[i//3, i%3].set_title(\"Class: %d\"%y_train_ori[i])\n",
    "    \n",
    "plt.show()"
   ]
  },
  {
   "cell_type": "markdown",
   "metadata": {
    "id": "pQhfQxXlp_5h"
   },
   "source": [
    "Normalizing the intensities to the interval $[0, 1]$:"
   ]
  },
  {
   "cell_type": "code",
   "execution_count": 9,
   "metadata": {
    "colab": {
     "base_uri": "https://localhost:8080/"
    },
    "id": "w9EhwWosLete",
    "outputId": "54d93434-3eec-425e-e0de-a12eeaad4d45"
   },
   "outputs": [
    {
     "name": "stdout",
     "output_type": "stream",
     "text": [
      "float32\n",
      "float32\n",
      "\n",
      "Shape of X_train:  (60000, 196)\n",
      "Shape of X_test:  (10000, 196)\n",
      "\n",
      "Minimum value in X_train: 0.0\n",
      "Maximum value in X_train: 1.0\n",
      "\n",
      "Minimum value in X_test: 0.0\n",
      "Maximum value in X_test: 1.0\n"
     ]
    }
   ],
   "source": [
    "X_train = (X_train/255.0).astype('float32').reshape((60000,14*14))\n",
    "X_test = (X_test/255.0).astype('float32').reshape((10000,14*14))\n",
    "\n",
    "print(X_train.dtype)\n",
    "print(X_test.dtype)\n",
    "\n",
    "print(\"\\nShape of X_train: \", X_train.shape)\n",
    "print(\"Shape of X_test: \", X_test.shape)\n",
    "\n",
    "print(\"\\nMinimum value in X_train:\", np.amin(X_train))\n",
    "print(\"Maximum value in X_train:\", np.amax(X_train))\n",
    "\n",
    "print(\"\\nMinimum value in X_test:\", np.amin(X_test))\n",
    "print(\"Maximum value in X_test:\", np.amax(X_test))\n"
   ]
  },
  {
   "cell_type": "markdown",
   "metadata": {
    "id": "PAXBYpmSq2os"
   },
   "source": [
    "## 1.3. Partitioning dataset\n",
    "Partitioning the original training set into 70% training ($D_{train}$) and 30% validation ($D_{val}$) sets, in a stratified way:\n"
   ]
  },
  {
   "cell_type": "code",
   "execution_count": 10,
   "metadata": {
    "colab": {
     "base_uri": "https://localhost:8080/"
    },
    "id": "GAL2P834UEqu",
    "outputId": "6755c165-33e0-484c-99c7-0cc6565239d5"
   },
   "outputs": [
    {
     "name": "stdout",
     "output_type": "stream",
     "text": [
      "(42000, 196)\n",
      "(18000, 196)\n",
      "(42000,)\n",
      "(18000,)\n"
     ]
    }
   ],
   "source": [
    "SEED = 512\n",
    "FRACTION = 30/100\n",
    "D_train, D_val, y_train, y_val = train_test_split(X_train, \n",
    "                                                  y_train, \n",
    "                                                  test_size=FRACTION, \n",
    "                                                  random_state=SEED\n",
    "                                                 )\n",
    "\n",
    "print(D_train.shape)\n",
    "print(D_val.shape)\n",
    "print(y_train.shape)\n",
    "print(y_val.shape)"
   ]
  },
  {
   "cell_type": "markdown",
   "metadata": {
    "id": "KAMBy_iANQPw"
   },
   "source": [
    "# 2. Training, evaluating and selecting models\n",
    "Now, we will use $D_{train}$ to train and select three models: a logistic regression model, a neural network model, and a SVM model."
   ]
  },
  {
   "cell_type": "markdown",
   "metadata": {
    "id": "ZjTQR_EsrkVf"
   },
   "source": [
    "\n",
    "## 2.1. Model selection method\n",
    "\n",
    "\n",
    "To test different values for hyperparameters and choose the most adequate model, we use the `scikit-learn` library's class `GridSearchCV`. Defining some candidates to hyperparameters, the class will print some metrics and show how we should select the models.\n",
    "\n",
    "After that, we use some metrics implemented in `scikit-learn` library in the `model_selection_metrics()` function, to conclude the choices we made."
   ]
  },
  {
   "cell_type": "code",
   "execution_count": 11,
   "metadata": {
    "id": "tG6ZPY5GpM7Z"
   },
   "outputs": [],
   "source": [
    "def model_selection_metrics(y, y_predict):\n",
    "    \"\"\"\n",
    "    Computes three different metrics to evaluate model performance: 'Mean \n",
    "    squared error', 'Classification report' (several metrics, such as precision,\n",
    "    recall, etc) and the 'Confusion matrix'\n",
    "    :param y: class labels\n",
    "    :type y: np.ndarray(shape=(N, ))\n",
    "    :param y_predict: predicted class labels\n",
    "    :type y_predict: np.ndarray(shape=(N, ))\n",
    "    \"\"\"  \n",
    "\n",
    "    print()\n",
    "    print(\"Mean squared error:\\n\", mean_squared_error(y, y_predict))\n",
    "\n",
    "    print()\n",
    "    print(\"Classification report:\\n\", classification_report(y, y_predict))\n",
    "\n",
    "    print()\n",
    "    print(\"Confusion matrix:\\n\", confusion_matrix(y, y_predict))"
   ]
  },
  {
   "cell_type": "markdown",
   "metadata": {
    "id": "If9Wd1DFempX"
   },
   "source": [
    "## 2.2. Logistic Regression\n",
    "Firstly, we use the `GridSearchCV` to find the best cadidates to parameters of the Logistic Regression:"
   ]
  },
  {
   "cell_type": "code",
   "execution_count": 32,
   "metadata": {
    "colab": {
     "base_uri": "https://localhost:8080/"
    },
    "id": "vLL6oBMjCExK",
    "outputId": "258d7753-0a3c-4c1d-83ef-e840787fcde1"
   },
   "outputs": [
    {
     "name": "stdout",
     "output_type": "stream",
     "text": [
      "# Tuning hyper-parameters for precision\n",
      "\n",
      "Best parameters set found on development set:\n",
      "\n",
      "{'C': 10.0, 'max_iter': 3000, 'penalty': 'l2', 'random_state': 512, 'solver': 'lbfgs'}\n",
      "\n",
      "Grid scores on development set:\n",
      "\n",
      "0.848 (+/-0.007) for {'C': 0.001, 'max_iter': 3000, 'penalty': 'l2', 'random_state': 512, 'solver': 'newton-cg'}\n",
      "0.848 (+/-0.007) for {'C': 0.001, 'max_iter': 3000, 'penalty': 'l2', 'random_state': 512, 'solver': 'lbfgs'}\n",
      "0.848 (+/-0.007) for {'C': 0.001, 'max_iter': 3000, 'penalty': 'l2', 'random_state': 512, 'solver': 'sag'}\n",
      "0.885 (+/-0.006) for {'C': 0.01, 'max_iter': 3000, 'penalty': 'l2', 'random_state': 512, 'solver': 'newton-cg'}\n",
      "0.885 (+/-0.005) for {'C': 0.01, 'max_iter': 3000, 'penalty': 'l2', 'random_state': 512, 'solver': 'lbfgs'}\n",
      "0.885 (+/-0.006) for {'C': 0.01, 'max_iter': 3000, 'penalty': 'l2', 'random_state': 512, 'solver': 'sag'}\n",
      "0.903 (+/-0.008) for {'C': 0.1, 'max_iter': 3000, 'penalty': 'l2', 'random_state': 512, 'solver': 'newton-cg'}\n",
      "0.903 (+/-0.008) for {'C': 0.1, 'max_iter': 3000, 'penalty': 'l2', 'random_state': 512, 'solver': 'lbfgs'}\n",
      "0.903 (+/-0.008) for {'C': 0.1, 'max_iter': 3000, 'penalty': 'l2', 'random_state': 512, 'solver': 'sag'}\n",
      "0.907 (+/-0.009) for {'C': 1.0, 'max_iter': 3000, 'penalty': 'l2', 'random_state': 512, 'solver': 'newton-cg'}\n",
      "0.907 (+/-0.009) for {'C': 1.0, 'max_iter': 3000, 'penalty': 'l2', 'random_state': 512, 'solver': 'lbfgs'}\n",
      "0.907 (+/-0.009) for {'C': 1.0, 'max_iter': 3000, 'penalty': 'l2', 'random_state': 512, 'solver': 'sag'}\n",
      "0.908 (+/-0.010) for {'C': 10.0, 'max_iter': 3000, 'penalty': 'l2', 'random_state': 512, 'solver': 'newton-cg'}\n",
      "0.908 (+/-0.010) for {'C': 10.0, 'max_iter': 3000, 'penalty': 'l2', 'random_state': 512, 'solver': 'lbfgs'}\n",
      "0.908 (+/-0.010) for {'C': 10.0, 'max_iter': 3000, 'penalty': 'l2', 'random_state': 512, 'solver': 'sag'}\n",
      "0.907 (+/-0.009) for {'C': 100.0, 'max_iter': 3000, 'penalty': 'l2', 'random_state': 512, 'solver': 'newton-cg'}\n",
      "0.907 (+/-0.009) for {'C': 100.0, 'max_iter': 3000, 'penalty': 'l2', 'random_state': 512, 'solver': 'lbfgs'}\n",
      "0.907 (+/-0.009) for {'C': 100.0, 'max_iter': 3000, 'penalty': 'l2', 'random_state': 512, 'solver': 'sag'}\n",
      "0.907 (+/-0.009) for {'C': 1000.0, 'max_iter': 3000, 'penalty': 'l2', 'random_state': 512, 'solver': 'newton-cg'}\n",
      "0.907 (+/-0.009) for {'C': 1000.0, 'max_iter': 3000, 'penalty': 'l2', 'random_state': 512, 'solver': 'lbfgs'}\n",
      "0.907 (+/-0.009) for {'C': 1000.0, 'max_iter': 3000, 'penalty': 'l2', 'random_state': 512, 'solver': 'sag'}\n",
      "0.590 (+/-0.017) for {'C': 0.001, 'max_iter': 3000, 'penalty': 'l1', 'random_state': 512, 'solver': 'liblinear'}\n",
      "0.840 (+/-0.006) for {'C': 0.001, 'max_iter': 3000, 'penalty': 'l2', 'random_state': 512, 'solver': 'liblinear'}\n",
      "0.855 (+/-0.006) for {'C': 0.01, 'max_iter': 3000, 'penalty': 'l1', 'random_state': 512, 'solver': 'liblinear'}\n",
      "0.876 (+/-0.002) for {'C': 0.01, 'max_iter': 3000, 'penalty': 'l2', 'random_state': 512, 'solver': 'liblinear'}\n",
      "0.892 (+/-0.004) for {'C': 0.1, 'max_iter': 3000, 'penalty': 'l1', 'random_state': 512, 'solver': 'liblinear'}\n",
      "0.893 (+/-0.005) for {'C': 0.1, 'max_iter': 3000, 'penalty': 'l2', 'random_state': 512, 'solver': 'liblinear'}\n",
      "0.900 (+/-0.005) for {'C': 1.0, 'max_iter': 3000, 'penalty': 'l1', 'random_state': 512, 'solver': 'liblinear'}\n",
      "0.899 (+/-0.005) for {'C': 1.0, 'max_iter': 3000, 'penalty': 'l2', 'random_state': 512, 'solver': 'liblinear'}\n",
      "0.901 (+/-0.005) for {'C': 10.0, 'max_iter': 3000, 'penalty': 'l1', 'random_state': 512, 'solver': 'liblinear'}\n",
      "0.901 (+/-0.005) for {'C': 10.0, 'max_iter': 3000, 'penalty': 'l2', 'random_state': 512, 'solver': 'liblinear'}\n",
      "0.901 (+/-0.005) for {'C': 100.0, 'max_iter': 3000, 'penalty': 'l1', 'random_state': 512, 'solver': 'liblinear'}\n",
      "0.901 (+/-0.005) for {'C': 100.0, 'max_iter': 3000, 'penalty': 'l2', 'random_state': 512, 'solver': 'liblinear'}\n",
      "0.901 (+/-0.006) for {'C': 1000.0, 'max_iter': 3000, 'penalty': 'l1', 'random_state': 512, 'solver': 'liblinear'}\n",
      "0.901 (+/-0.005) for {'C': 1000.0, 'max_iter': 3000, 'penalty': 'l2', 'random_state': 512, 'solver': 'liblinear'}\n",
      "# Tuning hyper-parameters for recall\n",
      "\n",
      "Best parameters set found on development set:\n",
      "\n",
      "{'C': 10.0, 'max_iter': 3000, 'penalty': 'l2', 'random_state': 512, 'solver': 'lbfgs'}\n",
      "\n",
      "Grid scores on development set:\n",
      "\n",
      "0.843 (+/-0.007) for {'C': 0.001, 'max_iter': 3000, 'penalty': 'l2', 'random_state': 512, 'solver': 'newton-cg'}\n",
      "0.843 (+/-0.007) for {'C': 0.001, 'max_iter': 3000, 'penalty': 'l2', 'random_state': 512, 'solver': 'lbfgs'}\n",
      "0.843 (+/-0.007) for {'C': 0.001, 'max_iter': 3000, 'penalty': 'l2', 'random_state': 512, 'solver': 'sag'}\n",
      "0.884 (+/-0.006) for {'C': 0.01, 'max_iter': 3000, 'penalty': 'l2', 'random_state': 512, 'solver': 'newton-cg'}\n",
      "0.884 (+/-0.006) for {'C': 0.01, 'max_iter': 3000, 'penalty': 'l2', 'random_state': 512, 'solver': 'lbfgs'}\n",
      "0.884 (+/-0.006) for {'C': 0.01, 'max_iter': 3000, 'penalty': 'l2', 'random_state': 512, 'solver': 'sag'}\n",
      "0.902 (+/-0.008) for {'C': 0.1, 'max_iter': 3000, 'penalty': 'l2', 'random_state': 512, 'solver': 'newton-cg'}\n",
      "0.902 (+/-0.008) for {'C': 0.1, 'max_iter': 3000, 'penalty': 'l2', 'random_state': 512, 'solver': 'lbfgs'}\n",
      "0.903 (+/-0.008) for {'C': 0.1, 'max_iter': 3000, 'penalty': 'l2', 'random_state': 512, 'solver': 'sag'}\n",
      "0.907 (+/-0.009) for {'C': 1.0, 'max_iter': 3000, 'penalty': 'l2', 'random_state': 512, 'solver': 'newton-cg'}\n",
      "0.907 (+/-0.009) for {'C': 1.0, 'max_iter': 3000, 'penalty': 'l2', 'random_state': 512, 'solver': 'lbfgs'}\n",
      "0.907 (+/-0.009) for {'C': 1.0, 'max_iter': 3000, 'penalty': 'l2', 'random_state': 512, 'solver': 'sag'}\n",
      "0.907 (+/-0.010) for {'C': 10.0, 'max_iter': 3000, 'penalty': 'l2', 'random_state': 512, 'solver': 'newton-cg'}\n",
      "0.907 (+/-0.010) for {'C': 10.0, 'max_iter': 3000, 'penalty': 'l2', 'random_state': 512, 'solver': 'lbfgs'}\n",
      "0.907 (+/-0.010) for {'C': 10.0, 'max_iter': 3000, 'penalty': 'l2', 'random_state': 512, 'solver': 'sag'}\n",
      "0.907 (+/-0.009) for {'C': 100.0, 'max_iter': 3000, 'penalty': 'l2', 'random_state': 512, 'solver': 'newton-cg'}\n",
      "0.907 (+/-0.009) for {'C': 100.0, 'max_iter': 3000, 'penalty': 'l2', 'random_state': 512, 'solver': 'lbfgs'}\n",
      "0.907 (+/-0.009) for {'C': 100.0, 'max_iter': 3000, 'penalty': 'l2', 'random_state': 512, 'solver': 'sag'}\n",
      "0.907 (+/-0.009) for {'C': 1000.0, 'max_iter': 3000, 'penalty': 'l2', 'random_state': 512, 'solver': 'newton-cg'}\n",
      "0.907 (+/-0.009) for {'C': 1000.0, 'max_iter': 3000, 'penalty': 'l2', 'random_state': 512, 'solver': 'lbfgs'}\n",
      "0.907 (+/-0.009) for {'C': 1000.0, 'max_iter': 3000, 'penalty': 'l2', 'random_state': 512, 'solver': 'sag'}\n",
      "0.553 (+/-0.005) for {'C': 0.001, 'max_iter': 3000, 'penalty': 'l1', 'random_state': 512, 'solver': 'liblinear'}\n",
      "0.833 (+/-0.006) for {'C': 0.001, 'max_iter': 3000, 'penalty': 'l2', 'random_state': 512, 'solver': 'liblinear'}\n",
      "0.853 (+/-0.006) for {'C': 0.01, 'max_iter': 3000, 'penalty': 'l1', 'random_state': 512, 'solver': 'liblinear'}\n",
      "0.874 (+/-0.003) for {'C': 0.01, 'max_iter': 3000, 'penalty': 'l2', 'random_state': 512, 'solver': 'liblinear'}\n",
      "0.892 (+/-0.005) for {'C': 0.1, 'max_iter': 3000, 'penalty': 'l1', 'random_state': 512, 'solver': 'liblinear'}\n",
      "0.893 (+/-0.005) for {'C': 0.1, 'max_iter': 3000, 'penalty': 'l2', 'random_state': 512, 'solver': 'liblinear'}\n",
      "0.900 (+/-0.005) for {'C': 1.0, 'max_iter': 3000, 'penalty': 'l1', 'random_state': 512, 'solver': 'liblinear'}\n",
      "0.899 (+/-0.006) for {'C': 1.0, 'max_iter': 3000, 'penalty': 'l2', 'random_state': 512, 'solver': 'liblinear'}\n",
      "0.901 (+/-0.005) for {'C': 10.0, 'max_iter': 3000, 'penalty': 'l1', 'random_state': 512, 'solver': 'liblinear'}\n",
      "0.900 (+/-0.005) for {'C': 10.0, 'max_iter': 3000, 'penalty': 'l2', 'random_state': 512, 'solver': 'liblinear'}\n",
      "0.901 (+/-0.005) for {'C': 100.0, 'max_iter': 3000, 'penalty': 'l1', 'random_state': 512, 'solver': 'liblinear'}\n",
      "0.901 (+/-0.005) for {'C': 100.0, 'max_iter': 3000, 'penalty': 'l2', 'random_state': 512, 'solver': 'liblinear'}\n",
      "0.901 (+/-0.006) for {'C': 1000.0, 'max_iter': 3000, 'penalty': 'l1', 'random_state': 512, 'solver': 'liblinear'}\n",
      "0.901 (+/-0.005) for {'C': 1000.0, 'max_iter': 3000, 'penalty': 'l2', 'random_state': 512, 'solver': 'liblinear'}\n"
     ]
    }
   ],
   "source": [
    "tuned_parameters = [{'C':            np.logspace(-3,3,7),\n",
    "                     'penalty':      ['l2'],\n",
    "                     'solver':       ['newton-cg', 'lbfgs', 'sag'],\n",
    "                     'random_state': [SEED],\n",
    "                     'max_iter':     [3000]},\n",
    "                     {'C':           np.logspace(-3,3,7),\n",
    "                     'penalty':      ['l1', 'l2'],\n",
    "                     'solver':       ['liblinear'],\n",
    "                     'random_state': [SEED],\n",
    "                     'max_iter':     [3000]}\n",
    "                     ]\n",
    "\n",
    "scores = ['precision', 'recall']\n",
    "\n",
    "for score in scores:\n",
    "    print(\"# Tuning hyper-parameters for %s\" % score)\n",
    "    print()\n",
    "\n",
    "    clf = GridSearchCV(\n",
    "        LogisticRegression(), tuned_parameters, scoring='%s_macro' % score, n_jobs=-1\n",
    "    )\n",
    "    clf.fit(D_train, y_train)\n",
    "\n",
    "    print(\"Best parameters set found on development set:\")\n",
    "    print()\n",
    "    print(clf.best_params_)\n",
    "    print()\n",
    "    print(\"Grid scores on development set:\")\n",
    "    print()\n",
    "    means = clf.cv_results_['mean_test_score']\n",
    "    stds = clf.cv_results_['std_test_score']\n",
    "    for mean, std, params in zip(means, stds, clf.cv_results_['params']):\n",
    "        print(\"%0.3f (+/-%0.03f) for %r\"\n",
    "              % (mean, std * 2, params))"
   ]
  },
  {
   "cell_type": "markdown",
   "metadata": {
    "id": "rJiNM0R7FXm_"
   },
   "source": [
    "Thus, we conclude that the best parameters in this model are:\n",
    "```\n",
    "C = 10,\n",
    "penalty = 'l2',\n",
    "solver = 'lbfgs',\n",
    "max_iter: 5000\n",
    "```\n",
    "**Notes:**\n",
    "- The selection of `max_iter` took into account how many iterations were necessary so that the model would converge, and it was adjusted manually;\n",
    "- The selection of `dual` was made when we realized that when `dual = True`, the execution would take too long to finish. Besides that, the [documentation](https://scikit-learn.org/stable/modules/generated/sklearn.linear_model.LogisticRegression.html) itself stated that we should prefer `dual = False` when `n_samples > n_features`, which is the case.\n",
    "\n",
    "Now, let's use the `scikit-learn` library implementation of Logistic Regression to train the dataset with the chosen parameters:"
   ]
  },
  {
   "cell_type": "code",
   "execution_count": 12,
   "metadata": {
    "id": "nNslUgI4a8x_"
   },
   "outputs": [],
   "source": [
    "# training\n",
    "clf = LogisticRegression(C=10.0, random_state=SEED, max_iter=3000).fit(D_train, y_train)\n",
    "\n",
    "# predicting\n",
    "y_predict = clf.predict(D_train)"
   ]
  },
  {
   "cell_type": "markdown",
   "metadata": {
    "id": "qTjXhyHNudIz"
   },
   "source": [
    "Printing performance metrics such as the *classifier score* and the *model selection method* that we defined previously:"
   ]
  },
  {
   "cell_type": "code",
   "execution_count": 13,
   "metadata": {
    "id": "6WYDkbIreEVW"
   },
   "outputs": [
    {
     "name": "stdout",
     "output_type": "stream",
     "text": [
      "\n",
      "Classifier score:\n",
      " 0.9173809523809524\n",
      "\n",
      "\n",
      "Mean squared error:\n",
      " 1.4125714285714286\n",
      "\n",
      "Classification report:\n",
      "               precision    recall  f1-score   support\n",
      "\n",
      "           0       0.96      0.97      0.96      4142\n",
      "           1       0.94      0.97      0.96      4685\n",
      "           2       0.92      0.89      0.91      4141\n",
      "           3       0.91      0.89      0.90      4325\n",
      "           4       0.92      0.92      0.92      4087\n",
      "           5       0.88      0.87      0.88      3848\n",
      "           6       0.94      0.96      0.95      4194\n",
      "           7       0.93      0.93      0.93      4398\n",
      "           8       0.89      0.88      0.88      4076\n",
      "           9       0.88      0.89      0.89      4104\n",
      "\n",
      "    accuracy                           0.92     42000\n",
      "   macro avg       0.92      0.92      0.92     42000\n",
      "weighted avg       0.92      0.92      0.92     42000\n",
      "\n",
      "\n",
      "Confusion matrix:\n",
      " [[4004    1   12    5    9   38   31   10   29    3]\n",
      " [   1 4545   23   14    4   21    2   13   54    8]\n",
      " [  22   43 3703   63   50   23   56   61  106   14]\n",
      " [  15   26   98 3830    5  165   15   33   91   47]\n",
      " [   8   23   27    4 3759    7   35   15   27  182]\n",
      " [  40   21   29  139   40 3359   73   14   89   44]\n",
      " [  29   16   28    2   37   49 4008    2   22    1]\n",
      " [  14   26   53   13   46    6    3 4081    9  147]\n",
      " [  25   79   44  118   22  112   34   14 3569   59]\n",
      " [  15   30   12   39  134   36    2  135   29 3672]]\n"
     ]
    }
   ],
   "source": [
    "print()\n",
    "print(\"Classifier score:\\n\" , clf.score(D_train, y_train))\n",
    "\n",
    "print()\n",
    "model_selection_metrics(y_train, y_predict)"
   ]
  },
  {
   "cell_type": "markdown",
   "metadata": {
    "id": "ejvRxUFOkEkc"
   },
   "source": [
    "## 2.3. Neural Network\n",
    "Now, we use the `GridSearchCV` to find the best candidates to parameters of the Multi-layer Perceptron:"
   ]
  },
  {
   "cell_type": "code",
   "execution_count": 19,
   "metadata": {
    "id": "mG6odelaEWP2"
   },
   "outputs": [
    {
     "name": "stdout",
     "output_type": "stream",
     "text": [
      "# Tuning hyper-parameters for precision\n",
      "\n"
     ]
    },
    {
     "name": "stderr",
     "output_type": "stream",
     "text": [
      "C:\\Users\\Miguel\\AppData\\Local\\Programs\\Python\\Python39\\lib\\site-packages\\sklearn\\neural_network\\_multilayer_perceptron.py:614: ConvergenceWarning: Stochastic Optimizer: Maximum iterations (500) reached and the optimization hasn't converged yet.\n",
      "  warnings.warn(\n"
     ]
    },
    {
     "name": "stdout",
     "output_type": "stream",
     "text": [
      "Best parameters set found on development set:\n",
      "\n",
      "{'activation': 'relu', 'alpha': 0.0001, 'hidden_layer_sizes': 13, 'learning_rate_init': 0.01, 'max_iter': 500, 'random_state': 512, 'solver': 'sgd'}\n",
      "\n",
      "Grid scores on development set:\n",
      "\n",
      "0.908 (+/-0.009) for {'activation': 'identity', 'alpha': 0.0001, 'hidden_layer_sizes': 10, 'learning_rate_init': 0.001, 'max_iter': 500, 'random_state': 512, 'solver': 'lbfgs'}\n",
      "0.905 (+/-0.009) for {'activation': 'identity', 'alpha': 0.0001, 'hidden_layer_sizes': 10, 'learning_rate_init': 0.001, 'max_iter': 500, 'random_state': 512, 'solver': 'sgd'}\n",
      "0.908 (+/-0.008) for {'activation': 'identity', 'alpha': 0.0001, 'hidden_layer_sizes': 10, 'learning_rate_init': 0.001, 'max_iter': 500, 'random_state': 512, 'solver': 'adam'}\n",
      "0.908 (+/-0.009) for {'activation': 'identity', 'alpha': 0.0001, 'hidden_layer_sizes': 10, 'learning_rate_init': 0.01, 'max_iter': 500, 'random_state': 512, 'solver': 'lbfgs'}\n",
      "0.907 (+/-0.009) for {'activation': 'identity', 'alpha': 0.0001, 'hidden_layer_sizes': 10, 'learning_rate_init': 0.01, 'max_iter': 500, 'random_state': 512, 'solver': 'sgd'}\n",
      "0.906 (+/-0.009) for {'activation': 'identity', 'alpha': 0.0001, 'hidden_layer_sizes': 10, 'learning_rate_init': 0.01, 'max_iter': 500, 'random_state': 512, 'solver': 'adam'}\n",
      "0.908 (+/-0.009) for {'activation': 'identity', 'alpha': 0.0001, 'hidden_layer_sizes': 10, 'learning_rate_init': 0.1, 'max_iter': 500, 'random_state': 512, 'solver': 'lbfgs'}\n",
      "0.905 (+/-0.009) for {'activation': 'identity', 'alpha': 0.0001, 'hidden_layer_sizes': 10, 'learning_rate_init': 0.1, 'max_iter': 500, 'random_state': 512, 'solver': 'sgd'}\n",
      "0.871 (+/-0.019) for {'activation': 'identity', 'alpha': 0.0001, 'hidden_layer_sizes': 10, 'learning_rate_init': 0.1, 'max_iter': 500, 'random_state': 512, 'solver': 'adam'}\n",
      "0.907 (+/-0.009) for {'activation': 'identity', 'alpha': 0.0001, 'hidden_layer_sizes': 11, 'learning_rate_init': 0.001, 'max_iter': 500, 'random_state': 512, 'solver': 'lbfgs'}\n",
      "0.905 (+/-0.009) for {'activation': 'identity', 'alpha': 0.0001, 'hidden_layer_sizes': 11, 'learning_rate_init': 0.001, 'max_iter': 500, 'random_state': 512, 'solver': 'sgd'}\n",
      "0.908 (+/-0.009) for {'activation': 'identity', 'alpha': 0.0001, 'hidden_layer_sizes': 11, 'learning_rate_init': 0.001, 'max_iter': 500, 'random_state': 512, 'solver': 'adam'}\n",
      "0.907 (+/-0.009) for {'activation': 'identity', 'alpha': 0.0001, 'hidden_layer_sizes': 11, 'learning_rate_init': 0.01, 'max_iter': 500, 'random_state': 512, 'solver': 'lbfgs'}\n",
      "0.907 (+/-0.010) for {'activation': 'identity', 'alpha': 0.0001, 'hidden_layer_sizes': 11, 'learning_rate_init': 0.01, 'max_iter': 500, 'random_state': 512, 'solver': 'sgd'}\n",
      "0.906 (+/-0.009) for {'activation': 'identity', 'alpha': 0.0001, 'hidden_layer_sizes': 11, 'learning_rate_init': 0.01, 'max_iter': 500, 'random_state': 512, 'solver': 'adam'}\n",
      "0.907 (+/-0.009) for {'activation': 'identity', 'alpha': 0.0001, 'hidden_layer_sizes': 11, 'learning_rate_init': 0.1, 'max_iter': 500, 'random_state': 512, 'solver': 'lbfgs'}\n",
      "0.905 (+/-0.005) for {'activation': 'identity', 'alpha': 0.0001, 'hidden_layer_sizes': 11, 'learning_rate_init': 0.1, 'max_iter': 500, 'random_state': 512, 'solver': 'sgd'}\n",
      "0.871 (+/-0.014) for {'activation': 'identity', 'alpha': 0.0001, 'hidden_layer_sizes': 11, 'learning_rate_init': 0.1, 'max_iter': 500, 'random_state': 512, 'solver': 'adam'}\n",
      "0.907 (+/-0.009) for {'activation': 'identity', 'alpha': 0.0001, 'hidden_layer_sizes': 12, 'learning_rate_init': 0.001, 'max_iter': 500, 'random_state': 512, 'solver': 'lbfgs'}\n",
      "0.905 (+/-0.008) for {'activation': 'identity', 'alpha': 0.0001, 'hidden_layer_sizes': 12, 'learning_rate_init': 0.001, 'max_iter': 500, 'random_state': 512, 'solver': 'sgd'}\n",
      "0.908 (+/-0.009) for {'activation': 'identity', 'alpha': 0.0001, 'hidden_layer_sizes': 12, 'learning_rate_init': 0.001, 'max_iter': 500, 'random_state': 512, 'solver': 'adam'}\n",
      "0.907 (+/-0.009) for {'activation': 'identity', 'alpha': 0.0001, 'hidden_layer_sizes': 12, 'learning_rate_init': 0.01, 'max_iter': 500, 'random_state': 512, 'solver': 'lbfgs'}\n",
      "0.907 (+/-0.009) for {'activation': 'identity', 'alpha': 0.0001, 'hidden_layer_sizes': 12, 'learning_rate_init': 0.01, 'max_iter': 500, 'random_state': 512, 'solver': 'sgd'}\n",
      "0.905 (+/-0.008) for {'activation': 'identity', 'alpha': 0.0001, 'hidden_layer_sizes': 12, 'learning_rate_init': 0.01, 'max_iter': 500, 'random_state': 512, 'solver': 'adam'}\n",
      "0.907 (+/-0.009) for {'activation': 'identity', 'alpha': 0.0001, 'hidden_layer_sizes': 12, 'learning_rate_init': 0.1, 'max_iter': 500, 'random_state': 512, 'solver': 'lbfgs'}\n",
      "0.905 (+/-0.011) for {'activation': 'identity', 'alpha': 0.0001, 'hidden_layer_sizes': 12, 'learning_rate_init': 0.1, 'max_iter': 500, 'random_state': 512, 'solver': 'sgd'}\n",
      "0.872 (+/-0.012) for {'activation': 'identity', 'alpha': 0.0001, 'hidden_layer_sizes': 12, 'learning_rate_init': 0.1, 'max_iter': 500, 'random_state': 512, 'solver': 'adam'}\n",
      "0.907 (+/-0.009) for {'activation': 'identity', 'alpha': 0.0001, 'hidden_layer_sizes': 13, 'learning_rate_init': 0.001, 'max_iter': 500, 'random_state': 512, 'solver': 'lbfgs'}\n",
      "0.905 (+/-0.010) for {'activation': 'identity', 'alpha': 0.0001, 'hidden_layer_sizes': 13, 'learning_rate_init': 0.001, 'max_iter': 500, 'random_state': 512, 'solver': 'sgd'}\n",
      "0.908 (+/-0.010) for {'activation': 'identity', 'alpha': 0.0001, 'hidden_layer_sizes': 13, 'learning_rate_init': 0.001, 'max_iter': 500, 'random_state': 512, 'solver': 'adam'}\n",
      "0.907 (+/-0.009) for {'activation': 'identity', 'alpha': 0.0001, 'hidden_layer_sizes': 13, 'learning_rate_init': 0.01, 'max_iter': 500, 'random_state': 512, 'solver': 'lbfgs'}\n",
      "0.907 (+/-0.008) for {'activation': 'identity', 'alpha': 0.0001, 'hidden_layer_sizes': 13, 'learning_rate_init': 0.01, 'max_iter': 500, 'random_state': 512, 'solver': 'sgd'}\n",
      "0.904 (+/-0.007) for {'activation': 'identity', 'alpha': 0.0001, 'hidden_layer_sizes': 13, 'learning_rate_init': 0.01, 'max_iter': 500, 'random_state': 512, 'solver': 'adam'}\n",
      "0.907 (+/-0.009) for {'activation': 'identity', 'alpha': 0.0001, 'hidden_layer_sizes': 13, 'learning_rate_init': 0.1, 'max_iter': 500, 'random_state': 512, 'solver': 'lbfgs'}\n",
      "0.905 (+/-0.008) for {'activation': 'identity', 'alpha': 0.0001, 'hidden_layer_sizes': 13, 'learning_rate_init': 0.1, 'max_iter': 500, 'random_state': 512, 'solver': 'sgd'}\n",
      "0.874 (+/-0.012) for {'activation': 'identity', 'alpha': 0.0001, 'hidden_layer_sizes': 13, 'learning_rate_init': 0.1, 'max_iter': 500, 'random_state': 512, 'solver': 'adam'}\n",
      "0.908 (+/-0.009) for {'activation': 'identity', 'alpha': 0.001, 'hidden_layer_sizes': 10, 'learning_rate_init': 0.001, 'max_iter': 500, 'random_state': 512, 'solver': 'lbfgs'}\n",
      "0.905 (+/-0.009) for {'activation': 'identity', 'alpha': 0.001, 'hidden_layer_sizes': 10, 'learning_rate_init': 0.001, 'max_iter': 500, 'random_state': 512, 'solver': 'sgd'}\n",
      "0.908 (+/-0.009) for {'activation': 'identity', 'alpha': 0.001, 'hidden_layer_sizes': 10, 'learning_rate_init': 0.001, 'max_iter': 500, 'random_state': 512, 'solver': 'adam'}\n",
      "0.908 (+/-0.009) for {'activation': 'identity', 'alpha': 0.001, 'hidden_layer_sizes': 10, 'learning_rate_init': 0.01, 'max_iter': 500, 'random_state': 512, 'solver': 'lbfgs'}\n",
      "0.907 (+/-0.009) for {'activation': 'identity', 'alpha': 0.001, 'hidden_layer_sizes': 10, 'learning_rate_init': 0.01, 'max_iter': 500, 'random_state': 512, 'solver': 'sgd'}\n",
      "0.906 (+/-0.009) for {'activation': 'identity', 'alpha': 0.001, 'hidden_layer_sizes': 10, 'learning_rate_init': 0.01, 'max_iter': 500, 'random_state': 512, 'solver': 'adam'}\n",
      "0.908 (+/-0.009) for {'activation': 'identity', 'alpha': 0.001, 'hidden_layer_sizes': 10, 'learning_rate_init': 0.1, 'max_iter': 500, 'random_state': 512, 'solver': 'lbfgs'}\n",
      "0.905 (+/-0.009) for {'activation': 'identity', 'alpha': 0.001, 'hidden_layer_sizes': 10, 'learning_rate_init': 0.1, 'max_iter': 500, 'random_state': 512, 'solver': 'sgd'}\n",
      "0.873 (+/-0.014) for {'activation': 'identity', 'alpha': 0.001, 'hidden_layer_sizes': 10, 'learning_rate_init': 0.1, 'max_iter': 500, 'random_state': 512, 'solver': 'adam'}\n",
      "0.907 (+/-0.009) for {'activation': 'identity', 'alpha': 0.001, 'hidden_layer_sizes': 11, 'learning_rate_init': 0.001, 'max_iter': 500, 'random_state': 512, 'solver': 'lbfgs'}\n",
      "0.905 (+/-0.009) for {'activation': 'identity', 'alpha': 0.001, 'hidden_layer_sizes': 11, 'learning_rate_init': 0.001, 'max_iter': 500, 'random_state': 512, 'solver': 'sgd'}\n",
      "0.908 (+/-0.009) for {'activation': 'identity', 'alpha': 0.001, 'hidden_layer_sizes': 11, 'learning_rate_init': 0.001, 'max_iter': 500, 'random_state': 512, 'solver': 'adam'}\n",
      "0.907 (+/-0.009) for {'activation': 'identity', 'alpha': 0.001, 'hidden_layer_sizes': 11, 'learning_rate_init': 0.01, 'max_iter': 500, 'random_state': 512, 'solver': 'lbfgs'}\n",
      "0.907 (+/-0.010) for {'activation': 'identity', 'alpha': 0.001, 'hidden_layer_sizes': 11, 'learning_rate_init': 0.01, 'max_iter': 500, 'random_state': 512, 'solver': 'sgd'}\n",
      "0.904 (+/-0.010) for {'activation': 'identity', 'alpha': 0.001, 'hidden_layer_sizes': 11, 'learning_rate_init': 0.01, 'max_iter': 500, 'random_state': 512, 'solver': 'adam'}\n",
      "0.907 (+/-0.009) for {'activation': 'identity', 'alpha': 0.001, 'hidden_layer_sizes': 11, 'learning_rate_init': 0.1, 'max_iter': 500, 'random_state': 512, 'solver': 'lbfgs'}\n",
      "0.904 (+/-0.006) for {'activation': 'identity', 'alpha': 0.001, 'hidden_layer_sizes': 11, 'learning_rate_init': 0.1, 'max_iter': 500, 'random_state': 512, 'solver': 'sgd'}\n",
      "0.875 (+/-0.010) for {'activation': 'identity', 'alpha': 0.001, 'hidden_layer_sizes': 11, 'learning_rate_init': 0.1, 'max_iter': 500, 'random_state': 512, 'solver': 'adam'}\n",
      "0.908 (+/-0.009) for {'activation': 'identity', 'alpha': 0.001, 'hidden_layer_sizes': 12, 'learning_rate_init': 0.001, 'max_iter': 500, 'random_state': 512, 'solver': 'lbfgs'}\n",
      "0.905 (+/-0.008) for {'activation': 'identity', 'alpha': 0.001, 'hidden_layer_sizes': 12, 'learning_rate_init': 0.001, 'max_iter': 500, 'random_state': 512, 'solver': 'sgd'}\n",
      "0.908 (+/-0.009) for {'activation': 'identity', 'alpha': 0.001, 'hidden_layer_sizes': 12, 'learning_rate_init': 0.001, 'max_iter': 500, 'random_state': 512, 'solver': 'adam'}\n",
      "0.908 (+/-0.009) for {'activation': 'identity', 'alpha': 0.001, 'hidden_layer_sizes': 12, 'learning_rate_init': 0.01, 'max_iter': 500, 'random_state': 512, 'solver': 'lbfgs'}\n",
      "0.907 (+/-0.009) for {'activation': 'identity', 'alpha': 0.001, 'hidden_layer_sizes': 12, 'learning_rate_init': 0.01, 'max_iter': 500, 'random_state': 512, 'solver': 'sgd'}\n",
      "0.905 (+/-0.007) for {'activation': 'identity', 'alpha': 0.001, 'hidden_layer_sizes': 12, 'learning_rate_init': 0.01, 'max_iter': 500, 'random_state': 512, 'solver': 'adam'}\n",
      "0.908 (+/-0.009) for {'activation': 'identity', 'alpha': 0.001, 'hidden_layer_sizes': 12, 'learning_rate_init': 0.1, 'max_iter': 500, 'random_state': 512, 'solver': 'lbfgs'}\n",
      "0.905 (+/-0.011) for {'activation': 'identity', 'alpha': 0.001, 'hidden_layer_sizes': 12, 'learning_rate_init': 0.1, 'max_iter': 500, 'random_state': 512, 'solver': 'sgd'}\n",
      "0.871 (+/-0.012) for {'activation': 'identity', 'alpha': 0.001, 'hidden_layer_sizes': 12, 'learning_rate_init': 0.1, 'max_iter': 500, 'random_state': 512, 'solver': 'adam'}\n",
      "0.908 (+/-0.009) for {'activation': 'identity', 'alpha': 0.001, 'hidden_layer_sizes': 13, 'learning_rate_init': 0.001, 'max_iter': 500, 'random_state': 512, 'solver': 'lbfgs'}\n",
      "0.905 (+/-0.010) for {'activation': 'identity', 'alpha': 0.001, 'hidden_layer_sizes': 13, 'learning_rate_init': 0.001, 'max_iter': 500, 'random_state': 512, 'solver': 'sgd'}\n",
      "0.908 (+/-0.011) for {'activation': 'identity', 'alpha': 0.001, 'hidden_layer_sizes': 13, 'learning_rate_init': 0.001, 'max_iter': 500, 'random_state': 512, 'solver': 'adam'}\n",
      "0.908 (+/-0.009) for {'activation': 'identity', 'alpha': 0.001, 'hidden_layer_sizes': 13, 'learning_rate_init': 0.01, 'max_iter': 500, 'random_state': 512, 'solver': 'lbfgs'}\n",
      "0.907 (+/-0.008) for {'activation': 'identity', 'alpha': 0.001, 'hidden_layer_sizes': 13, 'learning_rate_init': 0.01, 'max_iter': 500, 'random_state': 512, 'solver': 'sgd'}\n",
      "0.904 (+/-0.009) for {'activation': 'identity', 'alpha': 0.001, 'hidden_layer_sizes': 13, 'learning_rate_init': 0.01, 'max_iter': 500, 'random_state': 512, 'solver': 'adam'}\n",
      "0.908 (+/-0.009) for {'activation': 'identity', 'alpha': 0.001, 'hidden_layer_sizes': 13, 'learning_rate_init': 0.1, 'max_iter': 500, 'random_state': 512, 'solver': 'lbfgs'}\n",
      "0.905 (+/-0.008) for {'activation': 'identity', 'alpha': 0.001, 'hidden_layer_sizes': 13, 'learning_rate_init': 0.1, 'max_iter': 500, 'random_state': 512, 'solver': 'sgd'}\n",
      "0.875 (+/-0.011) for {'activation': 'identity', 'alpha': 0.001, 'hidden_layer_sizes': 13, 'learning_rate_init': 0.1, 'max_iter': 500, 'random_state': 512, 'solver': 'adam'}\n",
      "0.929 (+/-0.003) for {'activation': 'logistic', 'alpha': 0.0001, 'hidden_layer_sizes': 10, 'learning_rate_init': 0.001, 'max_iter': 500, 'random_state': 512, 'solver': 'lbfgs'}\n",
      "0.899 (+/-0.004) for {'activation': 'logistic', 'alpha': 0.0001, 'hidden_layer_sizes': 10, 'learning_rate_init': 0.001, 'max_iter': 500, 'random_state': 512, 'solver': 'sgd'}\n",
      "0.923 (+/-0.006) for {'activation': 'logistic', 'alpha': 0.0001, 'hidden_layer_sizes': 10, 'learning_rate_init': 0.001, 'max_iter': 500, 'random_state': 512, 'solver': 'adam'}\n",
      "0.929 (+/-0.003) for {'activation': 'logistic', 'alpha': 0.0001, 'hidden_layer_sizes': 10, 'learning_rate_init': 0.01, 'max_iter': 500, 'random_state': 512, 'solver': 'lbfgs'}\n",
      "0.921 (+/-0.008) for {'activation': 'logistic', 'alpha': 0.0001, 'hidden_layer_sizes': 10, 'learning_rate_init': 0.01, 'max_iter': 500, 'random_state': 512, 'solver': 'sgd'}\n",
      "0.922 (+/-0.005) for {'activation': 'logistic', 'alpha': 0.0001, 'hidden_layer_sizes': 10, 'learning_rate_init': 0.01, 'max_iter': 500, 'random_state': 512, 'solver': 'adam'}\n",
      "0.929 (+/-0.003) for {'activation': 'logistic', 'alpha': 0.0001, 'hidden_layer_sizes': 10, 'learning_rate_init': 0.1, 'max_iter': 500, 'random_state': 512, 'solver': 'lbfgs'}\n",
      "0.924 (+/-0.010) for {'activation': 'logistic', 'alpha': 0.0001, 'hidden_layer_sizes': 10, 'learning_rate_init': 0.1, 'max_iter': 500, 'random_state': 512, 'solver': 'sgd'}\n",
      "0.901 (+/-0.006) for {'activation': 'logistic', 'alpha': 0.0001, 'hidden_layer_sizes': 10, 'learning_rate_init': 0.1, 'max_iter': 500, 'random_state': 512, 'solver': 'adam'}\n",
      "0.930 (+/-0.003) for {'activation': 'logistic', 'alpha': 0.0001, 'hidden_layer_sizes': 11, 'learning_rate_init': 0.001, 'max_iter': 500, 'random_state': 512, 'solver': 'lbfgs'}\n",
      "0.899 (+/-0.007) for {'activation': 'logistic', 'alpha': 0.0001, 'hidden_layer_sizes': 11, 'learning_rate_init': 0.001, 'max_iter': 500, 'random_state': 512, 'solver': 'sgd'}\n",
      "0.927 (+/-0.006) for {'activation': 'logistic', 'alpha': 0.0001, 'hidden_layer_sizes': 11, 'learning_rate_init': 0.001, 'max_iter': 500, 'random_state': 512, 'solver': 'adam'}\n",
      "0.930 (+/-0.003) for {'activation': 'logistic', 'alpha': 0.0001, 'hidden_layer_sizes': 11, 'learning_rate_init': 0.01, 'max_iter': 500, 'random_state': 512, 'solver': 'lbfgs'}\n",
      "0.922 (+/-0.005) for {'activation': 'logistic', 'alpha': 0.0001, 'hidden_layer_sizes': 11, 'learning_rate_init': 0.01, 'max_iter': 500, 'random_state': 512, 'solver': 'sgd'}\n",
      "0.925 (+/-0.004) for {'activation': 'logistic', 'alpha': 0.0001, 'hidden_layer_sizes': 11, 'learning_rate_init': 0.01, 'max_iter': 500, 'random_state': 512, 'solver': 'adam'}\n",
      "0.930 (+/-0.003) for {'activation': 'logistic', 'alpha': 0.0001, 'hidden_layer_sizes': 11, 'learning_rate_init': 0.1, 'max_iter': 500, 'random_state': 512, 'solver': 'lbfgs'}\n",
      "0.930 (+/-0.006) for {'activation': 'logistic', 'alpha': 0.0001, 'hidden_layer_sizes': 11, 'learning_rate_init': 0.1, 'max_iter': 500, 'random_state': 512, 'solver': 'sgd'}\n",
      "0.901 (+/-0.017) for {'activation': 'logistic', 'alpha': 0.0001, 'hidden_layer_sizes': 11, 'learning_rate_init': 0.1, 'max_iter': 500, 'random_state': 512, 'solver': 'adam'}\n",
      "0.934 (+/-0.009) for {'activation': 'logistic', 'alpha': 0.0001, 'hidden_layer_sizes': 12, 'learning_rate_init': 0.001, 'max_iter': 500, 'random_state': 512, 'solver': 'lbfgs'}\n",
      "0.900 (+/-0.007) for {'activation': 'logistic', 'alpha': 0.0001, 'hidden_layer_sizes': 12, 'learning_rate_init': 0.001, 'max_iter': 500, 'random_state': 512, 'solver': 'sgd'}\n",
      "0.926 (+/-0.008) for {'activation': 'logistic', 'alpha': 0.0001, 'hidden_layer_sizes': 12, 'learning_rate_init': 0.001, 'max_iter': 500, 'random_state': 512, 'solver': 'adam'}\n",
      "0.934 (+/-0.009) for {'activation': 'logistic', 'alpha': 0.0001, 'hidden_layer_sizes': 12, 'learning_rate_init': 0.01, 'max_iter': 500, 'random_state': 512, 'solver': 'lbfgs'}\n",
      "0.928 (+/-0.004) for {'activation': 'logistic', 'alpha': 0.0001, 'hidden_layer_sizes': 12, 'learning_rate_init': 0.01, 'max_iter': 500, 'random_state': 512, 'solver': 'sgd'}\n",
      "0.925 (+/-0.007) for {'activation': 'logistic', 'alpha': 0.0001, 'hidden_layer_sizes': 12, 'learning_rate_init': 0.01, 'max_iter': 500, 'random_state': 512, 'solver': 'adam'}\n",
      "0.934 (+/-0.009) for {'activation': 'logistic', 'alpha': 0.0001, 'hidden_layer_sizes': 12, 'learning_rate_init': 0.1, 'max_iter': 500, 'random_state': 512, 'solver': 'lbfgs'}\n",
      "0.931 (+/-0.009) for {'activation': 'logistic', 'alpha': 0.0001, 'hidden_layer_sizes': 12, 'learning_rate_init': 0.1, 'max_iter': 500, 'random_state': 512, 'solver': 'sgd'}\n",
      "0.911 (+/-0.008) for {'activation': 'logistic', 'alpha': 0.0001, 'hidden_layer_sizes': 12, 'learning_rate_init': 0.1, 'max_iter': 500, 'random_state': 512, 'solver': 'adam'}\n",
      "0.935 (+/-0.003) for {'activation': 'logistic', 'alpha': 0.0001, 'hidden_layer_sizes': 13, 'learning_rate_init': 0.001, 'max_iter': 500, 'random_state': 512, 'solver': 'lbfgs'}\n",
      "0.904 (+/-0.006) for {'activation': 'logistic', 'alpha': 0.0001, 'hidden_layer_sizes': 13, 'learning_rate_init': 0.001, 'max_iter': 500, 'random_state': 512, 'solver': 'sgd'}\n",
      "0.929 (+/-0.008) for {'activation': 'logistic', 'alpha': 0.0001, 'hidden_layer_sizes': 13, 'learning_rate_init': 0.001, 'max_iter': 500, 'random_state': 512, 'solver': 'adam'}\n",
      "0.935 (+/-0.003) for {'activation': 'logistic', 'alpha': 0.0001, 'hidden_layer_sizes': 13, 'learning_rate_init': 0.01, 'max_iter': 500, 'random_state': 512, 'solver': 'lbfgs'}\n",
      "0.931 (+/-0.007) for {'activation': 'logistic', 'alpha': 0.0001, 'hidden_layer_sizes': 13, 'learning_rate_init': 0.01, 'max_iter': 500, 'random_state': 512, 'solver': 'sgd'}\n",
      "0.929 (+/-0.003) for {'activation': 'logistic', 'alpha': 0.0001, 'hidden_layer_sizes': 13, 'learning_rate_init': 0.01, 'max_iter': 500, 'random_state': 512, 'solver': 'adam'}\n",
      "0.935 (+/-0.003) for {'activation': 'logistic', 'alpha': 0.0001, 'hidden_layer_sizes': 13, 'learning_rate_init': 0.1, 'max_iter': 500, 'random_state': 512, 'solver': 'lbfgs'}\n",
      "0.935 (+/-0.006) for {'activation': 'logistic', 'alpha': 0.0001, 'hidden_layer_sizes': 13, 'learning_rate_init': 0.1, 'max_iter': 500, 'random_state': 512, 'solver': 'sgd'}\n",
      "0.911 (+/-0.011) for {'activation': 'logistic', 'alpha': 0.0001, 'hidden_layer_sizes': 13, 'learning_rate_init': 0.1, 'max_iter': 500, 'random_state': 512, 'solver': 'adam'}\n",
      "0.929 (+/-0.003) for {'activation': 'logistic', 'alpha': 0.001, 'hidden_layer_sizes': 10, 'learning_rate_init': 0.001, 'max_iter': 500, 'random_state': 512, 'solver': 'lbfgs'}\n",
      "0.899 (+/-0.005) for {'activation': 'logistic', 'alpha': 0.001, 'hidden_layer_sizes': 10, 'learning_rate_init': 0.001, 'max_iter': 500, 'random_state': 512, 'solver': 'sgd'}\n",
      "0.924 (+/-0.007) for {'activation': 'logistic', 'alpha': 0.001, 'hidden_layer_sizes': 10, 'learning_rate_init': 0.001, 'max_iter': 500, 'random_state': 512, 'solver': 'adam'}\n",
      "0.929 (+/-0.003) for {'activation': 'logistic', 'alpha': 0.001, 'hidden_layer_sizes': 10, 'learning_rate_init': 0.01, 'max_iter': 500, 'random_state': 512, 'solver': 'lbfgs'}\n",
      "0.921 (+/-0.008) for {'activation': 'logistic', 'alpha': 0.001, 'hidden_layer_sizes': 10, 'learning_rate_init': 0.01, 'max_iter': 500, 'random_state': 512, 'solver': 'sgd'}\n",
      "0.923 (+/-0.006) for {'activation': 'logistic', 'alpha': 0.001, 'hidden_layer_sizes': 10, 'learning_rate_init': 0.01, 'max_iter': 500, 'random_state': 512, 'solver': 'adam'}\n",
      "0.929 (+/-0.003) for {'activation': 'logistic', 'alpha': 0.001, 'hidden_layer_sizes': 10, 'learning_rate_init': 0.1, 'max_iter': 500, 'random_state': 512, 'solver': 'lbfgs'}\n",
      "0.923 (+/-0.008) for {'activation': 'logistic', 'alpha': 0.001, 'hidden_layer_sizes': 10, 'learning_rate_init': 0.1, 'max_iter': 500, 'random_state': 512, 'solver': 'sgd'}\n",
      "0.902 (+/-0.010) for {'activation': 'logistic', 'alpha': 0.001, 'hidden_layer_sizes': 10, 'learning_rate_init': 0.1, 'max_iter': 500, 'random_state': 512, 'solver': 'adam'}\n",
      "0.930 (+/-0.004) for {'activation': 'logistic', 'alpha': 0.001, 'hidden_layer_sizes': 11, 'learning_rate_init': 0.001, 'max_iter': 500, 'random_state': 512, 'solver': 'lbfgs'}\n",
      "0.899 (+/-0.007) for {'activation': 'logistic', 'alpha': 0.001, 'hidden_layer_sizes': 11, 'learning_rate_init': 0.001, 'max_iter': 500, 'random_state': 512, 'solver': 'sgd'}\n",
      "0.928 (+/-0.006) for {'activation': 'logistic', 'alpha': 0.001, 'hidden_layer_sizes': 11, 'learning_rate_init': 0.001, 'max_iter': 500, 'random_state': 512, 'solver': 'adam'}\n",
      "0.930 (+/-0.004) for {'activation': 'logistic', 'alpha': 0.001, 'hidden_layer_sizes': 11, 'learning_rate_init': 0.01, 'max_iter': 500, 'random_state': 512, 'solver': 'lbfgs'}\n",
      "0.922 (+/-0.005) for {'activation': 'logistic', 'alpha': 0.001, 'hidden_layer_sizes': 11, 'learning_rate_init': 0.01, 'max_iter': 500, 'random_state': 512, 'solver': 'sgd'}\n",
      "0.928 (+/-0.005) for {'activation': 'logistic', 'alpha': 0.001, 'hidden_layer_sizes': 11, 'learning_rate_init': 0.01, 'max_iter': 500, 'random_state': 512, 'solver': 'adam'}\n",
      "0.930 (+/-0.004) for {'activation': 'logistic', 'alpha': 0.001, 'hidden_layer_sizes': 11, 'learning_rate_init': 0.1, 'max_iter': 500, 'random_state': 512, 'solver': 'lbfgs'}\n",
      "0.931 (+/-0.005) for {'activation': 'logistic', 'alpha': 0.001, 'hidden_layer_sizes': 11, 'learning_rate_init': 0.1, 'max_iter': 500, 'random_state': 512, 'solver': 'sgd'}\n",
      "0.904 (+/-0.017) for {'activation': 'logistic', 'alpha': 0.001, 'hidden_layer_sizes': 11, 'learning_rate_init': 0.1, 'max_iter': 500, 'random_state': 512, 'solver': 'adam'}\n",
      "0.935 (+/-0.010) for {'activation': 'logistic', 'alpha': 0.001, 'hidden_layer_sizes': 12, 'learning_rate_init': 0.001, 'max_iter': 500, 'random_state': 512, 'solver': 'lbfgs'}\n",
      "0.900 (+/-0.007) for {'activation': 'logistic', 'alpha': 0.001, 'hidden_layer_sizes': 12, 'learning_rate_init': 0.001, 'max_iter': 500, 'random_state': 512, 'solver': 'sgd'}\n",
      "0.927 (+/-0.008) for {'activation': 'logistic', 'alpha': 0.001, 'hidden_layer_sizes': 12, 'learning_rate_init': 0.001, 'max_iter': 500, 'random_state': 512, 'solver': 'adam'}\n",
      "0.935 (+/-0.010) for {'activation': 'logistic', 'alpha': 0.001, 'hidden_layer_sizes': 12, 'learning_rate_init': 0.01, 'max_iter': 500, 'random_state': 512, 'solver': 'lbfgs'}\n",
      "0.927 (+/-0.004) for {'activation': 'logistic', 'alpha': 0.001, 'hidden_layer_sizes': 12, 'learning_rate_init': 0.01, 'max_iter': 500, 'random_state': 512, 'solver': 'sgd'}\n",
      "0.932 (+/-0.003) for {'activation': 'logistic', 'alpha': 0.001, 'hidden_layer_sizes': 12, 'learning_rate_init': 0.01, 'max_iter': 500, 'random_state': 512, 'solver': 'adam'}\n",
      "0.935 (+/-0.010) for {'activation': 'logistic', 'alpha': 0.001, 'hidden_layer_sizes': 12, 'learning_rate_init': 0.1, 'max_iter': 500, 'random_state': 512, 'solver': 'lbfgs'}\n",
      "0.932 (+/-0.010) for {'activation': 'logistic', 'alpha': 0.001, 'hidden_layer_sizes': 12, 'learning_rate_init': 0.1, 'max_iter': 500, 'random_state': 512, 'solver': 'sgd'}\n",
      "0.916 (+/-0.009) for {'activation': 'logistic', 'alpha': 0.001, 'hidden_layer_sizes': 12, 'learning_rate_init': 0.1, 'max_iter': 500, 'random_state': 512, 'solver': 'adam'}\n",
      "0.935 (+/-0.003) for {'activation': 'logistic', 'alpha': 0.001, 'hidden_layer_sizes': 13, 'learning_rate_init': 0.001, 'max_iter': 500, 'random_state': 512, 'solver': 'lbfgs'}\n",
      "0.904 (+/-0.006) for {'activation': 'logistic', 'alpha': 0.001, 'hidden_layer_sizes': 13, 'learning_rate_init': 0.001, 'max_iter': 500, 'random_state': 512, 'solver': 'sgd'}\n",
      "0.930 (+/-0.009) for {'activation': 'logistic', 'alpha': 0.001, 'hidden_layer_sizes': 13, 'learning_rate_init': 0.001, 'max_iter': 500, 'random_state': 512, 'solver': 'adam'}\n",
      "0.935 (+/-0.003) for {'activation': 'logistic', 'alpha': 0.001, 'hidden_layer_sizes': 13, 'learning_rate_init': 0.01, 'max_iter': 500, 'random_state': 512, 'solver': 'lbfgs'}\n",
      "0.932 (+/-0.007) for {'activation': 'logistic', 'alpha': 0.001, 'hidden_layer_sizes': 13, 'learning_rate_init': 0.01, 'max_iter': 500, 'random_state': 512, 'solver': 'sgd'}\n",
      "0.933 (+/-0.004) for {'activation': 'logistic', 'alpha': 0.001, 'hidden_layer_sizes': 13, 'learning_rate_init': 0.01, 'max_iter': 500, 'random_state': 512, 'solver': 'adam'}\n",
      "0.935 (+/-0.003) for {'activation': 'logistic', 'alpha': 0.001, 'hidden_layer_sizes': 13, 'learning_rate_init': 0.1, 'max_iter': 500, 'random_state': 512, 'solver': 'lbfgs'}\n",
      "0.935 (+/-0.007) for {'activation': 'logistic', 'alpha': 0.001, 'hidden_layer_sizes': 13, 'learning_rate_init': 0.1, 'max_iter': 500, 'random_state': 512, 'solver': 'sgd'}\n",
      "0.916 (+/-0.005) for {'activation': 'logistic', 'alpha': 0.001, 'hidden_layer_sizes': 13, 'learning_rate_init': 0.1, 'max_iter': 500, 'random_state': 512, 'solver': 'adam'}\n",
      "0.926 (+/-0.009) for {'activation': 'tanh', 'alpha': 0.0001, 'hidden_layer_sizes': 10, 'learning_rate_init': 0.001, 'max_iter': 500, 'random_state': 512, 'solver': 'lbfgs'}\n",
      "0.918 (+/-0.006) for {'activation': 'tanh', 'alpha': 0.0001, 'hidden_layer_sizes': 10, 'learning_rate_init': 0.001, 'max_iter': 500, 'random_state': 512, 'solver': 'sgd'}\n",
      "0.924 (+/-0.007) for {'activation': 'tanh', 'alpha': 0.0001, 'hidden_layer_sizes': 10, 'learning_rate_init': 0.001, 'max_iter': 500, 'random_state': 512, 'solver': 'adam'}\n",
      "0.926 (+/-0.009) for {'activation': 'tanh', 'alpha': 0.0001, 'hidden_layer_sizes': 10, 'learning_rate_init': 0.01, 'max_iter': 500, 'random_state': 512, 'solver': 'lbfgs'}\n",
      "0.927 (+/-0.007) for {'activation': 'tanh', 'alpha': 0.0001, 'hidden_layer_sizes': 10, 'learning_rate_init': 0.01, 'max_iter': 500, 'random_state': 512, 'solver': 'sgd'}\n",
      "0.915 (+/-0.007) for {'activation': 'tanh', 'alpha': 0.0001, 'hidden_layer_sizes': 10, 'learning_rate_init': 0.01, 'max_iter': 500, 'random_state': 512, 'solver': 'adam'}\n",
      "0.926 (+/-0.009) for {'activation': 'tanh', 'alpha': 0.0001, 'hidden_layer_sizes': 10, 'learning_rate_init': 0.1, 'max_iter': 500, 'random_state': 512, 'solver': 'lbfgs'}\n",
      "0.925 (+/-0.005) for {'activation': 'tanh', 'alpha': 0.0001, 'hidden_layer_sizes': 10, 'learning_rate_init': 0.1, 'max_iter': 500, 'random_state': 512, 'solver': 'sgd'}\n",
      "0.891 (+/-0.011) for {'activation': 'tanh', 'alpha': 0.0001, 'hidden_layer_sizes': 10, 'learning_rate_init': 0.1, 'max_iter': 500, 'random_state': 512, 'solver': 'adam'}\n",
      "0.933 (+/-0.008) for {'activation': 'tanh', 'alpha': 0.0001, 'hidden_layer_sizes': 11, 'learning_rate_init': 0.001, 'max_iter': 500, 'random_state': 512, 'solver': 'lbfgs'}\n",
      "0.915 (+/-0.007) for {'activation': 'tanh', 'alpha': 0.0001, 'hidden_layer_sizes': 11, 'learning_rate_init': 0.001, 'max_iter': 500, 'random_state': 512, 'solver': 'sgd'}\n",
      "0.926 (+/-0.008) for {'activation': 'tanh', 'alpha': 0.0001, 'hidden_layer_sizes': 11, 'learning_rate_init': 0.001, 'max_iter': 500, 'random_state': 512, 'solver': 'adam'}\n",
      "0.933 (+/-0.008) for {'activation': 'tanh', 'alpha': 0.0001, 'hidden_layer_sizes': 11, 'learning_rate_init': 0.01, 'max_iter': 500, 'random_state': 512, 'solver': 'lbfgs'}\n",
      "0.930 (+/-0.004) for {'activation': 'tanh', 'alpha': 0.0001, 'hidden_layer_sizes': 11, 'learning_rate_init': 0.01, 'max_iter': 500, 'random_state': 512, 'solver': 'sgd'}\n",
      "0.920 (+/-0.009) for {'activation': 'tanh', 'alpha': 0.0001, 'hidden_layer_sizes': 11, 'learning_rate_init': 0.01, 'max_iter': 500, 'random_state': 512, 'solver': 'adam'}\n",
      "0.933 (+/-0.008) for {'activation': 'tanh', 'alpha': 0.0001, 'hidden_layer_sizes': 11, 'learning_rate_init': 0.1, 'max_iter': 500, 'random_state': 512, 'solver': 'lbfgs'}\n",
      "0.929 (+/-0.008) for {'activation': 'tanh', 'alpha': 0.0001, 'hidden_layer_sizes': 11, 'learning_rate_init': 0.1, 'max_iter': 500, 'random_state': 512, 'solver': 'sgd'}\n",
      "0.896 (+/-0.011) for {'activation': 'tanh', 'alpha': 0.0001, 'hidden_layer_sizes': 11, 'learning_rate_init': 0.1, 'max_iter': 500, 'random_state': 512, 'solver': 'adam'}\n",
      "0.933 (+/-0.006) for {'activation': 'tanh', 'alpha': 0.0001, 'hidden_layer_sizes': 12, 'learning_rate_init': 0.001, 'max_iter': 500, 'random_state': 512, 'solver': 'lbfgs'}\n",
      "0.917 (+/-0.011) for {'activation': 'tanh', 'alpha': 0.0001, 'hidden_layer_sizes': 12, 'learning_rate_init': 0.001, 'max_iter': 500, 'random_state': 512, 'solver': 'sgd'}\n",
      "0.933 (+/-0.005) for {'activation': 'tanh', 'alpha': 0.0001, 'hidden_layer_sizes': 12, 'learning_rate_init': 0.001, 'max_iter': 500, 'random_state': 512, 'solver': 'adam'}\n",
      "0.933 (+/-0.006) for {'activation': 'tanh', 'alpha': 0.0001, 'hidden_layer_sizes': 12, 'learning_rate_init': 0.01, 'max_iter': 500, 'random_state': 512, 'solver': 'lbfgs'}\n",
      "0.932 (+/-0.004) for {'activation': 'tanh', 'alpha': 0.0001, 'hidden_layer_sizes': 12, 'learning_rate_init': 0.01, 'max_iter': 500, 'random_state': 512, 'solver': 'sgd'}\n",
      "0.927 (+/-0.005) for {'activation': 'tanh', 'alpha': 0.0001, 'hidden_layer_sizes': 12, 'learning_rate_init': 0.01, 'max_iter': 500, 'random_state': 512, 'solver': 'adam'}\n",
      "0.933 (+/-0.006) for {'activation': 'tanh', 'alpha': 0.0001, 'hidden_layer_sizes': 12, 'learning_rate_init': 0.1, 'max_iter': 500, 'random_state': 512, 'solver': 'lbfgs'}\n",
      "0.927 (+/-0.008) for {'activation': 'tanh', 'alpha': 0.0001, 'hidden_layer_sizes': 12, 'learning_rate_init': 0.1, 'max_iter': 500, 'random_state': 512, 'solver': 'sgd'}\n",
      "0.899 (+/-0.008) for {'activation': 'tanh', 'alpha': 0.0001, 'hidden_layer_sizes': 12, 'learning_rate_init': 0.1, 'max_iter': 500, 'random_state': 512, 'solver': 'adam'}\n",
      "0.931 (+/-0.005) for {'activation': 'tanh', 'alpha': 0.0001, 'hidden_layer_sizes': 13, 'learning_rate_init': 0.001, 'max_iter': 500, 'random_state': 512, 'solver': 'lbfgs'}\n",
      "0.920 (+/-0.007) for {'activation': 'tanh', 'alpha': 0.0001, 'hidden_layer_sizes': 13, 'learning_rate_init': 0.001, 'max_iter': 500, 'random_state': 512, 'solver': 'sgd'}\n",
      "0.930 (+/-0.005) for {'activation': 'tanh', 'alpha': 0.0001, 'hidden_layer_sizes': 13, 'learning_rate_init': 0.001, 'max_iter': 500, 'random_state': 512, 'solver': 'adam'}\n",
      "0.931 (+/-0.005) for {'activation': 'tanh', 'alpha': 0.0001, 'hidden_layer_sizes': 13, 'learning_rate_init': 0.01, 'max_iter': 500, 'random_state': 512, 'solver': 'lbfgs'}\n",
      "0.933 (+/-0.007) for {'activation': 'tanh', 'alpha': 0.0001, 'hidden_layer_sizes': 13, 'learning_rate_init': 0.01, 'max_iter': 500, 'random_state': 512, 'solver': 'sgd'}\n",
      "0.925 (+/-0.007) for {'activation': 'tanh', 'alpha': 0.0001, 'hidden_layer_sizes': 13, 'learning_rate_init': 0.01, 'max_iter': 500, 'random_state': 512, 'solver': 'adam'}\n",
      "0.931 (+/-0.005) for {'activation': 'tanh', 'alpha': 0.0001, 'hidden_layer_sizes': 13, 'learning_rate_init': 0.1, 'max_iter': 500, 'random_state': 512, 'solver': 'lbfgs'}\n",
      "0.930 (+/-0.006) for {'activation': 'tanh', 'alpha': 0.0001, 'hidden_layer_sizes': 13, 'learning_rate_init': 0.1, 'max_iter': 500, 'random_state': 512, 'solver': 'sgd'}\n",
      "0.902 (+/-0.012) for {'activation': 'tanh', 'alpha': 0.0001, 'hidden_layer_sizes': 13, 'learning_rate_init': 0.1, 'max_iter': 500, 'random_state': 512, 'solver': 'adam'}\n",
      "0.926 (+/-0.010) for {'activation': 'tanh', 'alpha': 0.001, 'hidden_layer_sizes': 10, 'learning_rate_init': 0.001, 'max_iter': 500, 'random_state': 512, 'solver': 'lbfgs'}\n",
      "0.918 (+/-0.006) for {'activation': 'tanh', 'alpha': 0.001, 'hidden_layer_sizes': 10, 'learning_rate_init': 0.001, 'max_iter': 500, 'random_state': 512, 'solver': 'sgd'}\n",
      "0.924 (+/-0.007) for {'activation': 'tanh', 'alpha': 0.001, 'hidden_layer_sizes': 10, 'learning_rate_init': 0.001, 'max_iter': 500, 'random_state': 512, 'solver': 'adam'}\n",
      "0.926 (+/-0.010) for {'activation': 'tanh', 'alpha': 0.001, 'hidden_layer_sizes': 10, 'learning_rate_init': 0.01, 'max_iter': 500, 'random_state': 512, 'solver': 'lbfgs'}\n",
      "0.927 (+/-0.007) for {'activation': 'tanh', 'alpha': 0.001, 'hidden_layer_sizes': 10, 'learning_rate_init': 0.01, 'max_iter': 500, 'random_state': 512, 'solver': 'sgd'}\n",
      "0.917 (+/-0.009) for {'activation': 'tanh', 'alpha': 0.001, 'hidden_layer_sizes': 10, 'learning_rate_init': 0.01, 'max_iter': 500, 'random_state': 512, 'solver': 'adam'}\n",
      "0.926 (+/-0.010) for {'activation': 'tanh', 'alpha': 0.001, 'hidden_layer_sizes': 10, 'learning_rate_init': 0.1, 'max_iter': 500, 'random_state': 512, 'solver': 'lbfgs'}\n",
      "0.925 (+/-0.006) for {'activation': 'tanh', 'alpha': 0.001, 'hidden_layer_sizes': 10, 'learning_rate_init': 0.1, 'max_iter': 500, 'random_state': 512, 'solver': 'sgd'}\n",
      "0.892 (+/-0.011) for {'activation': 'tanh', 'alpha': 0.001, 'hidden_layer_sizes': 10, 'learning_rate_init': 0.1, 'max_iter': 500, 'random_state': 512, 'solver': 'adam'}\n",
      "0.932 (+/-0.009) for {'activation': 'tanh', 'alpha': 0.001, 'hidden_layer_sizes': 11, 'learning_rate_init': 0.001, 'max_iter': 500, 'random_state': 512, 'solver': 'lbfgs'}\n",
      "0.915 (+/-0.007) for {'activation': 'tanh', 'alpha': 0.001, 'hidden_layer_sizes': 11, 'learning_rate_init': 0.001, 'max_iter': 500, 'random_state': 512, 'solver': 'sgd'}\n",
      "0.928 (+/-0.006) for {'activation': 'tanh', 'alpha': 0.001, 'hidden_layer_sizes': 11, 'learning_rate_init': 0.001, 'max_iter': 500, 'random_state': 512, 'solver': 'adam'}\n",
      "0.932 (+/-0.009) for {'activation': 'tanh', 'alpha': 0.001, 'hidden_layer_sizes': 11, 'learning_rate_init': 0.01, 'max_iter': 500, 'random_state': 512, 'solver': 'lbfgs'}\n",
      "0.930 (+/-0.003) for {'activation': 'tanh', 'alpha': 0.001, 'hidden_layer_sizes': 11, 'learning_rate_init': 0.01, 'max_iter': 500, 'random_state': 512, 'solver': 'sgd'}\n",
      "0.922 (+/-0.010) for {'activation': 'tanh', 'alpha': 0.001, 'hidden_layer_sizes': 11, 'learning_rate_init': 0.01, 'max_iter': 500, 'random_state': 512, 'solver': 'adam'}\n",
      "0.932 (+/-0.009) for {'activation': 'tanh', 'alpha': 0.001, 'hidden_layer_sizes': 11, 'learning_rate_init': 0.1, 'max_iter': 500, 'random_state': 512, 'solver': 'lbfgs'}\n",
      "0.930 (+/-0.008) for {'activation': 'tanh', 'alpha': 0.001, 'hidden_layer_sizes': 11, 'learning_rate_init': 0.1, 'max_iter': 500, 'random_state': 512, 'solver': 'sgd'}\n",
      "0.893 (+/-0.013) for {'activation': 'tanh', 'alpha': 0.001, 'hidden_layer_sizes': 11, 'learning_rate_init': 0.1, 'max_iter': 500, 'random_state': 512, 'solver': 'adam'}\n",
      "0.933 (+/-0.007) for {'activation': 'tanh', 'alpha': 0.001, 'hidden_layer_sizes': 12, 'learning_rate_init': 0.001, 'max_iter': 500, 'random_state': 512, 'solver': 'lbfgs'}\n",
      "0.917 (+/-0.011) for {'activation': 'tanh', 'alpha': 0.001, 'hidden_layer_sizes': 12, 'learning_rate_init': 0.001, 'max_iter': 500, 'random_state': 512, 'solver': 'sgd'}\n",
      "0.934 (+/-0.005) for {'activation': 'tanh', 'alpha': 0.001, 'hidden_layer_sizes': 12, 'learning_rate_init': 0.001, 'max_iter': 500, 'random_state': 512, 'solver': 'adam'}\n",
      "0.933 (+/-0.007) for {'activation': 'tanh', 'alpha': 0.001, 'hidden_layer_sizes': 12, 'learning_rate_init': 0.01, 'max_iter': 500, 'random_state': 512, 'solver': 'lbfgs'}\n",
      "0.933 (+/-0.004) for {'activation': 'tanh', 'alpha': 0.001, 'hidden_layer_sizes': 12, 'learning_rate_init': 0.01, 'max_iter': 500, 'random_state': 512, 'solver': 'sgd'}\n",
      "0.927 (+/-0.004) for {'activation': 'tanh', 'alpha': 0.001, 'hidden_layer_sizes': 12, 'learning_rate_init': 0.01, 'max_iter': 500, 'random_state': 512, 'solver': 'adam'}\n",
      "0.933 (+/-0.007) for {'activation': 'tanh', 'alpha': 0.001, 'hidden_layer_sizes': 12, 'learning_rate_init': 0.1, 'max_iter': 500, 'random_state': 512, 'solver': 'lbfgs'}\n",
      "0.929 (+/-0.005) for {'activation': 'tanh', 'alpha': 0.001, 'hidden_layer_sizes': 12, 'learning_rate_init': 0.1, 'max_iter': 500, 'random_state': 512, 'solver': 'sgd'}\n",
      "0.898 (+/-0.008) for {'activation': 'tanh', 'alpha': 0.001, 'hidden_layer_sizes': 12, 'learning_rate_init': 0.1, 'max_iter': 500, 'random_state': 512, 'solver': 'adam'}\n",
      "0.931 (+/-0.005) for {'activation': 'tanh', 'alpha': 0.001, 'hidden_layer_sizes': 13, 'learning_rate_init': 0.001, 'max_iter': 500, 'random_state': 512, 'solver': 'lbfgs'}\n",
      "0.920 (+/-0.007) for {'activation': 'tanh', 'alpha': 0.001, 'hidden_layer_sizes': 13, 'learning_rate_init': 0.001, 'max_iter': 500, 'random_state': 512, 'solver': 'sgd'}\n",
      "0.931 (+/-0.004) for {'activation': 'tanh', 'alpha': 0.001, 'hidden_layer_sizes': 13, 'learning_rate_init': 0.001, 'max_iter': 500, 'random_state': 512, 'solver': 'adam'}\n",
      "0.931 (+/-0.005) for {'activation': 'tanh', 'alpha': 0.001, 'hidden_layer_sizes': 13, 'learning_rate_init': 0.01, 'max_iter': 500, 'random_state': 512, 'solver': 'lbfgs'}\n",
      "0.933 (+/-0.006) for {'activation': 'tanh', 'alpha': 0.001, 'hidden_layer_sizes': 13, 'learning_rate_init': 0.01, 'max_iter': 500, 'random_state': 512, 'solver': 'sgd'}\n",
      "0.927 (+/-0.007) for {'activation': 'tanh', 'alpha': 0.001, 'hidden_layer_sizes': 13, 'learning_rate_init': 0.01, 'max_iter': 500, 'random_state': 512, 'solver': 'adam'}\n",
      "0.931 (+/-0.005) for {'activation': 'tanh', 'alpha': 0.001, 'hidden_layer_sizes': 13, 'learning_rate_init': 0.1, 'max_iter': 500, 'random_state': 512, 'solver': 'lbfgs'}\n",
      "0.931 (+/-0.002) for {'activation': 'tanh', 'alpha': 0.001, 'hidden_layer_sizes': 13, 'learning_rate_init': 0.1, 'max_iter': 500, 'random_state': 512, 'solver': 'sgd'}\n",
      "0.903 (+/-0.008) for {'activation': 'tanh', 'alpha': 0.001, 'hidden_layer_sizes': 13, 'learning_rate_init': 0.1, 'max_iter': 500, 'random_state': 512, 'solver': 'adam'}\n",
      "0.900 (+/-0.003) for {'activation': 'relu', 'alpha': 0.0001, 'hidden_layer_sizes': 10, 'learning_rate_init': 0.001, 'max_iter': 500, 'random_state': 512, 'solver': 'lbfgs'}\n",
      "0.918 (+/-0.006) for {'activation': 'relu', 'alpha': 0.0001, 'hidden_layer_sizes': 10, 'learning_rate_init': 0.001, 'max_iter': 500, 'random_state': 512, 'solver': 'sgd'}\n",
      "0.925 (+/-0.008) for {'activation': 'relu', 'alpha': 0.0001, 'hidden_layer_sizes': 10, 'learning_rate_init': 0.001, 'max_iter': 500, 'random_state': 512, 'solver': 'adam'}\n",
      "0.900 (+/-0.003) for {'activation': 'relu', 'alpha': 0.0001, 'hidden_layer_sizes': 10, 'learning_rate_init': 0.01, 'max_iter': 500, 'random_state': 512, 'solver': 'lbfgs'}\n",
      "0.927 (+/-0.005) for {'activation': 'relu', 'alpha': 0.0001, 'hidden_layer_sizes': 10, 'learning_rate_init': 0.01, 'max_iter': 500, 'random_state': 512, 'solver': 'sgd'}\n",
      "0.918 (+/-0.013) for {'activation': 'relu', 'alpha': 0.0001, 'hidden_layer_sizes': 10, 'learning_rate_init': 0.01, 'max_iter': 500, 'random_state': 512, 'solver': 'adam'}\n",
      "0.900 (+/-0.003) for {'activation': 'relu', 'alpha': 0.0001, 'hidden_layer_sizes': 10, 'learning_rate_init': 0.1, 'max_iter': 500, 'random_state': 512, 'solver': 'lbfgs'}\n",
      "0.924 (+/-0.005) for {'activation': 'relu', 'alpha': 0.0001, 'hidden_layer_sizes': 10, 'learning_rate_init': 0.1, 'max_iter': 500, 'random_state': 512, 'solver': 'sgd'}\n",
      "0.876 (+/-0.008) for {'activation': 'relu', 'alpha': 0.0001, 'hidden_layer_sizes': 10, 'learning_rate_init': 0.1, 'max_iter': 500, 'random_state': 512, 'solver': 'adam'}\n",
      "0.919 (+/-0.009) for {'activation': 'relu', 'alpha': 0.0001, 'hidden_layer_sizes': 11, 'learning_rate_init': 0.001, 'max_iter': 500, 'random_state': 512, 'solver': 'lbfgs'}\n",
      "0.922 (+/-0.006) for {'activation': 'relu', 'alpha': 0.0001, 'hidden_layer_sizes': 11, 'learning_rate_init': 0.001, 'max_iter': 500, 'random_state': 512, 'solver': 'sgd'}\n",
      "0.926 (+/-0.005) for {'activation': 'relu', 'alpha': 0.0001, 'hidden_layer_sizes': 11, 'learning_rate_init': 0.001, 'max_iter': 500, 'random_state': 512, 'solver': 'adam'}\n",
      "0.919 (+/-0.009) for {'activation': 'relu', 'alpha': 0.0001, 'hidden_layer_sizes': 11, 'learning_rate_init': 0.01, 'max_iter': 500, 'random_state': 512, 'solver': 'lbfgs'}\n",
      "0.932 (+/-0.005) for {'activation': 'relu', 'alpha': 0.0001, 'hidden_layer_sizes': 11, 'learning_rate_init': 0.01, 'max_iter': 500, 'random_state': 512, 'solver': 'sgd'}\n",
      "0.926 (+/-0.006) for {'activation': 'relu', 'alpha': 0.0001, 'hidden_layer_sizes': 11, 'learning_rate_init': 0.01, 'max_iter': 500, 'random_state': 512, 'solver': 'adam'}\n",
      "0.919 (+/-0.009) for {'activation': 'relu', 'alpha': 0.0001, 'hidden_layer_sizes': 11, 'learning_rate_init': 0.1, 'max_iter': 500, 'random_state': 512, 'solver': 'lbfgs'}\n",
      "0.929 (+/-0.007) for {'activation': 'relu', 'alpha': 0.0001, 'hidden_layer_sizes': 11, 'learning_rate_init': 0.1, 'max_iter': 500, 'random_state': 512, 'solver': 'sgd'}\n",
      "0.883 (+/-0.020) for {'activation': 'relu', 'alpha': 0.0001, 'hidden_layer_sizes': 11, 'learning_rate_init': 0.1, 'max_iter': 500, 'random_state': 512, 'solver': 'adam'}\n",
      "0.922 (+/-0.004) for {'activation': 'relu', 'alpha': 0.0001, 'hidden_layer_sizes': 12, 'learning_rate_init': 0.001, 'max_iter': 500, 'random_state': 512, 'solver': 'lbfgs'}\n",
      "0.924 (+/-0.005) for {'activation': 'relu', 'alpha': 0.0001, 'hidden_layer_sizes': 12, 'learning_rate_init': 0.001, 'max_iter': 500, 'random_state': 512, 'solver': 'sgd'}\n",
      "0.929 (+/-0.007) for {'activation': 'relu', 'alpha': 0.0001, 'hidden_layer_sizes': 12, 'learning_rate_init': 0.001, 'max_iter': 500, 'random_state': 512, 'solver': 'adam'}\n",
      "0.922 (+/-0.004) for {'activation': 'relu', 'alpha': 0.0001, 'hidden_layer_sizes': 12, 'learning_rate_init': 0.01, 'max_iter': 500, 'random_state': 512, 'solver': 'lbfgs'}\n",
      "0.933 (+/-0.006) for {'activation': 'relu', 'alpha': 0.0001, 'hidden_layer_sizes': 12, 'learning_rate_init': 0.01, 'max_iter': 500, 'random_state': 512, 'solver': 'sgd'}\n",
      "0.930 (+/-0.004) for {'activation': 'relu', 'alpha': 0.0001, 'hidden_layer_sizes': 12, 'learning_rate_init': 0.01, 'max_iter': 500, 'random_state': 512, 'solver': 'adam'}\n",
      "0.922 (+/-0.004) for {'activation': 'relu', 'alpha': 0.0001, 'hidden_layer_sizes': 12, 'learning_rate_init': 0.1, 'max_iter': 500, 'random_state': 512, 'solver': 'lbfgs'}\n",
      "0.934 (+/-0.005) for {'activation': 'relu', 'alpha': 0.0001, 'hidden_layer_sizes': 12, 'learning_rate_init': 0.1, 'max_iter': 500, 'random_state': 512, 'solver': 'sgd'}\n",
      "0.898 (+/-0.027) for {'activation': 'relu', 'alpha': 0.0001, 'hidden_layer_sizes': 12, 'learning_rate_init': 0.1, 'max_iter': 500, 'random_state': 512, 'solver': 'adam'}\n",
      "0.923 (+/-0.011) for {'activation': 'relu', 'alpha': 0.0001, 'hidden_layer_sizes': 13, 'learning_rate_init': 0.001, 'max_iter': 500, 'random_state': 512, 'solver': 'lbfgs'}\n",
      "0.917 (+/-0.008) for {'activation': 'relu', 'alpha': 0.0001, 'hidden_layer_sizes': 13, 'learning_rate_init': 0.001, 'max_iter': 500, 'random_state': 512, 'solver': 'sgd'}\n",
      "0.930 (+/-0.003) for {'activation': 'relu', 'alpha': 0.0001, 'hidden_layer_sizes': 13, 'learning_rate_init': 0.001, 'max_iter': 500, 'random_state': 512, 'solver': 'adam'}\n",
      "0.923 (+/-0.011) for {'activation': 'relu', 'alpha': 0.0001, 'hidden_layer_sizes': 13, 'learning_rate_init': 0.01, 'max_iter': 500, 'random_state': 512, 'solver': 'lbfgs'}\n",
      "0.936 (+/-0.004) for {'activation': 'relu', 'alpha': 0.0001, 'hidden_layer_sizes': 13, 'learning_rate_init': 0.01, 'max_iter': 500, 'random_state': 512, 'solver': 'sgd'}\n",
      "0.932 (+/-0.006) for {'activation': 'relu', 'alpha': 0.0001, 'hidden_layer_sizes': 13, 'learning_rate_init': 0.01, 'max_iter': 500, 'random_state': 512, 'solver': 'adam'}\n",
      "0.923 (+/-0.011) for {'activation': 'relu', 'alpha': 0.0001, 'hidden_layer_sizes': 13, 'learning_rate_init': 0.1, 'max_iter': 500, 'random_state': 512, 'solver': 'lbfgs'}\n",
      "0.933 (+/-0.003) for {'activation': 'relu', 'alpha': 0.0001, 'hidden_layer_sizes': 13, 'learning_rate_init': 0.1, 'max_iter': 500, 'random_state': 512, 'solver': 'sgd'}\n",
      "0.895 (+/-0.011) for {'activation': 'relu', 'alpha': 0.0001, 'hidden_layer_sizes': 13, 'learning_rate_init': 0.1, 'max_iter': 500, 'random_state': 512, 'solver': 'adam'}\n",
      "0.900 (+/-0.003) for {'activation': 'relu', 'alpha': 0.001, 'hidden_layer_sizes': 10, 'learning_rate_init': 0.001, 'max_iter': 500, 'random_state': 512, 'solver': 'lbfgs'}\n",
      "0.918 (+/-0.006) for {'activation': 'relu', 'alpha': 0.001, 'hidden_layer_sizes': 10, 'learning_rate_init': 0.001, 'max_iter': 500, 'random_state': 512, 'solver': 'sgd'}\n",
      "0.924 (+/-0.009) for {'activation': 'relu', 'alpha': 0.001, 'hidden_layer_sizes': 10, 'learning_rate_init': 0.001, 'max_iter': 500, 'random_state': 512, 'solver': 'adam'}\n",
      "0.900 (+/-0.003) for {'activation': 'relu', 'alpha': 0.001, 'hidden_layer_sizes': 10, 'learning_rate_init': 0.01, 'max_iter': 500, 'random_state': 512, 'solver': 'lbfgs'}\n",
      "0.927 (+/-0.005) for {'activation': 'relu', 'alpha': 0.001, 'hidden_layer_sizes': 10, 'learning_rate_init': 0.01, 'max_iter': 500, 'random_state': 512, 'solver': 'sgd'}\n",
      "0.918 (+/-0.014) for {'activation': 'relu', 'alpha': 0.001, 'hidden_layer_sizes': 10, 'learning_rate_init': 0.01, 'max_iter': 500, 'random_state': 512, 'solver': 'adam'}\n",
      "0.900 (+/-0.003) for {'activation': 'relu', 'alpha': 0.001, 'hidden_layer_sizes': 10, 'learning_rate_init': 0.1, 'max_iter': 500, 'random_state': 512, 'solver': 'lbfgs'}\n",
      "0.924 (+/-0.004) for {'activation': 'relu', 'alpha': 0.001, 'hidden_layer_sizes': 10, 'learning_rate_init': 0.1, 'max_iter': 500, 'random_state': 512, 'solver': 'sgd'}\n",
      "0.879 (+/-0.024) for {'activation': 'relu', 'alpha': 0.001, 'hidden_layer_sizes': 10, 'learning_rate_init': 0.1, 'max_iter': 500, 'random_state': 512, 'solver': 'adam'}\n",
      "0.919 (+/-0.008) for {'activation': 'relu', 'alpha': 0.001, 'hidden_layer_sizes': 11, 'learning_rate_init': 0.001, 'max_iter': 500, 'random_state': 512, 'solver': 'lbfgs'}\n",
      "0.922 (+/-0.006) for {'activation': 'relu', 'alpha': 0.001, 'hidden_layer_sizes': 11, 'learning_rate_init': 0.001, 'max_iter': 500, 'random_state': 512, 'solver': 'sgd'}\n",
      "0.927 (+/-0.005) for {'activation': 'relu', 'alpha': 0.001, 'hidden_layer_sizes': 11, 'learning_rate_init': 0.001, 'max_iter': 500, 'random_state': 512, 'solver': 'adam'}\n",
      "0.919 (+/-0.008) for {'activation': 'relu', 'alpha': 0.001, 'hidden_layer_sizes': 11, 'learning_rate_init': 0.01, 'max_iter': 500, 'random_state': 512, 'solver': 'lbfgs'}\n",
      "0.932 (+/-0.005) for {'activation': 'relu', 'alpha': 0.001, 'hidden_layer_sizes': 11, 'learning_rate_init': 0.01, 'max_iter': 500, 'random_state': 512, 'solver': 'sgd'}\n",
      "0.925 (+/-0.007) for {'activation': 'relu', 'alpha': 0.001, 'hidden_layer_sizes': 11, 'learning_rate_init': 0.01, 'max_iter': 500, 'random_state': 512, 'solver': 'adam'}\n",
      "0.919 (+/-0.008) for {'activation': 'relu', 'alpha': 0.001, 'hidden_layer_sizes': 11, 'learning_rate_init': 0.1, 'max_iter': 500, 'random_state': 512, 'solver': 'lbfgs'}\n",
      "0.928 (+/-0.005) for {'activation': 'relu', 'alpha': 0.001, 'hidden_layer_sizes': 11, 'learning_rate_init': 0.1, 'max_iter': 500, 'random_state': 512, 'solver': 'sgd'}\n",
      "0.884 (+/-0.022) for {'activation': 'relu', 'alpha': 0.001, 'hidden_layer_sizes': 11, 'learning_rate_init': 0.1, 'max_iter': 500, 'random_state': 512, 'solver': 'adam'}\n",
      "0.922 (+/-0.005) for {'activation': 'relu', 'alpha': 0.001, 'hidden_layer_sizes': 12, 'learning_rate_init': 0.001, 'max_iter': 500, 'random_state': 512, 'solver': 'lbfgs'}\n",
      "0.924 (+/-0.005) for {'activation': 'relu', 'alpha': 0.001, 'hidden_layer_sizes': 12, 'learning_rate_init': 0.001, 'max_iter': 500, 'random_state': 512, 'solver': 'sgd'}\n",
      "0.930 (+/-0.007) for {'activation': 'relu', 'alpha': 0.001, 'hidden_layer_sizes': 12, 'learning_rate_init': 0.001, 'max_iter': 500, 'random_state': 512, 'solver': 'adam'}\n",
      "0.922 (+/-0.005) for {'activation': 'relu', 'alpha': 0.001, 'hidden_layer_sizes': 12, 'learning_rate_init': 0.01, 'max_iter': 500, 'random_state': 512, 'solver': 'lbfgs'}\n",
      "0.933 (+/-0.006) for {'activation': 'relu', 'alpha': 0.001, 'hidden_layer_sizes': 12, 'learning_rate_init': 0.01, 'max_iter': 500, 'random_state': 512, 'solver': 'sgd'}\n",
      "0.930 (+/-0.005) for {'activation': 'relu', 'alpha': 0.001, 'hidden_layer_sizes': 12, 'learning_rate_init': 0.01, 'max_iter': 500, 'random_state': 512, 'solver': 'adam'}\n",
      "0.922 (+/-0.005) for {'activation': 'relu', 'alpha': 0.001, 'hidden_layer_sizes': 12, 'learning_rate_init': 0.1, 'max_iter': 500, 'random_state': 512, 'solver': 'lbfgs'}\n",
      "0.934 (+/-0.004) for {'activation': 'relu', 'alpha': 0.001, 'hidden_layer_sizes': 12, 'learning_rate_init': 0.1, 'max_iter': 500, 'random_state': 512, 'solver': 'sgd'}\n",
      "0.900 (+/-0.030) for {'activation': 'relu', 'alpha': 0.001, 'hidden_layer_sizes': 12, 'learning_rate_init': 0.1, 'max_iter': 500, 'random_state': 512, 'solver': 'adam'}\n",
      "0.923 (+/-0.011) for {'activation': 'relu', 'alpha': 0.001, 'hidden_layer_sizes': 13, 'learning_rate_init': 0.001, 'max_iter': 500, 'random_state': 512, 'solver': 'lbfgs'}\n",
      "0.917 (+/-0.008) for {'activation': 'relu', 'alpha': 0.001, 'hidden_layer_sizes': 13, 'learning_rate_init': 0.001, 'max_iter': 500, 'random_state': 512, 'solver': 'sgd'}\n",
      "0.931 (+/-0.003) for {'activation': 'relu', 'alpha': 0.001, 'hidden_layer_sizes': 13, 'learning_rate_init': 0.001, 'max_iter': 500, 'random_state': 512, 'solver': 'adam'}\n",
      "0.923 (+/-0.011) for {'activation': 'relu', 'alpha': 0.001, 'hidden_layer_sizes': 13, 'learning_rate_init': 0.01, 'max_iter': 500, 'random_state': 512, 'solver': 'lbfgs'}\n",
      "0.936 (+/-0.005) for {'activation': 'relu', 'alpha': 0.001, 'hidden_layer_sizes': 13, 'learning_rate_init': 0.01, 'max_iter': 500, 'random_state': 512, 'solver': 'sgd'}\n",
      "0.933 (+/-0.004) for {'activation': 'relu', 'alpha': 0.001, 'hidden_layer_sizes': 13, 'learning_rate_init': 0.01, 'max_iter': 500, 'random_state': 512, 'solver': 'adam'}\n",
      "0.923 (+/-0.011) for {'activation': 'relu', 'alpha': 0.001, 'hidden_layer_sizes': 13, 'learning_rate_init': 0.1, 'max_iter': 500, 'random_state': 512, 'solver': 'lbfgs'}\n",
      "0.933 (+/-0.005) for {'activation': 'relu', 'alpha': 0.001, 'hidden_layer_sizes': 13, 'learning_rate_init': 0.1, 'max_iter': 500, 'random_state': 512, 'solver': 'sgd'}\n",
      "0.897 (+/-0.014) for {'activation': 'relu', 'alpha': 0.001, 'hidden_layer_sizes': 13, 'learning_rate_init': 0.1, 'max_iter': 500, 'random_state': 512, 'solver': 'adam'}\n",
      "# Tuning hyper-parameters for recall\n",
      "\n",
      "Best parameters set found on development set:\n",
      "\n",
      "{'activation': 'relu', 'alpha': 0.0001, 'hidden_layer_sizes': 13, 'learning_rate_init': 0.01, 'max_iter': 500, 'random_state': 512, 'solver': 'sgd'}\n",
      "\n",
      "Grid scores on development set:\n",
      "\n",
      "0.908 (+/-0.009) for {'activation': 'identity', 'alpha': 0.0001, 'hidden_layer_sizes': 10, 'learning_rate_init': 0.001, 'max_iter': 500, 'random_state': 512, 'solver': 'lbfgs'}\n",
      "0.905 (+/-0.010) for {'activation': 'identity', 'alpha': 0.0001, 'hidden_layer_sizes': 10, 'learning_rate_init': 0.001, 'max_iter': 500, 'random_state': 512, 'solver': 'sgd'}\n",
      "0.908 (+/-0.008) for {'activation': 'identity', 'alpha': 0.0001, 'hidden_layer_sizes': 10, 'learning_rate_init': 0.001, 'max_iter': 500, 'random_state': 512, 'solver': 'adam'}\n",
      "0.908 (+/-0.009) for {'activation': 'identity', 'alpha': 0.0001, 'hidden_layer_sizes': 10, 'learning_rate_init': 0.01, 'max_iter': 500, 'random_state': 512, 'solver': 'lbfgs'}\n",
      "0.906 (+/-0.009) for {'activation': 'identity', 'alpha': 0.0001, 'hidden_layer_sizes': 10, 'learning_rate_init': 0.01, 'max_iter': 500, 'random_state': 512, 'solver': 'sgd'}\n",
      "0.906 (+/-0.009) for {'activation': 'identity', 'alpha': 0.0001, 'hidden_layer_sizes': 10, 'learning_rate_init': 0.01, 'max_iter': 500, 'random_state': 512, 'solver': 'adam'}\n",
      "0.908 (+/-0.009) for {'activation': 'identity', 'alpha': 0.0001, 'hidden_layer_sizes': 10, 'learning_rate_init': 0.1, 'max_iter': 500, 'random_state': 512, 'solver': 'lbfgs'}\n",
      "0.905 (+/-0.009) for {'activation': 'identity', 'alpha': 0.0001, 'hidden_layer_sizes': 10, 'learning_rate_init': 0.1, 'max_iter': 500, 'random_state': 512, 'solver': 'sgd'}\n",
      "0.866 (+/-0.023) for {'activation': 'identity', 'alpha': 0.0001, 'hidden_layer_sizes': 10, 'learning_rate_init': 0.1, 'max_iter': 500, 'random_state': 512, 'solver': 'adam'}\n",
      "0.907 (+/-0.009) for {'activation': 'identity', 'alpha': 0.0001, 'hidden_layer_sizes': 11, 'learning_rate_init': 0.001, 'max_iter': 500, 'random_state': 512, 'solver': 'lbfgs'}\n",
      "0.905 (+/-0.009) for {'activation': 'identity', 'alpha': 0.0001, 'hidden_layer_sizes': 11, 'learning_rate_init': 0.001, 'max_iter': 500, 'random_state': 512, 'solver': 'sgd'}\n",
      "0.907 (+/-0.009) for {'activation': 'identity', 'alpha': 0.0001, 'hidden_layer_sizes': 11, 'learning_rate_init': 0.001, 'max_iter': 500, 'random_state': 512, 'solver': 'adam'}\n",
      "0.907 (+/-0.009) for {'activation': 'identity', 'alpha': 0.0001, 'hidden_layer_sizes': 11, 'learning_rate_init': 0.01, 'max_iter': 500, 'random_state': 512, 'solver': 'lbfgs'}\n",
      "0.906 (+/-0.011) for {'activation': 'identity', 'alpha': 0.0001, 'hidden_layer_sizes': 11, 'learning_rate_init': 0.01, 'max_iter': 500, 'random_state': 512, 'solver': 'sgd'}\n",
      "0.905 (+/-0.009) for {'activation': 'identity', 'alpha': 0.0001, 'hidden_layer_sizes': 11, 'learning_rate_init': 0.01, 'max_iter': 500, 'random_state': 512, 'solver': 'adam'}\n",
      "0.907 (+/-0.009) for {'activation': 'identity', 'alpha': 0.0001, 'hidden_layer_sizes': 11, 'learning_rate_init': 0.1, 'max_iter': 500, 'random_state': 512, 'solver': 'lbfgs'}\n",
      "0.904 (+/-0.005) for {'activation': 'identity', 'alpha': 0.0001, 'hidden_layer_sizes': 11, 'learning_rate_init': 0.1, 'max_iter': 500, 'random_state': 512, 'solver': 'sgd'}\n",
      "0.866 (+/-0.016) for {'activation': 'identity', 'alpha': 0.0001, 'hidden_layer_sizes': 11, 'learning_rate_init': 0.1, 'max_iter': 500, 'random_state': 512, 'solver': 'adam'}\n",
      "0.907 (+/-0.009) for {'activation': 'identity', 'alpha': 0.0001, 'hidden_layer_sizes': 12, 'learning_rate_init': 0.001, 'max_iter': 500, 'random_state': 512, 'solver': 'lbfgs'}\n",
      "0.905 (+/-0.008) for {'activation': 'identity', 'alpha': 0.0001, 'hidden_layer_sizes': 12, 'learning_rate_init': 0.001, 'max_iter': 500, 'random_state': 512, 'solver': 'sgd'}\n",
      "0.908 (+/-0.009) for {'activation': 'identity', 'alpha': 0.0001, 'hidden_layer_sizes': 12, 'learning_rate_init': 0.001, 'max_iter': 500, 'random_state': 512, 'solver': 'adam'}\n",
      "0.907 (+/-0.009) for {'activation': 'identity', 'alpha': 0.0001, 'hidden_layer_sizes': 12, 'learning_rate_init': 0.01, 'max_iter': 500, 'random_state': 512, 'solver': 'lbfgs'}\n",
      "0.907 (+/-0.009) for {'activation': 'identity', 'alpha': 0.0001, 'hidden_layer_sizes': 12, 'learning_rate_init': 0.01, 'max_iter': 500, 'random_state': 512, 'solver': 'sgd'}\n",
      "0.904 (+/-0.007) for {'activation': 'identity', 'alpha': 0.0001, 'hidden_layer_sizes': 12, 'learning_rate_init': 0.01, 'max_iter': 500, 'random_state': 512, 'solver': 'adam'}\n",
      "0.907 (+/-0.009) for {'activation': 'identity', 'alpha': 0.0001, 'hidden_layer_sizes': 12, 'learning_rate_init': 0.1, 'max_iter': 500, 'random_state': 512, 'solver': 'lbfgs'}\n",
      "0.904 (+/-0.011) for {'activation': 'identity', 'alpha': 0.0001, 'hidden_layer_sizes': 12, 'learning_rate_init': 0.1, 'max_iter': 500, 'random_state': 512, 'solver': 'sgd'}\n",
      "0.866 (+/-0.014) for {'activation': 'identity', 'alpha': 0.0001, 'hidden_layer_sizes': 12, 'learning_rate_init': 0.1, 'max_iter': 500, 'random_state': 512, 'solver': 'adam'}\n",
      "0.907 (+/-0.009) for {'activation': 'identity', 'alpha': 0.0001, 'hidden_layer_sizes': 13, 'learning_rate_init': 0.001, 'max_iter': 500, 'random_state': 512, 'solver': 'lbfgs'}\n",
      "0.905 (+/-0.010) for {'activation': 'identity', 'alpha': 0.0001, 'hidden_layer_sizes': 13, 'learning_rate_init': 0.001, 'max_iter': 500, 'random_state': 512, 'solver': 'sgd'}\n",
      "0.907 (+/-0.010) for {'activation': 'identity', 'alpha': 0.0001, 'hidden_layer_sizes': 13, 'learning_rate_init': 0.001, 'max_iter': 500, 'random_state': 512, 'solver': 'adam'}\n",
      "0.907 (+/-0.009) for {'activation': 'identity', 'alpha': 0.0001, 'hidden_layer_sizes': 13, 'learning_rate_init': 0.01, 'max_iter': 500, 'random_state': 512, 'solver': 'lbfgs'}\n",
      "0.906 (+/-0.008) for {'activation': 'identity', 'alpha': 0.0001, 'hidden_layer_sizes': 13, 'learning_rate_init': 0.01, 'max_iter': 500, 'random_state': 512, 'solver': 'sgd'}\n",
      "0.903 (+/-0.007) for {'activation': 'identity', 'alpha': 0.0001, 'hidden_layer_sizes': 13, 'learning_rate_init': 0.01, 'max_iter': 500, 'random_state': 512, 'solver': 'adam'}\n",
      "0.907 (+/-0.009) for {'activation': 'identity', 'alpha': 0.0001, 'hidden_layer_sizes': 13, 'learning_rate_init': 0.1, 'max_iter': 500, 'random_state': 512, 'solver': 'lbfgs'}\n",
      "0.905 (+/-0.008) for {'activation': 'identity', 'alpha': 0.0001, 'hidden_layer_sizes': 13, 'learning_rate_init': 0.1, 'max_iter': 500, 'random_state': 512, 'solver': 'sgd'}\n",
      "0.868 (+/-0.015) for {'activation': 'identity', 'alpha': 0.0001, 'hidden_layer_sizes': 13, 'learning_rate_init': 0.1, 'max_iter': 500, 'random_state': 512, 'solver': 'adam'}\n",
      "0.907 (+/-0.009) for {'activation': 'identity', 'alpha': 0.001, 'hidden_layer_sizes': 10, 'learning_rate_init': 0.001, 'max_iter': 500, 'random_state': 512, 'solver': 'lbfgs'}\n",
      "0.905 (+/-0.010) for {'activation': 'identity', 'alpha': 0.001, 'hidden_layer_sizes': 10, 'learning_rate_init': 0.001, 'max_iter': 500, 'random_state': 512, 'solver': 'sgd'}\n",
      "0.908 (+/-0.009) for {'activation': 'identity', 'alpha': 0.001, 'hidden_layer_sizes': 10, 'learning_rate_init': 0.001, 'max_iter': 500, 'random_state': 512, 'solver': 'adam'}\n",
      "0.907 (+/-0.009) for {'activation': 'identity', 'alpha': 0.001, 'hidden_layer_sizes': 10, 'learning_rate_init': 0.01, 'max_iter': 500, 'random_state': 512, 'solver': 'lbfgs'}\n",
      "0.906 (+/-0.009) for {'activation': 'identity', 'alpha': 0.001, 'hidden_layer_sizes': 10, 'learning_rate_init': 0.01, 'max_iter': 500, 'random_state': 512, 'solver': 'sgd'}\n",
      "0.906 (+/-0.009) for {'activation': 'identity', 'alpha': 0.001, 'hidden_layer_sizes': 10, 'learning_rate_init': 0.01, 'max_iter': 500, 'random_state': 512, 'solver': 'adam'}\n",
      "0.907 (+/-0.009) for {'activation': 'identity', 'alpha': 0.001, 'hidden_layer_sizes': 10, 'learning_rate_init': 0.1, 'max_iter': 500, 'random_state': 512, 'solver': 'lbfgs'}\n",
      "0.904 (+/-0.009) for {'activation': 'identity', 'alpha': 0.001, 'hidden_layer_sizes': 10, 'learning_rate_init': 0.1, 'max_iter': 500, 'random_state': 512, 'solver': 'sgd'}\n",
      "0.868 (+/-0.016) for {'activation': 'identity', 'alpha': 0.001, 'hidden_layer_sizes': 10, 'learning_rate_init': 0.1, 'max_iter': 500, 'random_state': 512, 'solver': 'adam'}\n",
      "0.907 (+/-0.009) for {'activation': 'identity', 'alpha': 0.001, 'hidden_layer_sizes': 11, 'learning_rate_init': 0.001, 'max_iter': 500, 'random_state': 512, 'solver': 'lbfgs'}\n",
      "0.905 (+/-0.009) for {'activation': 'identity', 'alpha': 0.001, 'hidden_layer_sizes': 11, 'learning_rate_init': 0.001, 'max_iter': 500, 'random_state': 512, 'solver': 'sgd'}\n",
      "0.907 (+/-0.009) for {'activation': 'identity', 'alpha': 0.001, 'hidden_layer_sizes': 11, 'learning_rate_init': 0.001, 'max_iter': 500, 'random_state': 512, 'solver': 'adam'}\n",
      "0.907 (+/-0.009) for {'activation': 'identity', 'alpha': 0.001, 'hidden_layer_sizes': 11, 'learning_rate_init': 0.01, 'max_iter': 500, 'random_state': 512, 'solver': 'lbfgs'}\n",
      "0.906 (+/-0.011) for {'activation': 'identity', 'alpha': 0.001, 'hidden_layer_sizes': 11, 'learning_rate_init': 0.01, 'max_iter': 500, 'random_state': 512, 'solver': 'sgd'}\n",
      "0.903 (+/-0.011) for {'activation': 'identity', 'alpha': 0.001, 'hidden_layer_sizes': 11, 'learning_rate_init': 0.01, 'max_iter': 500, 'random_state': 512, 'solver': 'adam'}\n",
      "0.907 (+/-0.009) for {'activation': 'identity', 'alpha': 0.001, 'hidden_layer_sizes': 11, 'learning_rate_init': 0.1, 'max_iter': 500, 'random_state': 512, 'solver': 'lbfgs'}\n",
      "0.903 (+/-0.006) for {'activation': 'identity', 'alpha': 0.001, 'hidden_layer_sizes': 11, 'learning_rate_init': 0.1, 'max_iter': 500, 'random_state': 512, 'solver': 'sgd'}\n",
      "0.871 (+/-0.009) for {'activation': 'identity', 'alpha': 0.001, 'hidden_layer_sizes': 11, 'learning_rate_init': 0.1, 'max_iter': 500, 'random_state': 512, 'solver': 'adam'}\n",
      "0.907 (+/-0.009) for {'activation': 'identity', 'alpha': 0.001, 'hidden_layer_sizes': 12, 'learning_rate_init': 0.001, 'max_iter': 500, 'random_state': 512, 'solver': 'lbfgs'}\n",
      "0.905 (+/-0.008) for {'activation': 'identity', 'alpha': 0.001, 'hidden_layer_sizes': 12, 'learning_rate_init': 0.001, 'max_iter': 500, 'random_state': 512, 'solver': 'sgd'}\n",
      "0.908 (+/-0.010) for {'activation': 'identity', 'alpha': 0.001, 'hidden_layer_sizes': 12, 'learning_rate_init': 0.001, 'max_iter': 500, 'random_state': 512, 'solver': 'adam'}\n",
      "0.907 (+/-0.009) for {'activation': 'identity', 'alpha': 0.001, 'hidden_layer_sizes': 12, 'learning_rate_init': 0.01, 'max_iter': 500, 'random_state': 512, 'solver': 'lbfgs'}\n",
      "0.907 (+/-0.009) for {'activation': 'identity', 'alpha': 0.001, 'hidden_layer_sizes': 12, 'learning_rate_init': 0.01, 'max_iter': 500, 'random_state': 512, 'solver': 'sgd'}\n",
      "0.904 (+/-0.008) for {'activation': 'identity', 'alpha': 0.001, 'hidden_layer_sizes': 12, 'learning_rate_init': 0.01, 'max_iter': 500, 'random_state': 512, 'solver': 'adam'}\n",
      "0.907 (+/-0.009) for {'activation': 'identity', 'alpha': 0.001, 'hidden_layer_sizes': 12, 'learning_rate_init': 0.1, 'max_iter': 500, 'random_state': 512, 'solver': 'lbfgs'}\n",
      "0.904 (+/-0.011) for {'activation': 'identity', 'alpha': 0.001, 'hidden_layer_sizes': 12, 'learning_rate_init': 0.1, 'max_iter': 500, 'random_state': 512, 'solver': 'sgd'}\n",
      "0.864 (+/-0.011) for {'activation': 'identity', 'alpha': 0.001, 'hidden_layer_sizes': 12, 'learning_rate_init': 0.1, 'max_iter': 500, 'random_state': 512, 'solver': 'adam'}\n",
      "0.907 (+/-0.009) for {'activation': 'identity', 'alpha': 0.001, 'hidden_layer_sizes': 13, 'learning_rate_init': 0.001, 'max_iter': 500, 'random_state': 512, 'solver': 'lbfgs'}\n",
      "0.905 (+/-0.010) for {'activation': 'identity', 'alpha': 0.001, 'hidden_layer_sizes': 13, 'learning_rate_init': 0.001, 'max_iter': 500, 'random_state': 512, 'solver': 'sgd'}\n",
      "0.907 (+/-0.011) for {'activation': 'identity', 'alpha': 0.001, 'hidden_layer_sizes': 13, 'learning_rate_init': 0.001, 'max_iter': 500, 'random_state': 512, 'solver': 'adam'}\n",
      "0.907 (+/-0.009) for {'activation': 'identity', 'alpha': 0.001, 'hidden_layer_sizes': 13, 'learning_rate_init': 0.01, 'max_iter': 500, 'random_state': 512, 'solver': 'lbfgs'}\n",
      "0.906 (+/-0.008) for {'activation': 'identity', 'alpha': 0.001, 'hidden_layer_sizes': 13, 'learning_rate_init': 0.01, 'max_iter': 500, 'random_state': 512, 'solver': 'sgd'}\n",
      "0.903 (+/-0.010) for {'activation': 'identity', 'alpha': 0.001, 'hidden_layer_sizes': 13, 'learning_rate_init': 0.01, 'max_iter': 500, 'random_state': 512, 'solver': 'adam'}\n",
      "0.907 (+/-0.009) for {'activation': 'identity', 'alpha': 0.001, 'hidden_layer_sizes': 13, 'learning_rate_init': 0.1, 'max_iter': 500, 'random_state': 512, 'solver': 'lbfgs'}\n",
      "0.905 (+/-0.008) for {'activation': 'identity', 'alpha': 0.001, 'hidden_layer_sizes': 13, 'learning_rate_init': 0.1, 'max_iter': 500, 'random_state': 512, 'solver': 'sgd'}\n",
      "0.870 (+/-0.016) for {'activation': 'identity', 'alpha': 0.001, 'hidden_layer_sizes': 13, 'learning_rate_init': 0.1, 'max_iter': 500, 'random_state': 512, 'solver': 'adam'}\n",
      "0.929 (+/-0.003) for {'activation': 'logistic', 'alpha': 0.0001, 'hidden_layer_sizes': 10, 'learning_rate_init': 0.001, 'max_iter': 500, 'random_state': 512, 'solver': 'lbfgs'}\n",
      "0.899 (+/-0.005) for {'activation': 'logistic', 'alpha': 0.0001, 'hidden_layer_sizes': 10, 'learning_rate_init': 0.001, 'max_iter': 500, 'random_state': 512, 'solver': 'sgd'}\n",
      "0.922 (+/-0.007) for {'activation': 'logistic', 'alpha': 0.0001, 'hidden_layer_sizes': 10, 'learning_rate_init': 0.001, 'max_iter': 500, 'random_state': 512, 'solver': 'adam'}\n",
      "0.929 (+/-0.003) for {'activation': 'logistic', 'alpha': 0.0001, 'hidden_layer_sizes': 10, 'learning_rate_init': 0.01, 'max_iter': 500, 'random_state': 512, 'solver': 'lbfgs'}\n",
      "0.921 (+/-0.008) for {'activation': 'logistic', 'alpha': 0.0001, 'hidden_layer_sizes': 10, 'learning_rate_init': 0.01, 'max_iter': 500, 'random_state': 512, 'solver': 'sgd'}\n",
      "0.922 (+/-0.005) for {'activation': 'logistic', 'alpha': 0.0001, 'hidden_layer_sizes': 10, 'learning_rate_init': 0.01, 'max_iter': 500, 'random_state': 512, 'solver': 'adam'}\n",
      "0.929 (+/-0.003) for {'activation': 'logistic', 'alpha': 0.0001, 'hidden_layer_sizes': 10, 'learning_rate_init': 0.1, 'max_iter': 500, 'random_state': 512, 'solver': 'lbfgs'}\n",
      "0.923 (+/-0.011) for {'activation': 'logistic', 'alpha': 0.0001, 'hidden_layer_sizes': 10, 'learning_rate_init': 0.1, 'max_iter': 500, 'random_state': 512, 'solver': 'sgd'}\n",
      "0.901 (+/-0.006) for {'activation': 'logistic', 'alpha': 0.0001, 'hidden_layer_sizes': 10, 'learning_rate_init': 0.1, 'max_iter': 500, 'random_state': 512, 'solver': 'adam'}\n",
      "0.930 (+/-0.004) for {'activation': 'logistic', 'alpha': 0.0001, 'hidden_layer_sizes': 11, 'learning_rate_init': 0.001, 'max_iter': 500, 'random_state': 512, 'solver': 'lbfgs'}\n",
      "0.899 (+/-0.007) for {'activation': 'logistic', 'alpha': 0.0001, 'hidden_layer_sizes': 11, 'learning_rate_init': 0.001, 'max_iter': 500, 'random_state': 512, 'solver': 'sgd'}\n",
      "0.927 (+/-0.006) for {'activation': 'logistic', 'alpha': 0.0001, 'hidden_layer_sizes': 11, 'learning_rate_init': 0.001, 'max_iter': 500, 'random_state': 512, 'solver': 'adam'}\n",
      "0.930 (+/-0.004) for {'activation': 'logistic', 'alpha': 0.0001, 'hidden_layer_sizes': 11, 'learning_rate_init': 0.01, 'max_iter': 500, 'random_state': 512, 'solver': 'lbfgs'}\n",
      "0.922 (+/-0.005) for {'activation': 'logistic', 'alpha': 0.0001, 'hidden_layer_sizes': 11, 'learning_rate_init': 0.01, 'max_iter': 500, 'random_state': 512, 'solver': 'sgd'}\n",
      "0.925 (+/-0.004) for {'activation': 'logistic', 'alpha': 0.0001, 'hidden_layer_sizes': 11, 'learning_rate_init': 0.01, 'max_iter': 500, 'random_state': 512, 'solver': 'adam'}\n",
      "0.930 (+/-0.004) for {'activation': 'logistic', 'alpha': 0.0001, 'hidden_layer_sizes': 11, 'learning_rate_init': 0.1, 'max_iter': 500, 'random_state': 512, 'solver': 'lbfgs'}\n",
      "0.930 (+/-0.006) for {'activation': 'logistic', 'alpha': 0.0001, 'hidden_layer_sizes': 11, 'learning_rate_init': 0.1, 'max_iter': 500, 'random_state': 512, 'solver': 'sgd'}\n",
      "0.900 (+/-0.018) for {'activation': 'logistic', 'alpha': 0.0001, 'hidden_layer_sizes': 11, 'learning_rate_init': 0.1, 'max_iter': 500, 'random_state': 512, 'solver': 'adam'}\n",
      "0.934 (+/-0.009) for {'activation': 'logistic', 'alpha': 0.0001, 'hidden_layer_sizes': 12, 'learning_rate_init': 0.001, 'max_iter': 500, 'random_state': 512, 'solver': 'lbfgs'}\n",
      "0.900 (+/-0.007) for {'activation': 'logistic', 'alpha': 0.0001, 'hidden_layer_sizes': 12, 'learning_rate_init': 0.001, 'max_iter': 500, 'random_state': 512, 'solver': 'sgd'}\n",
      "0.926 (+/-0.007) for {'activation': 'logistic', 'alpha': 0.0001, 'hidden_layer_sizes': 12, 'learning_rate_init': 0.001, 'max_iter': 500, 'random_state': 512, 'solver': 'adam'}\n",
      "0.934 (+/-0.009) for {'activation': 'logistic', 'alpha': 0.0001, 'hidden_layer_sizes': 12, 'learning_rate_init': 0.01, 'max_iter': 500, 'random_state': 512, 'solver': 'lbfgs'}\n",
      "0.927 (+/-0.004) for {'activation': 'logistic', 'alpha': 0.0001, 'hidden_layer_sizes': 12, 'learning_rate_init': 0.01, 'max_iter': 500, 'random_state': 512, 'solver': 'sgd'}\n",
      "0.925 (+/-0.007) for {'activation': 'logistic', 'alpha': 0.0001, 'hidden_layer_sizes': 12, 'learning_rate_init': 0.01, 'max_iter': 500, 'random_state': 512, 'solver': 'adam'}\n",
      "0.934 (+/-0.009) for {'activation': 'logistic', 'alpha': 0.0001, 'hidden_layer_sizes': 12, 'learning_rate_init': 0.1, 'max_iter': 500, 'random_state': 512, 'solver': 'lbfgs'}\n",
      "0.931 (+/-0.008) for {'activation': 'logistic', 'alpha': 0.0001, 'hidden_layer_sizes': 12, 'learning_rate_init': 0.1, 'max_iter': 500, 'random_state': 512, 'solver': 'sgd'}\n",
      "0.910 (+/-0.008) for {'activation': 'logistic', 'alpha': 0.0001, 'hidden_layer_sizes': 12, 'learning_rate_init': 0.1, 'max_iter': 500, 'random_state': 512, 'solver': 'adam'}\n",
      "0.935 (+/-0.003) for {'activation': 'logistic', 'alpha': 0.0001, 'hidden_layer_sizes': 13, 'learning_rate_init': 0.001, 'max_iter': 500, 'random_state': 512, 'solver': 'lbfgs'}\n",
      "0.904 (+/-0.006) for {'activation': 'logistic', 'alpha': 0.0001, 'hidden_layer_sizes': 13, 'learning_rate_init': 0.001, 'max_iter': 500, 'random_state': 512, 'solver': 'sgd'}\n",
      "0.929 (+/-0.008) for {'activation': 'logistic', 'alpha': 0.0001, 'hidden_layer_sizes': 13, 'learning_rate_init': 0.001, 'max_iter': 500, 'random_state': 512, 'solver': 'adam'}\n",
      "0.935 (+/-0.003) for {'activation': 'logistic', 'alpha': 0.0001, 'hidden_layer_sizes': 13, 'learning_rate_init': 0.01, 'max_iter': 500, 'random_state': 512, 'solver': 'lbfgs'}\n",
      "0.931 (+/-0.007) for {'activation': 'logistic', 'alpha': 0.0001, 'hidden_layer_sizes': 13, 'learning_rate_init': 0.01, 'max_iter': 500, 'random_state': 512, 'solver': 'sgd'}\n",
      "0.928 (+/-0.003) for {'activation': 'logistic', 'alpha': 0.0001, 'hidden_layer_sizes': 13, 'learning_rate_init': 0.01, 'max_iter': 500, 'random_state': 512, 'solver': 'adam'}\n",
      "0.935 (+/-0.003) for {'activation': 'logistic', 'alpha': 0.0001, 'hidden_layer_sizes': 13, 'learning_rate_init': 0.1, 'max_iter': 500, 'random_state': 512, 'solver': 'lbfgs'}\n",
      "0.935 (+/-0.005) for {'activation': 'logistic', 'alpha': 0.0001, 'hidden_layer_sizes': 13, 'learning_rate_init': 0.1, 'max_iter': 500, 'random_state': 512, 'solver': 'sgd'}\n",
      "0.910 (+/-0.011) for {'activation': 'logistic', 'alpha': 0.0001, 'hidden_layer_sizes': 13, 'learning_rate_init': 0.1, 'max_iter': 500, 'random_state': 512, 'solver': 'adam'}\n",
      "0.929 (+/-0.003) for {'activation': 'logistic', 'alpha': 0.001, 'hidden_layer_sizes': 10, 'learning_rate_init': 0.001, 'max_iter': 500, 'random_state': 512, 'solver': 'lbfgs'}\n",
      "0.899 (+/-0.005) for {'activation': 'logistic', 'alpha': 0.001, 'hidden_layer_sizes': 10, 'learning_rate_init': 0.001, 'max_iter': 500, 'random_state': 512, 'solver': 'sgd'}\n",
      "0.924 (+/-0.007) for {'activation': 'logistic', 'alpha': 0.001, 'hidden_layer_sizes': 10, 'learning_rate_init': 0.001, 'max_iter': 500, 'random_state': 512, 'solver': 'adam'}\n",
      "0.929 (+/-0.003) for {'activation': 'logistic', 'alpha': 0.001, 'hidden_layer_sizes': 10, 'learning_rate_init': 0.01, 'max_iter': 500, 'random_state': 512, 'solver': 'lbfgs'}\n",
      "0.921 (+/-0.008) for {'activation': 'logistic', 'alpha': 0.001, 'hidden_layer_sizes': 10, 'learning_rate_init': 0.01, 'max_iter': 500, 'random_state': 512, 'solver': 'sgd'}\n",
      "0.923 (+/-0.006) for {'activation': 'logistic', 'alpha': 0.001, 'hidden_layer_sizes': 10, 'learning_rate_init': 0.01, 'max_iter': 500, 'random_state': 512, 'solver': 'adam'}\n",
      "0.929 (+/-0.003) for {'activation': 'logistic', 'alpha': 0.001, 'hidden_layer_sizes': 10, 'learning_rate_init': 0.1, 'max_iter': 500, 'random_state': 512, 'solver': 'lbfgs'}\n",
      "0.923 (+/-0.008) for {'activation': 'logistic', 'alpha': 0.001, 'hidden_layer_sizes': 10, 'learning_rate_init': 0.1, 'max_iter': 500, 'random_state': 512, 'solver': 'sgd'}\n",
      "0.901 (+/-0.012) for {'activation': 'logistic', 'alpha': 0.001, 'hidden_layer_sizes': 10, 'learning_rate_init': 0.1, 'max_iter': 500, 'random_state': 512, 'solver': 'adam'}\n",
      "0.930 (+/-0.004) for {'activation': 'logistic', 'alpha': 0.001, 'hidden_layer_sizes': 11, 'learning_rate_init': 0.001, 'max_iter': 500, 'random_state': 512, 'solver': 'lbfgs'}\n",
      "0.899 (+/-0.007) for {'activation': 'logistic', 'alpha': 0.001, 'hidden_layer_sizes': 11, 'learning_rate_init': 0.001, 'max_iter': 500, 'random_state': 512, 'solver': 'sgd'}\n",
      "0.928 (+/-0.006) for {'activation': 'logistic', 'alpha': 0.001, 'hidden_layer_sizes': 11, 'learning_rate_init': 0.001, 'max_iter': 500, 'random_state': 512, 'solver': 'adam'}\n",
      "0.930 (+/-0.004) for {'activation': 'logistic', 'alpha': 0.001, 'hidden_layer_sizes': 11, 'learning_rate_init': 0.01, 'max_iter': 500, 'random_state': 512, 'solver': 'lbfgs'}\n",
      "0.922 (+/-0.005) for {'activation': 'logistic', 'alpha': 0.001, 'hidden_layer_sizes': 11, 'learning_rate_init': 0.01, 'max_iter': 500, 'random_state': 512, 'solver': 'sgd'}\n",
      "0.927 (+/-0.005) for {'activation': 'logistic', 'alpha': 0.001, 'hidden_layer_sizes': 11, 'learning_rate_init': 0.01, 'max_iter': 500, 'random_state': 512, 'solver': 'adam'}\n",
      "0.930 (+/-0.004) for {'activation': 'logistic', 'alpha': 0.001, 'hidden_layer_sizes': 11, 'learning_rate_init': 0.1, 'max_iter': 500, 'random_state': 512, 'solver': 'lbfgs'}\n",
      "0.931 (+/-0.005) for {'activation': 'logistic', 'alpha': 0.001, 'hidden_layer_sizes': 11, 'learning_rate_init': 0.1, 'max_iter': 500, 'random_state': 512, 'solver': 'sgd'}\n",
      "0.902 (+/-0.017) for {'activation': 'logistic', 'alpha': 0.001, 'hidden_layer_sizes': 11, 'learning_rate_init': 0.1, 'max_iter': 500, 'random_state': 512, 'solver': 'adam'}\n",
      "0.935 (+/-0.010) for {'activation': 'logistic', 'alpha': 0.001, 'hidden_layer_sizes': 12, 'learning_rate_init': 0.001, 'max_iter': 500, 'random_state': 512, 'solver': 'lbfgs'}\n",
      "0.900 (+/-0.007) for {'activation': 'logistic', 'alpha': 0.001, 'hidden_layer_sizes': 12, 'learning_rate_init': 0.001, 'max_iter': 500, 'random_state': 512, 'solver': 'sgd'}\n",
      "0.927 (+/-0.008) for {'activation': 'logistic', 'alpha': 0.001, 'hidden_layer_sizes': 12, 'learning_rate_init': 0.001, 'max_iter': 500, 'random_state': 512, 'solver': 'adam'}\n",
      "0.935 (+/-0.010) for {'activation': 'logistic', 'alpha': 0.001, 'hidden_layer_sizes': 12, 'learning_rate_init': 0.01, 'max_iter': 500, 'random_state': 512, 'solver': 'lbfgs'}\n",
      "0.927 (+/-0.005) for {'activation': 'logistic', 'alpha': 0.001, 'hidden_layer_sizes': 12, 'learning_rate_init': 0.01, 'max_iter': 500, 'random_state': 512, 'solver': 'sgd'}\n",
      "0.931 (+/-0.003) for {'activation': 'logistic', 'alpha': 0.001, 'hidden_layer_sizes': 12, 'learning_rate_init': 0.01, 'max_iter': 500, 'random_state': 512, 'solver': 'adam'}\n",
      "0.935 (+/-0.010) for {'activation': 'logistic', 'alpha': 0.001, 'hidden_layer_sizes': 12, 'learning_rate_init': 0.1, 'max_iter': 500, 'random_state': 512, 'solver': 'lbfgs'}\n",
      "0.932 (+/-0.010) for {'activation': 'logistic', 'alpha': 0.001, 'hidden_layer_sizes': 12, 'learning_rate_init': 0.1, 'max_iter': 500, 'random_state': 512, 'solver': 'sgd'}\n",
      "0.915 (+/-0.010) for {'activation': 'logistic', 'alpha': 0.001, 'hidden_layer_sizes': 12, 'learning_rate_init': 0.1, 'max_iter': 500, 'random_state': 512, 'solver': 'adam'}\n",
      "0.935 (+/-0.003) for {'activation': 'logistic', 'alpha': 0.001, 'hidden_layer_sizes': 13, 'learning_rate_init': 0.001, 'max_iter': 500, 'random_state': 512, 'solver': 'lbfgs'}\n",
      "0.904 (+/-0.006) for {'activation': 'logistic', 'alpha': 0.001, 'hidden_layer_sizes': 13, 'learning_rate_init': 0.001, 'max_iter': 500, 'random_state': 512, 'solver': 'sgd'}\n",
      "0.930 (+/-0.009) for {'activation': 'logistic', 'alpha': 0.001, 'hidden_layer_sizes': 13, 'learning_rate_init': 0.001, 'max_iter': 500, 'random_state': 512, 'solver': 'adam'}\n",
      "0.935 (+/-0.003) for {'activation': 'logistic', 'alpha': 0.001, 'hidden_layer_sizes': 13, 'learning_rate_init': 0.01, 'max_iter': 500, 'random_state': 512, 'solver': 'lbfgs'}\n",
      "0.931 (+/-0.007) for {'activation': 'logistic', 'alpha': 0.001, 'hidden_layer_sizes': 13, 'learning_rate_init': 0.01, 'max_iter': 500, 'random_state': 512, 'solver': 'sgd'}\n",
      "0.933 (+/-0.005) for {'activation': 'logistic', 'alpha': 0.001, 'hidden_layer_sizes': 13, 'learning_rate_init': 0.01, 'max_iter': 500, 'random_state': 512, 'solver': 'adam'}\n",
      "0.935 (+/-0.003) for {'activation': 'logistic', 'alpha': 0.001, 'hidden_layer_sizes': 13, 'learning_rate_init': 0.1, 'max_iter': 500, 'random_state': 512, 'solver': 'lbfgs'}\n",
      "0.935 (+/-0.007) for {'activation': 'logistic', 'alpha': 0.001, 'hidden_layer_sizes': 13, 'learning_rate_init': 0.1, 'max_iter': 500, 'random_state': 512, 'solver': 'sgd'}\n",
      "0.915 (+/-0.006) for {'activation': 'logistic', 'alpha': 0.001, 'hidden_layer_sizes': 13, 'learning_rate_init': 0.1, 'max_iter': 500, 'random_state': 512, 'solver': 'adam'}\n",
      "0.926 (+/-0.010) for {'activation': 'tanh', 'alpha': 0.0001, 'hidden_layer_sizes': 10, 'learning_rate_init': 0.001, 'max_iter': 500, 'random_state': 512, 'solver': 'lbfgs'}\n",
      "0.918 (+/-0.006) for {'activation': 'tanh', 'alpha': 0.0001, 'hidden_layer_sizes': 10, 'learning_rate_init': 0.001, 'max_iter': 500, 'random_state': 512, 'solver': 'sgd'}\n",
      "0.924 (+/-0.007) for {'activation': 'tanh', 'alpha': 0.0001, 'hidden_layer_sizes': 10, 'learning_rate_init': 0.001, 'max_iter': 500, 'random_state': 512, 'solver': 'adam'}\n",
      "0.926 (+/-0.010) for {'activation': 'tanh', 'alpha': 0.0001, 'hidden_layer_sizes': 10, 'learning_rate_init': 0.01, 'max_iter': 500, 'random_state': 512, 'solver': 'lbfgs'}\n",
      "0.927 (+/-0.007) for {'activation': 'tanh', 'alpha': 0.0001, 'hidden_layer_sizes': 10, 'learning_rate_init': 0.01, 'max_iter': 500, 'random_state': 512, 'solver': 'sgd'}\n",
      "0.914 (+/-0.008) for {'activation': 'tanh', 'alpha': 0.0001, 'hidden_layer_sizes': 10, 'learning_rate_init': 0.01, 'max_iter': 500, 'random_state': 512, 'solver': 'adam'}\n",
      "0.926 (+/-0.010) for {'activation': 'tanh', 'alpha': 0.0001, 'hidden_layer_sizes': 10, 'learning_rate_init': 0.1, 'max_iter': 500, 'random_state': 512, 'solver': 'lbfgs'}\n",
      "0.925 (+/-0.005) for {'activation': 'tanh', 'alpha': 0.0001, 'hidden_layer_sizes': 10, 'learning_rate_init': 0.1, 'max_iter': 500, 'random_state': 512, 'solver': 'sgd'}\n",
      "0.889 (+/-0.014) for {'activation': 'tanh', 'alpha': 0.0001, 'hidden_layer_sizes': 10, 'learning_rate_init': 0.1, 'max_iter': 500, 'random_state': 512, 'solver': 'adam'}\n",
      "0.933 (+/-0.008) for {'activation': 'tanh', 'alpha': 0.0001, 'hidden_layer_sizes': 11, 'learning_rate_init': 0.001, 'max_iter': 500, 'random_state': 512, 'solver': 'lbfgs'}\n",
      "0.915 (+/-0.007) for {'activation': 'tanh', 'alpha': 0.0001, 'hidden_layer_sizes': 11, 'learning_rate_init': 0.001, 'max_iter': 500, 'random_state': 512, 'solver': 'sgd'}\n",
      "0.926 (+/-0.008) for {'activation': 'tanh', 'alpha': 0.0001, 'hidden_layer_sizes': 11, 'learning_rate_init': 0.001, 'max_iter': 500, 'random_state': 512, 'solver': 'adam'}\n",
      "0.933 (+/-0.008) for {'activation': 'tanh', 'alpha': 0.0001, 'hidden_layer_sizes': 11, 'learning_rate_init': 0.01, 'max_iter': 500, 'random_state': 512, 'solver': 'lbfgs'}\n",
      "0.929 (+/-0.005) for {'activation': 'tanh', 'alpha': 0.0001, 'hidden_layer_sizes': 11, 'learning_rate_init': 0.01, 'max_iter': 500, 'random_state': 512, 'solver': 'sgd'}\n",
      "0.919 (+/-0.009) for {'activation': 'tanh', 'alpha': 0.0001, 'hidden_layer_sizes': 11, 'learning_rate_init': 0.01, 'max_iter': 500, 'random_state': 512, 'solver': 'adam'}\n",
      "0.933 (+/-0.008) for {'activation': 'tanh', 'alpha': 0.0001, 'hidden_layer_sizes': 11, 'learning_rate_init': 0.1, 'max_iter': 500, 'random_state': 512, 'solver': 'lbfgs'}\n",
      "0.928 (+/-0.009) for {'activation': 'tanh', 'alpha': 0.0001, 'hidden_layer_sizes': 11, 'learning_rate_init': 0.1, 'max_iter': 500, 'random_state': 512, 'solver': 'sgd'}\n",
      "0.895 (+/-0.010) for {'activation': 'tanh', 'alpha': 0.0001, 'hidden_layer_sizes': 11, 'learning_rate_init': 0.1, 'max_iter': 500, 'random_state': 512, 'solver': 'adam'}\n",
      "0.932 (+/-0.007) for {'activation': 'tanh', 'alpha': 0.0001, 'hidden_layer_sizes': 12, 'learning_rate_init': 0.001, 'max_iter': 500, 'random_state': 512, 'solver': 'lbfgs'}\n",
      "0.917 (+/-0.011) for {'activation': 'tanh', 'alpha': 0.0001, 'hidden_layer_sizes': 12, 'learning_rate_init': 0.001, 'max_iter': 500, 'random_state': 512, 'solver': 'sgd'}\n",
      "0.933 (+/-0.005) for {'activation': 'tanh', 'alpha': 0.0001, 'hidden_layer_sizes': 12, 'learning_rate_init': 0.001, 'max_iter': 500, 'random_state': 512, 'solver': 'adam'}\n",
      "0.932 (+/-0.007) for {'activation': 'tanh', 'alpha': 0.0001, 'hidden_layer_sizes': 12, 'learning_rate_init': 0.01, 'max_iter': 500, 'random_state': 512, 'solver': 'lbfgs'}\n",
      "0.932 (+/-0.004) for {'activation': 'tanh', 'alpha': 0.0001, 'hidden_layer_sizes': 12, 'learning_rate_init': 0.01, 'max_iter': 500, 'random_state': 512, 'solver': 'sgd'}\n",
      "0.926 (+/-0.005) for {'activation': 'tanh', 'alpha': 0.0001, 'hidden_layer_sizes': 12, 'learning_rate_init': 0.01, 'max_iter': 500, 'random_state': 512, 'solver': 'adam'}\n",
      "0.932 (+/-0.007) for {'activation': 'tanh', 'alpha': 0.0001, 'hidden_layer_sizes': 12, 'learning_rate_init': 0.1, 'max_iter': 500, 'random_state': 512, 'solver': 'lbfgs'}\n",
      "0.927 (+/-0.008) for {'activation': 'tanh', 'alpha': 0.0001, 'hidden_layer_sizes': 12, 'learning_rate_init': 0.1, 'max_iter': 500, 'random_state': 512, 'solver': 'sgd'}\n",
      "0.898 (+/-0.009) for {'activation': 'tanh', 'alpha': 0.0001, 'hidden_layer_sizes': 12, 'learning_rate_init': 0.1, 'max_iter': 500, 'random_state': 512, 'solver': 'adam'}\n",
      "0.931 (+/-0.005) for {'activation': 'tanh', 'alpha': 0.0001, 'hidden_layer_sizes': 13, 'learning_rate_init': 0.001, 'max_iter': 500, 'random_state': 512, 'solver': 'lbfgs'}\n",
      "0.920 (+/-0.007) for {'activation': 'tanh', 'alpha': 0.0001, 'hidden_layer_sizes': 13, 'learning_rate_init': 0.001, 'max_iter': 500, 'random_state': 512, 'solver': 'sgd'}\n",
      "0.929 (+/-0.005) for {'activation': 'tanh', 'alpha': 0.0001, 'hidden_layer_sizes': 13, 'learning_rate_init': 0.001, 'max_iter': 500, 'random_state': 512, 'solver': 'adam'}\n",
      "0.931 (+/-0.005) for {'activation': 'tanh', 'alpha': 0.0001, 'hidden_layer_sizes': 13, 'learning_rate_init': 0.01, 'max_iter': 500, 'random_state': 512, 'solver': 'lbfgs'}\n",
      "0.932 (+/-0.006) for {'activation': 'tanh', 'alpha': 0.0001, 'hidden_layer_sizes': 13, 'learning_rate_init': 0.01, 'max_iter': 500, 'random_state': 512, 'solver': 'sgd'}\n",
      "0.925 (+/-0.006) for {'activation': 'tanh', 'alpha': 0.0001, 'hidden_layer_sizes': 13, 'learning_rate_init': 0.01, 'max_iter': 500, 'random_state': 512, 'solver': 'adam'}\n",
      "0.931 (+/-0.005) for {'activation': 'tanh', 'alpha': 0.0001, 'hidden_layer_sizes': 13, 'learning_rate_init': 0.1, 'max_iter': 500, 'random_state': 512, 'solver': 'lbfgs'}\n",
      "0.929 (+/-0.006) for {'activation': 'tanh', 'alpha': 0.0001, 'hidden_layer_sizes': 13, 'learning_rate_init': 0.1, 'max_iter': 500, 'random_state': 512, 'solver': 'sgd'}\n",
      "0.901 (+/-0.013) for {'activation': 'tanh', 'alpha': 0.0001, 'hidden_layer_sizes': 13, 'learning_rate_init': 0.1, 'max_iter': 500, 'random_state': 512, 'solver': 'adam'}\n",
      "0.926 (+/-0.010) for {'activation': 'tanh', 'alpha': 0.001, 'hidden_layer_sizes': 10, 'learning_rate_init': 0.001, 'max_iter': 500, 'random_state': 512, 'solver': 'lbfgs'}\n",
      "0.918 (+/-0.006) for {'activation': 'tanh', 'alpha': 0.001, 'hidden_layer_sizes': 10, 'learning_rate_init': 0.001, 'max_iter': 500, 'random_state': 512, 'solver': 'sgd'}\n",
      "0.924 (+/-0.007) for {'activation': 'tanh', 'alpha': 0.001, 'hidden_layer_sizes': 10, 'learning_rate_init': 0.001, 'max_iter': 500, 'random_state': 512, 'solver': 'adam'}\n",
      "0.926 (+/-0.010) for {'activation': 'tanh', 'alpha': 0.001, 'hidden_layer_sizes': 10, 'learning_rate_init': 0.01, 'max_iter': 500, 'random_state': 512, 'solver': 'lbfgs'}\n",
      "0.927 (+/-0.007) for {'activation': 'tanh', 'alpha': 0.001, 'hidden_layer_sizes': 10, 'learning_rate_init': 0.01, 'max_iter': 500, 'random_state': 512, 'solver': 'sgd'}\n",
      "0.916 (+/-0.009) for {'activation': 'tanh', 'alpha': 0.001, 'hidden_layer_sizes': 10, 'learning_rate_init': 0.01, 'max_iter': 500, 'random_state': 512, 'solver': 'adam'}\n",
      "0.926 (+/-0.010) for {'activation': 'tanh', 'alpha': 0.001, 'hidden_layer_sizes': 10, 'learning_rate_init': 0.1, 'max_iter': 500, 'random_state': 512, 'solver': 'lbfgs'}\n",
      "0.925 (+/-0.006) for {'activation': 'tanh', 'alpha': 0.001, 'hidden_layer_sizes': 10, 'learning_rate_init': 0.1, 'max_iter': 500, 'random_state': 512, 'solver': 'sgd'}\n",
      "0.891 (+/-0.013) for {'activation': 'tanh', 'alpha': 0.001, 'hidden_layer_sizes': 10, 'learning_rate_init': 0.1, 'max_iter': 500, 'random_state': 512, 'solver': 'adam'}\n",
      "0.932 (+/-0.009) for {'activation': 'tanh', 'alpha': 0.001, 'hidden_layer_sizes': 11, 'learning_rate_init': 0.001, 'max_iter': 500, 'random_state': 512, 'solver': 'lbfgs'}\n",
      "0.915 (+/-0.007) for {'activation': 'tanh', 'alpha': 0.001, 'hidden_layer_sizes': 11, 'learning_rate_init': 0.001, 'max_iter': 500, 'random_state': 512, 'solver': 'sgd'}\n",
      "0.928 (+/-0.006) for {'activation': 'tanh', 'alpha': 0.001, 'hidden_layer_sizes': 11, 'learning_rate_init': 0.001, 'max_iter': 500, 'random_state': 512, 'solver': 'adam'}\n",
      "0.932 (+/-0.009) for {'activation': 'tanh', 'alpha': 0.001, 'hidden_layer_sizes': 11, 'learning_rate_init': 0.01, 'max_iter': 500, 'random_state': 512, 'solver': 'lbfgs'}\n",
      "0.929 (+/-0.003) for {'activation': 'tanh', 'alpha': 0.001, 'hidden_layer_sizes': 11, 'learning_rate_init': 0.01, 'max_iter': 500, 'random_state': 512, 'solver': 'sgd'}\n",
      "0.922 (+/-0.011) for {'activation': 'tanh', 'alpha': 0.001, 'hidden_layer_sizes': 11, 'learning_rate_init': 0.01, 'max_iter': 500, 'random_state': 512, 'solver': 'adam'}\n",
      "0.932 (+/-0.009) for {'activation': 'tanh', 'alpha': 0.001, 'hidden_layer_sizes': 11, 'learning_rate_init': 0.1, 'max_iter': 500, 'random_state': 512, 'solver': 'lbfgs'}\n",
      "0.930 (+/-0.009) for {'activation': 'tanh', 'alpha': 0.001, 'hidden_layer_sizes': 11, 'learning_rate_init': 0.1, 'max_iter': 500, 'random_state': 512, 'solver': 'sgd'}\n",
      "0.892 (+/-0.013) for {'activation': 'tanh', 'alpha': 0.001, 'hidden_layer_sizes': 11, 'learning_rate_init': 0.1, 'max_iter': 500, 'random_state': 512, 'solver': 'adam'}\n",
      "0.933 (+/-0.008) for {'activation': 'tanh', 'alpha': 0.001, 'hidden_layer_sizes': 12, 'learning_rate_init': 0.001, 'max_iter': 500, 'random_state': 512, 'solver': 'lbfgs'}\n",
      "0.917 (+/-0.011) for {'activation': 'tanh', 'alpha': 0.001, 'hidden_layer_sizes': 12, 'learning_rate_init': 0.001, 'max_iter': 500, 'random_state': 512, 'solver': 'sgd'}\n",
      "0.934 (+/-0.005) for {'activation': 'tanh', 'alpha': 0.001, 'hidden_layer_sizes': 12, 'learning_rate_init': 0.001, 'max_iter': 500, 'random_state': 512, 'solver': 'adam'}\n",
      "0.933 (+/-0.008) for {'activation': 'tanh', 'alpha': 0.001, 'hidden_layer_sizes': 12, 'learning_rate_init': 0.01, 'max_iter': 500, 'random_state': 512, 'solver': 'lbfgs'}\n",
      "0.932 (+/-0.003) for {'activation': 'tanh', 'alpha': 0.001, 'hidden_layer_sizes': 12, 'learning_rate_init': 0.01, 'max_iter': 500, 'random_state': 512, 'solver': 'sgd'}\n",
      "0.927 (+/-0.004) for {'activation': 'tanh', 'alpha': 0.001, 'hidden_layer_sizes': 12, 'learning_rate_init': 0.01, 'max_iter': 500, 'random_state': 512, 'solver': 'adam'}\n",
      "0.933 (+/-0.008) for {'activation': 'tanh', 'alpha': 0.001, 'hidden_layer_sizes': 12, 'learning_rate_init': 0.1, 'max_iter': 500, 'random_state': 512, 'solver': 'lbfgs'}\n",
      "0.929 (+/-0.005) for {'activation': 'tanh', 'alpha': 0.001, 'hidden_layer_sizes': 12, 'learning_rate_init': 0.1, 'max_iter': 500, 'random_state': 512, 'solver': 'sgd'}\n",
      "0.896 (+/-0.008) for {'activation': 'tanh', 'alpha': 0.001, 'hidden_layer_sizes': 12, 'learning_rate_init': 0.1, 'max_iter': 500, 'random_state': 512, 'solver': 'adam'}\n",
      "0.931 (+/-0.006) for {'activation': 'tanh', 'alpha': 0.001, 'hidden_layer_sizes': 13, 'learning_rate_init': 0.001, 'max_iter': 500, 'random_state': 512, 'solver': 'lbfgs'}\n",
      "0.920 (+/-0.007) for {'activation': 'tanh', 'alpha': 0.001, 'hidden_layer_sizes': 13, 'learning_rate_init': 0.001, 'max_iter': 500, 'random_state': 512, 'solver': 'sgd'}\n",
      "0.931 (+/-0.004) for {'activation': 'tanh', 'alpha': 0.001, 'hidden_layer_sizes': 13, 'learning_rate_init': 0.001, 'max_iter': 500, 'random_state': 512, 'solver': 'adam'}\n",
      "0.931 (+/-0.006) for {'activation': 'tanh', 'alpha': 0.001, 'hidden_layer_sizes': 13, 'learning_rate_init': 0.01, 'max_iter': 500, 'random_state': 512, 'solver': 'lbfgs'}\n",
      "0.932 (+/-0.007) for {'activation': 'tanh', 'alpha': 0.001, 'hidden_layer_sizes': 13, 'learning_rate_init': 0.01, 'max_iter': 500, 'random_state': 512, 'solver': 'sgd'}\n",
      "0.926 (+/-0.008) for {'activation': 'tanh', 'alpha': 0.001, 'hidden_layer_sizes': 13, 'learning_rate_init': 0.01, 'max_iter': 500, 'random_state': 512, 'solver': 'adam'}\n",
      "0.931 (+/-0.006) for {'activation': 'tanh', 'alpha': 0.001, 'hidden_layer_sizes': 13, 'learning_rate_init': 0.1, 'max_iter': 500, 'random_state': 512, 'solver': 'lbfgs'}\n",
      "0.931 (+/-0.002) for {'activation': 'tanh', 'alpha': 0.001, 'hidden_layer_sizes': 13, 'learning_rate_init': 0.1, 'max_iter': 500, 'random_state': 512, 'solver': 'sgd'}\n",
      "0.901 (+/-0.008) for {'activation': 'tanh', 'alpha': 0.001, 'hidden_layer_sizes': 13, 'learning_rate_init': 0.1, 'max_iter': 500, 'random_state': 512, 'solver': 'adam'}\n",
      "0.899 (+/-0.003) for {'activation': 'relu', 'alpha': 0.0001, 'hidden_layer_sizes': 10, 'learning_rate_init': 0.001, 'max_iter': 500, 'random_state': 512, 'solver': 'lbfgs'}\n",
      "0.918 (+/-0.006) for {'activation': 'relu', 'alpha': 0.0001, 'hidden_layer_sizes': 10, 'learning_rate_init': 0.001, 'max_iter': 500, 'random_state': 512, 'solver': 'sgd'}\n",
      "0.924 (+/-0.008) for {'activation': 'relu', 'alpha': 0.0001, 'hidden_layer_sizes': 10, 'learning_rate_init': 0.001, 'max_iter': 500, 'random_state': 512, 'solver': 'adam'}\n",
      "0.899 (+/-0.003) for {'activation': 'relu', 'alpha': 0.0001, 'hidden_layer_sizes': 10, 'learning_rate_init': 0.01, 'max_iter': 500, 'random_state': 512, 'solver': 'lbfgs'}\n",
      "0.926 (+/-0.005) for {'activation': 'relu', 'alpha': 0.0001, 'hidden_layer_sizes': 10, 'learning_rate_init': 0.01, 'max_iter': 500, 'random_state': 512, 'solver': 'sgd'}\n",
      "0.918 (+/-0.014) for {'activation': 'relu', 'alpha': 0.0001, 'hidden_layer_sizes': 10, 'learning_rate_init': 0.01, 'max_iter': 500, 'random_state': 512, 'solver': 'adam'}\n",
      "0.899 (+/-0.003) for {'activation': 'relu', 'alpha': 0.0001, 'hidden_layer_sizes': 10, 'learning_rate_init': 0.1, 'max_iter': 500, 'random_state': 512, 'solver': 'lbfgs'}\n",
      "0.923 (+/-0.005) for {'activation': 'relu', 'alpha': 0.0001, 'hidden_layer_sizes': 10, 'learning_rate_init': 0.1, 'max_iter': 500, 'random_state': 512, 'solver': 'sgd'}\n",
      "0.871 (+/-0.009) for {'activation': 'relu', 'alpha': 0.0001, 'hidden_layer_sizes': 10, 'learning_rate_init': 0.1, 'max_iter': 500, 'random_state': 512, 'solver': 'adam'}\n",
      "0.919 (+/-0.009) for {'activation': 'relu', 'alpha': 0.0001, 'hidden_layer_sizes': 11, 'learning_rate_init': 0.001, 'max_iter': 500, 'random_state': 512, 'solver': 'lbfgs'}\n",
      "0.922 (+/-0.006) for {'activation': 'relu', 'alpha': 0.0001, 'hidden_layer_sizes': 11, 'learning_rate_init': 0.001, 'max_iter': 500, 'random_state': 512, 'solver': 'sgd'}\n",
      "0.926 (+/-0.005) for {'activation': 'relu', 'alpha': 0.0001, 'hidden_layer_sizes': 11, 'learning_rate_init': 0.001, 'max_iter': 500, 'random_state': 512, 'solver': 'adam'}\n",
      "0.919 (+/-0.009) for {'activation': 'relu', 'alpha': 0.0001, 'hidden_layer_sizes': 11, 'learning_rate_init': 0.01, 'max_iter': 500, 'random_state': 512, 'solver': 'lbfgs'}\n",
      "0.931 (+/-0.005) for {'activation': 'relu', 'alpha': 0.0001, 'hidden_layer_sizes': 11, 'learning_rate_init': 0.01, 'max_iter': 500, 'random_state': 512, 'solver': 'sgd'}\n",
      "0.925 (+/-0.006) for {'activation': 'relu', 'alpha': 0.0001, 'hidden_layer_sizes': 11, 'learning_rate_init': 0.01, 'max_iter': 500, 'random_state': 512, 'solver': 'adam'}\n",
      "0.919 (+/-0.009) for {'activation': 'relu', 'alpha': 0.0001, 'hidden_layer_sizes': 11, 'learning_rate_init': 0.1, 'max_iter': 500, 'random_state': 512, 'solver': 'lbfgs'}\n",
      "0.928 (+/-0.007) for {'activation': 'relu', 'alpha': 0.0001, 'hidden_layer_sizes': 11, 'learning_rate_init': 0.1, 'max_iter': 500, 'random_state': 512, 'solver': 'sgd'}\n",
      "0.880 (+/-0.020) for {'activation': 'relu', 'alpha': 0.0001, 'hidden_layer_sizes': 11, 'learning_rate_init': 0.1, 'max_iter': 500, 'random_state': 512, 'solver': 'adam'}\n",
      "0.922 (+/-0.004) for {'activation': 'relu', 'alpha': 0.0001, 'hidden_layer_sizes': 12, 'learning_rate_init': 0.001, 'max_iter': 500, 'random_state': 512, 'solver': 'lbfgs'}\n",
      "0.924 (+/-0.006) for {'activation': 'relu', 'alpha': 0.0001, 'hidden_layer_sizes': 12, 'learning_rate_init': 0.001, 'max_iter': 500, 'random_state': 512, 'solver': 'sgd'}\n",
      "0.929 (+/-0.008) for {'activation': 'relu', 'alpha': 0.0001, 'hidden_layer_sizes': 12, 'learning_rate_init': 0.001, 'max_iter': 500, 'random_state': 512, 'solver': 'adam'}\n",
      "0.922 (+/-0.004) for {'activation': 'relu', 'alpha': 0.0001, 'hidden_layer_sizes': 12, 'learning_rate_init': 0.01, 'max_iter': 500, 'random_state': 512, 'solver': 'lbfgs'}\n",
      "0.933 (+/-0.006) for {'activation': 'relu', 'alpha': 0.0001, 'hidden_layer_sizes': 12, 'learning_rate_init': 0.01, 'max_iter': 500, 'random_state': 512, 'solver': 'sgd'}\n",
      "0.929 (+/-0.004) for {'activation': 'relu', 'alpha': 0.0001, 'hidden_layer_sizes': 12, 'learning_rate_init': 0.01, 'max_iter': 500, 'random_state': 512, 'solver': 'adam'}\n",
      "0.922 (+/-0.004) for {'activation': 'relu', 'alpha': 0.0001, 'hidden_layer_sizes': 12, 'learning_rate_init': 0.1, 'max_iter': 500, 'random_state': 512, 'solver': 'lbfgs'}\n",
      "0.934 (+/-0.005) for {'activation': 'relu', 'alpha': 0.0001, 'hidden_layer_sizes': 12, 'learning_rate_init': 0.1, 'max_iter': 500, 'random_state': 512, 'solver': 'sgd'}\n",
      "0.895 (+/-0.027) for {'activation': 'relu', 'alpha': 0.0001, 'hidden_layer_sizes': 12, 'learning_rate_init': 0.1, 'max_iter': 500, 'random_state': 512, 'solver': 'adam'}\n",
      "0.922 (+/-0.011) for {'activation': 'relu', 'alpha': 0.0001, 'hidden_layer_sizes': 13, 'learning_rate_init': 0.001, 'max_iter': 500, 'random_state': 512, 'solver': 'lbfgs'}\n",
      "0.917 (+/-0.008) for {'activation': 'relu', 'alpha': 0.0001, 'hidden_layer_sizes': 13, 'learning_rate_init': 0.001, 'max_iter': 500, 'random_state': 512, 'solver': 'sgd'}\n",
      "0.930 (+/-0.002) for {'activation': 'relu', 'alpha': 0.0001, 'hidden_layer_sizes': 13, 'learning_rate_init': 0.001, 'max_iter': 500, 'random_state': 512, 'solver': 'adam'}\n",
      "0.922 (+/-0.011) for {'activation': 'relu', 'alpha': 0.0001, 'hidden_layer_sizes': 13, 'learning_rate_init': 0.01, 'max_iter': 500, 'random_state': 512, 'solver': 'lbfgs'}\n",
      "0.936 (+/-0.004) for {'activation': 'relu', 'alpha': 0.0001, 'hidden_layer_sizes': 13, 'learning_rate_init': 0.01, 'max_iter': 500, 'random_state': 512, 'solver': 'sgd'}\n",
      "0.932 (+/-0.007) for {'activation': 'relu', 'alpha': 0.0001, 'hidden_layer_sizes': 13, 'learning_rate_init': 0.01, 'max_iter': 500, 'random_state': 512, 'solver': 'adam'}\n",
      "0.922 (+/-0.011) for {'activation': 'relu', 'alpha': 0.0001, 'hidden_layer_sizes': 13, 'learning_rate_init': 0.1, 'max_iter': 500, 'random_state': 512, 'solver': 'lbfgs'}\n",
      "0.933 (+/-0.003) for {'activation': 'relu', 'alpha': 0.0001, 'hidden_layer_sizes': 13, 'learning_rate_init': 0.1, 'max_iter': 500, 'random_state': 512, 'solver': 'sgd'}\n",
      "0.891 (+/-0.010) for {'activation': 'relu', 'alpha': 0.0001, 'hidden_layer_sizes': 13, 'learning_rate_init': 0.1, 'max_iter': 500, 'random_state': 512, 'solver': 'adam'}\n",
      "0.899 (+/-0.003) for {'activation': 'relu', 'alpha': 0.001, 'hidden_layer_sizes': 10, 'learning_rate_init': 0.001, 'max_iter': 500, 'random_state': 512, 'solver': 'lbfgs'}\n",
      "0.918 (+/-0.006) for {'activation': 'relu', 'alpha': 0.001, 'hidden_layer_sizes': 10, 'learning_rate_init': 0.001, 'max_iter': 500, 'random_state': 512, 'solver': 'sgd'}\n",
      "0.924 (+/-0.008) for {'activation': 'relu', 'alpha': 0.001, 'hidden_layer_sizes': 10, 'learning_rate_init': 0.001, 'max_iter': 500, 'random_state': 512, 'solver': 'adam'}\n",
      "0.899 (+/-0.003) for {'activation': 'relu', 'alpha': 0.001, 'hidden_layer_sizes': 10, 'learning_rate_init': 0.01, 'max_iter': 500, 'random_state': 512, 'solver': 'lbfgs'}\n",
      "0.926 (+/-0.005) for {'activation': 'relu', 'alpha': 0.001, 'hidden_layer_sizes': 10, 'learning_rate_init': 0.01, 'max_iter': 500, 'random_state': 512, 'solver': 'sgd'}\n",
      "0.917 (+/-0.015) for {'activation': 'relu', 'alpha': 0.001, 'hidden_layer_sizes': 10, 'learning_rate_init': 0.01, 'max_iter': 500, 'random_state': 512, 'solver': 'adam'}\n",
      "0.899 (+/-0.003) for {'activation': 'relu', 'alpha': 0.001, 'hidden_layer_sizes': 10, 'learning_rate_init': 0.1, 'max_iter': 500, 'random_state': 512, 'solver': 'lbfgs'}\n",
      "0.924 (+/-0.004) for {'activation': 'relu', 'alpha': 0.001, 'hidden_layer_sizes': 10, 'learning_rate_init': 0.1, 'max_iter': 500, 'random_state': 512, 'solver': 'sgd'}\n",
      "0.875 (+/-0.027) for {'activation': 'relu', 'alpha': 0.001, 'hidden_layer_sizes': 10, 'learning_rate_init': 0.1, 'max_iter': 500, 'random_state': 512, 'solver': 'adam'}\n",
      "0.918 (+/-0.008) for {'activation': 'relu', 'alpha': 0.001, 'hidden_layer_sizes': 11, 'learning_rate_init': 0.001, 'max_iter': 500, 'random_state': 512, 'solver': 'lbfgs'}\n",
      "0.922 (+/-0.006) for {'activation': 'relu', 'alpha': 0.001, 'hidden_layer_sizes': 11, 'learning_rate_init': 0.001, 'max_iter': 500, 'random_state': 512, 'solver': 'sgd'}\n",
      "0.926 (+/-0.005) for {'activation': 'relu', 'alpha': 0.001, 'hidden_layer_sizes': 11, 'learning_rate_init': 0.001, 'max_iter': 500, 'random_state': 512, 'solver': 'adam'}\n",
      "0.918 (+/-0.008) for {'activation': 'relu', 'alpha': 0.001, 'hidden_layer_sizes': 11, 'learning_rate_init': 0.01, 'max_iter': 500, 'random_state': 512, 'solver': 'lbfgs'}\n",
      "0.931 (+/-0.005) for {'activation': 'relu', 'alpha': 0.001, 'hidden_layer_sizes': 11, 'learning_rate_init': 0.01, 'max_iter': 500, 'random_state': 512, 'solver': 'sgd'}\n",
      "0.924 (+/-0.007) for {'activation': 'relu', 'alpha': 0.001, 'hidden_layer_sizes': 11, 'learning_rate_init': 0.01, 'max_iter': 500, 'random_state': 512, 'solver': 'adam'}\n",
      "0.918 (+/-0.008) for {'activation': 'relu', 'alpha': 0.001, 'hidden_layer_sizes': 11, 'learning_rate_init': 0.1, 'max_iter': 500, 'random_state': 512, 'solver': 'lbfgs'}\n",
      "0.927 (+/-0.005) for {'activation': 'relu', 'alpha': 0.001, 'hidden_layer_sizes': 11, 'learning_rate_init': 0.1, 'max_iter': 500, 'random_state': 512, 'solver': 'sgd'}\n",
      "0.880 (+/-0.020) for {'activation': 'relu', 'alpha': 0.001, 'hidden_layer_sizes': 11, 'learning_rate_init': 0.1, 'max_iter': 500, 'random_state': 512, 'solver': 'adam'}\n",
      "0.922 (+/-0.005) for {'activation': 'relu', 'alpha': 0.001, 'hidden_layer_sizes': 12, 'learning_rate_init': 0.001, 'max_iter': 500, 'random_state': 512, 'solver': 'lbfgs'}\n",
      "0.924 (+/-0.005) for {'activation': 'relu', 'alpha': 0.001, 'hidden_layer_sizes': 12, 'learning_rate_init': 0.001, 'max_iter': 500, 'random_state': 512, 'solver': 'sgd'}\n",
      "0.930 (+/-0.007) for {'activation': 'relu', 'alpha': 0.001, 'hidden_layer_sizes': 12, 'learning_rate_init': 0.001, 'max_iter': 500, 'random_state': 512, 'solver': 'adam'}\n",
      "0.922 (+/-0.005) for {'activation': 'relu', 'alpha': 0.001, 'hidden_layer_sizes': 12, 'learning_rate_init': 0.01, 'max_iter': 500, 'random_state': 512, 'solver': 'lbfgs'}\n",
      "0.932 (+/-0.007) for {'activation': 'relu', 'alpha': 0.001, 'hidden_layer_sizes': 12, 'learning_rate_init': 0.01, 'max_iter': 500, 'random_state': 512, 'solver': 'sgd'}\n",
      "0.929 (+/-0.006) for {'activation': 'relu', 'alpha': 0.001, 'hidden_layer_sizes': 12, 'learning_rate_init': 0.01, 'max_iter': 500, 'random_state': 512, 'solver': 'adam'}\n",
      "0.922 (+/-0.005) for {'activation': 'relu', 'alpha': 0.001, 'hidden_layer_sizes': 12, 'learning_rate_init': 0.1, 'max_iter': 500, 'random_state': 512, 'solver': 'lbfgs'}\n",
      "0.933 (+/-0.005) for {'activation': 'relu', 'alpha': 0.001, 'hidden_layer_sizes': 12, 'learning_rate_init': 0.1, 'max_iter': 500, 'random_state': 512, 'solver': 'sgd'}\n",
      "0.898 (+/-0.032) for {'activation': 'relu', 'alpha': 0.001, 'hidden_layer_sizes': 12, 'learning_rate_init': 0.1, 'max_iter': 500, 'random_state': 512, 'solver': 'adam'}\n",
      "0.923 (+/-0.012) for {'activation': 'relu', 'alpha': 0.001, 'hidden_layer_sizes': 13, 'learning_rate_init': 0.001, 'max_iter': 500, 'random_state': 512, 'solver': 'lbfgs'}\n",
      "0.917 (+/-0.008) for {'activation': 'relu', 'alpha': 0.001, 'hidden_layer_sizes': 13, 'learning_rate_init': 0.001, 'max_iter': 500, 'random_state': 512, 'solver': 'sgd'}\n",
      "0.931 (+/-0.003) for {'activation': 'relu', 'alpha': 0.001, 'hidden_layer_sizes': 13, 'learning_rate_init': 0.001, 'max_iter': 500, 'random_state': 512, 'solver': 'adam'}\n",
      "0.923 (+/-0.012) for {'activation': 'relu', 'alpha': 0.001, 'hidden_layer_sizes': 13, 'learning_rate_init': 0.01, 'max_iter': 500, 'random_state': 512, 'solver': 'lbfgs'}\n",
      "0.936 (+/-0.005) for {'activation': 'relu', 'alpha': 0.001, 'hidden_layer_sizes': 13, 'learning_rate_init': 0.01, 'max_iter': 500, 'random_state': 512, 'solver': 'sgd'}\n",
      "0.932 (+/-0.004) for {'activation': 'relu', 'alpha': 0.001, 'hidden_layer_sizes': 13, 'learning_rate_init': 0.01, 'max_iter': 500, 'random_state': 512, 'solver': 'adam'}\n",
      "0.923 (+/-0.012) for {'activation': 'relu', 'alpha': 0.001, 'hidden_layer_sizes': 13, 'learning_rate_init': 0.1, 'max_iter': 500, 'random_state': 512, 'solver': 'lbfgs'}\n",
      "0.933 (+/-0.006) for {'activation': 'relu', 'alpha': 0.001, 'hidden_layer_sizes': 13, 'learning_rate_init': 0.1, 'max_iter': 500, 'random_state': 512, 'solver': 'sgd'}\n",
      "0.892 (+/-0.016) for {'activation': 'relu', 'alpha': 0.001, 'hidden_layer_sizes': 13, 'learning_rate_init': 0.1, 'max_iter': 500, 'random_state': 512, 'solver': 'adam'}\n"
     ]
    },
    {
     "name": "stderr",
     "output_type": "stream",
     "text": [
      "C:\\Users\\Miguel\\AppData\\Local\\Programs\\Python\\Python39\\lib\\site-packages\\sklearn\\neural_network\\_multilayer_perceptron.py:614: ConvergenceWarning: Stochastic Optimizer: Maximum iterations (500) reached and the optimization hasn't converged yet.\n",
      "  warnings.warn(\n"
     ]
    }
   ],
   "source": [
    "tuned_parameters = [{'hidden_layer_sizes': np.arange(10, 14),\n",
    "                     'activation': ['identity', 'logistic', 'tanh', 'relu'],\n",
    "                     'solver':     ['lbfgs', 'sgd', 'adam'],\n",
    "                     'alpha':      np.logspace(-4, -3, 2),\n",
    "                     'learning_rate_init': np.logspace(-3, -1, 3),\n",
    "                     'random_state': [SEED],\n",
    "                     'max_iter':     [500]}\n",
    "                     ]\n",
    "\n",
    "scores = ['precision', 'recall']\n",
    "\n",
    "for score in scores:\n",
    "    print(\"# Tuning hyper-parameters for %s\" % score)\n",
    "    print()\n",
    "\n",
    "    clf = GridSearchCV(\n",
    "        MLPClassifier(), tuned_parameters, scoring='%s_macro' % score, n_jobs=-1\n",
    "    )\n",
    "    clf.fit(D_train, y_train)\n",
    "\n",
    "    print(\"Best parameters set found on development set:\")\n",
    "    print()\n",
    "    print(clf.best_params_)\n",
    "    print()\n",
    "    print(\"Grid scores on development set:\")\n",
    "    print()\n",
    "    means = clf.cv_results_['mean_test_score']\n",
    "    stds = clf.cv_results_['std_test_score']\n",
    "    for mean, std, params in zip(means, stds, clf.cv_results_['params']):\n",
    "        print(\"%0.3f (+/-%0.03f) for %r\"\n",
    "              % (mean, std * 2, params))"
   ]
  },
  {
   "cell_type": "markdown",
   "metadata": {
    "id": "ZKiTKALbHUps"
   },
   "source": [
    "Thus, we conclude that the best parameters in this model are:\n",
    "```\n",
    "activation: 'relu',\n",
    "alpha: 0.0001,\n",
    "hidden_layer_sizes: 13,\n",
    "learning_rate_init: 0.01,\n",
    "max_iter: 500,\n",
    "random_state: 512,\n",
    "solver: 'sgd'\n",
    "```\n",
    "(The selection of `max_iter` took into account how many iterations were necessary so that the model would converge, and it was adjusted manually. We also observed that too many iterations would lead the model to overfit: it'd have `score=1`)\n",
    "\n",
    "Now, let's use the `scikit-learn` library implementation of the Multi-layer Perceptron to train the dataset with the chosen parameters:"
   ]
  },
  {
   "cell_type": "code",
   "execution_count": 14,
   "metadata": {
    "id": "6AuFqdmObSei"
   },
   "outputs": [
    {
     "name": "stderr",
     "output_type": "stream",
     "text": [
      "/home/dani/.local/lib/python3.8/site-packages/sklearn/neural_network/_multilayer_perceptron.py:582: ConvergenceWarning: Stochastic Optimizer: Maximum iterations (500) reached and the optimization hasn't converged yet.\n",
      "  warnings.warn(\n"
     ]
    }
   ],
   "source": [
    "# training\n",
    "nn = MLPClassifier(alpha=0.0001, solver='sgd', random_state=SEED, max_iter=500, learning_rate_init=0.01, hidden_layer_sizes=(13, )).fit(D_train, y_train)\n",
    "\n",
    "# predicting\n",
    "y_predict_nn = nn.predict(D_train)"
   ]
  },
  {
   "cell_type": "markdown",
   "metadata": {
    "id": "BhApshb6ww1B"
   },
   "source": [
    "Printing performance metrics such as the *classifier score* and the *model selection method* that we defined previously:"
   ]
  },
  {
   "cell_type": "code",
   "execution_count": 15,
   "metadata": {
    "id": "NnlZ0DcCbfpF"
   },
   "outputs": [
    {
     "name": "stdout",
     "output_type": "stream",
     "text": [
      "\n",
      "Classifier score:\n",
      " 0.9545476190476191\n",
      "\n",
      "\n",
      "Mean squared error:\n",
      " 0.8407380952380953\n",
      "\n",
      "Classification report:\n",
      "               precision    recall  f1-score   support\n",
      "\n",
      "           0       0.97      0.98      0.97      4142\n",
      "           1       0.98      0.98      0.98      4685\n",
      "           2       0.95      0.96      0.95      4141\n",
      "           3       0.96      0.92      0.94      4325\n",
      "           4       0.94      0.95      0.95      4087\n",
      "           5       0.93      0.95      0.94      3848\n",
      "           6       0.98      0.97      0.97      4194\n",
      "           7       0.96      0.97      0.96      4398\n",
      "           8       0.94      0.93      0.94      4076\n",
      "           9       0.94      0.93      0.93      4104\n",
      "\n",
      "    accuracy                           0.95     42000\n",
      "   macro avg       0.95      0.95      0.95     42000\n",
      "weighted avg       0.95      0.95      0.95     42000\n",
      "\n",
      "\n",
      "Confusion matrix:\n",
      " [[4057    1    9    2    7   16   16    8   23    3]\n",
      " [   0 4571   24   12    6   14    5   11   32   10]\n",
      " [  13   13 3987   15   14    9   13   39   33    5]\n",
      " [  12    9   81 3997    1  102    3   35   57   28]\n",
      " [   7    5   15    6 3896    8   19   12   10  109]\n",
      " [  18    6   17   51   15 3656   23   12   29   21]\n",
      " [  33   11   25    0   26   33 4054    1   11    0]\n",
      " [  10   17   22   14   23    9    4 4257    6   36]\n",
      " [  25   32   32   43   19   53   19   12 3809   32]\n",
      " [  16   11    3   27  130   21    0   67   22 3807]]\n"
     ]
    }
   ],
   "source": [
    "print()\n",
    "print(\"Classifier score:\\n\" , nn.score(D_train, y_train))\n",
    "\n",
    "print()\n",
    "model_selection_metrics(y_train, y_predict_nn)"
   ]
  },
  {
   "cell_type": "markdown",
   "metadata": {
    "id": "KYJvUhfYmf_F"
   },
   "source": [
    "## 2.4. SVM\n",
    "Initially, we had to choose between the several SVM implementation in the library. We began with a *Radial Basis Function (RBF)* kernel (using the `sklearn.svm.SVC` class) and, although it classified very well, the program took too long to finish compared to the previous methods, and it didn't compensate.\n",
    "\n",
    "Therefore, let's use the `GridSearchCV` to find the best candidates to parameters of a Linear Support Vector Machine:\n"
   ]
  },
  {
   "cell_type": "code",
   "execution_count": null,
   "metadata": {
    "id": "AIomWoMNSthl"
   },
   "outputs": [],
   "source": [
    "tuned_parameters = [{'penalty':      ['l2'],\n",
    "                     'dual':         [False],\n",
    "                     'loss' :        ['hinge', 'squared_hinge'],\n",
    "                     'C':            [1, 10, 100, 1000],\n",
    "                     'tol':          [1e-3, 1e-4],\n",
    "                     'random_state': [SEED],\n",
    "                     'max_iter':     [5000]}]\n",
    "\n",
    "scores = ['precision', 'recall']\n",
    "\n",
    "for score in scores:\n",
    "    print(\"# Tuning hyper-parameters for %s\" % score)\n",
    "    print()\n",
    "\n",
    "    clf = GridSearchCV(\n",
    "        LinearSVC(), tuned_parameters, scoring='%s_macro' % score, n_jobs=-1\n",
    "    )\n",
    "    clf.fit(D_train, y_train)\n",
    "\n",
    "    print(\"Best parameters set found on development set:\")\n",
    "    print()\n",
    "    print(clf.best_params_)\n",
    "    print()\n",
    "    print(\"Grid scores on development set:\")\n",
    "    print()\n",
    "    means = clf.cv_results_['mean_test_score']\n",
    "    stds = clf.cv_results_['std_test_score']\n",
    "    for mean, std, params in zip(means, stds, clf.cv_results_['params']):\n",
    "        print(\"%0.3f (+/-%0.03f) for %r\"\n",
    "              % (mean, std * 2, params))"
   ]
  },
  {
   "cell_type": "markdown",
   "metadata": {},
   "source": [
    "\n",
    "Outputs of the grid search:\n",
    "\n",
    "```\n",
    "# Tuning hyper-parameters for precision\n",
    "\n",
    "Best parameters set found on development set:\n",
    "\n",
    "{'C': 10, 'dual': False, 'loss': 'squared_hinge', 'max_iter': 5000, 'penalty': 'l2', 'random_state': 512, 'tol': 0.0001}\n",
    "\n",
    "Grid scores on development set:\n",
    "\n",
    "nan (+/-nan) for {'C': 1, 'dual': False, 'loss': 'hinge', 'max_iter': 5000, 'penalty': 'l2', 'random_state': 512, 'tol': 0.001}\n",
    "nan (+/-nan) for {'C': 1, 'dual': False, 'loss': 'hinge', 'max_iter': 5000, 'penalty': 'l2', 'random_state': 512, 'tol': 0.0001}\n",
    "0.899 (+/-0.005) for {'C': 1, 'dual': False, 'loss': 'squared_hinge', 'max_iter': 5000, 'penalty': 'l2', 'random_state': 512, 'tol': 0.001}\n",
    "0.899 (+/-0.005) for {'C': 1, 'dual': False, 'loss': 'squared_hinge', 'max_iter': 5000, 'penalty': 'l2', 'random_state': 512, 'tol': 0.0001}\n",
    "nan (+/-nan) for {'C': 10, 'dual': False, 'loss': 'hinge', 'max_iter': 5000, 'penalty': 'l2', 'random_state': 512, 'tol': 0.001}\n",
    "nan (+/-nan) for {'C': 10, 'dual': False, 'loss': 'hinge', 'max_iter': 5000, 'penalty': 'l2', 'random_state': 512, 'tol': 0.0001}\n",
    "0.899 (+/-0.006) for {'C': 10, 'dual': False, 'loss': 'squared_hinge', 'max_iter': 5000, 'penalty': 'l2', 'random_state': 512, 'tol': 0.001}\n",
    "0.899 (+/-0.005) for {'C': 10, 'dual': False, 'loss': 'squared_hinge', 'max_iter': 5000, 'penalty': 'l2', 'random_state': 512, 'tol': 0.0001}\n",
    "nan (+/-nan) for {'C': 100, 'dual': False, 'loss': 'hinge', 'max_iter': 5000, 'penalty': 'l2', 'random_state': 512, 'tol': 0.001}\n",
    "nan (+/-nan) for {'C': 100, 'dual': False, 'loss': 'hinge', 'max_iter': 5000, 'penalty': 'l2', 'random_state': 512, 'tol': 0.0001}\n",
    "0.898 (+/-0.006) for {'C': 100, 'dual': False, 'loss': 'squared_hinge', 'max_iter': 5000, 'penalty': 'l2', 'random_state': 512, 'tol': 0.001}\n",
    "0.899 (+/-0.006) for {'C': 100, 'dual': False, 'loss': 'squared_hinge', 'max_iter': 5000, 'penalty': 'l2', 'random_state': 512, 'tol': 0.0001}\n",
    "nan (+/-nan) for {'C': 1000, 'dual': False, 'loss': 'hinge', 'max_iter': 5000, 'penalty': 'l2', 'random_state': 512, 'tol': 0.001}\n",
    "nan (+/-nan) for {'C': 1000, 'dual': False, 'loss': 'hinge', 'max_iter': 5000, 'penalty': 'l2', 'random_state': 512, 'tol': 0.0001}\n",
    "0.898 (+/-0.005) for {'C': 1000, 'dual': False, 'loss': 'squared_hinge', 'max_iter': 5000, 'penalty': 'l2', 'random_state': 512, 'tol': 0.001}\n",
    "0.899 (+/-0.006) for {'C': 1000, 'dual': False, 'loss': 'squared_hinge', 'max_iter': 5000, 'penalty': 'l2', 'random_state': 512, 'tol': 0.0001}\n",
    "0.898 (+/-0.005) for {'C': 1, 'dual': False, 'loss': 'squared_hinge', 'max_iter': 5000, 'penalty': 'l1', 'random_state': 512, 'tol': 0.001}\n",
    "0.899 (+/-0.005) for {'C': 1, 'dual': False, 'loss': 'squared_hinge', 'max_iter': 5000, 'penalty': 'l1', 'random_state': 512, 'tol': 0.0001}\n",
    "0.899 (+/-0.006) for {'C': 10, 'dual': False, 'loss': 'squared_hinge', 'max_iter': 5000, 'penalty': 'l1', 'random_state': 512, 'tol': 0.001}\n",
    "0.899 (+/-0.006) for {'C': 10, 'dual': False, 'loss': 'squared_hinge', 'max_iter': 5000, 'penalty': 'l1', 'random_state': 512, 'tol': 0.0001}\n",
    "0.898 (+/-0.005) for {'C': 100, 'dual': False, 'loss': 'squared_hinge', 'max_iter': 5000, 'penalty': 'l1', 'random_state': 512, 'tol': 0.001}\n",
    "0.899 (+/-0.006) for {'C': 100, 'dual': False, 'loss': 'squared_hinge', 'max_iter': 5000, 'penalty': 'l1', 'random_state': 512, 'tol': 0.0001}\n",
    "0.898 (+/-0.006) for {'C': 1000, 'dual': False, 'loss': 'squared_hinge', 'max_iter': 5000, 'penalty': 'l1', 'random_state': 512, 'tol': 0.001}\n",
    "0.898 (+/-0.005) for {'C': 1000, 'dual': False, 'loss': 'squared_hinge', 'max_iter': 5000, 'penalty': 'l1', 'random_state': 512, 'tol': 0.0001}\n",
    "```\n",
    "\n",
    "```\n",
    "# Tuning hyper-parameters for recall\n",
    "\n",
    "Best parameters set found on development set:\n",
    "\n",
    "{'C': 10, 'dual': False, 'loss': 'squared_hinge', 'max_iter': 5000, 'penalty': 'l2', 'random_state': 512, 'tol': 0.0001}\n",
    "\n",
    "Grid scores on development set:\n",
    "\n",
    "nan (+/-nan) for {'C': 1, 'dual': False, 'loss': 'hinge', 'max_iter': 5000, 'penalty': 'l2', 'random_state': 512, 'tol': 0.001}\n",
    "nan (+/-nan) for {'C': 1, 'dual': False, 'loss': 'hinge', 'max_iter': 5000, 'penalty': 'l2', 'random_state': 512, 'tol': 0.0001}\n",
    "0.898 (+/-0.005) for {'C': 1, 'dual': False, 'loss': 'squared_hinge', 'max_iter': 5000, 'penalty': 'l2', 'random_state': 512, 'tol': 0.001}\n",
    "0.898 (+/-0.005) for {'C': 1, 'dual': False, 'loss': 'squared_hinge', 'max_iter': 5000, 'penalty': 'l2', 'random_state': 512, 'tol': 0.0001}\n",
    "nan (+/-nan) for {'C': 10, 'dual': False, 'loss': 'hinge', 'max_iter': 5000, 'penalty': 'l2', 'random_state': 512, 'tol': 0.001}\n",
    "nan (+/-nan) for {'C': 10, 'dual': False, 'loss': 'hinge', 'max_iter': 5000, 'penalty': 'l2', 'random_state': 512, 'tol': 0.0001}\n",
    "0.899 (+/-0.006) for {'C': 10, 'dual': False, 'loss': 'squared_hinge', 'max_iter': 5000, 'penalty': 'l2', 'random_state': 512, 'tol': 0.001}\n",
    "0.899 (+/-0.005) for {'C': 10, 'dual': False, 'loss': 'squared_hinge', 'max_iter': 5000, 'penalty': 'l2', 'random_state': 512, 'tol': 0.0001}\n",
    "nan (+/-nan) for {'C': 100, 'dual': False, 'loss': 'hinge', 'max_iter': 5000, 'penalty': 'l2', 'random_state': 512, 'tol': 0.001}\n",
    "nan (+/-nan) for {'C': 100, 'dual': False, 'loss': 'hinge', 'max_iter': 5000, 'penalty': 'l2', 'random_state': 512, 'tol': 0.0001}\n",
    "0.898 (+/-0.006) for {'C': 100, 'dual': False, 'loss': 'squared_hinge', 'max_iter': 5000, 'penalty': 'l2', 'random_state': 512, 'tol': 0.001}\n",
    "0.899 (+/-0.006) for {'C': 100, 'dual': False, 'loss': 'squared_hinge', 'max_iter': 5000, 'penalty': 'l2', 'random_state': 512, 'tol': 0.0001}\n",
    "nan (+/-nan) for {'C': 1000, 'dual': False, 'loss': 'hinge', 'max_iter': 5000, 'penalty': 'l2', 'random_state': 512, 'tol': 0.001}\n",
    "nan (+/-nan) for {'C': 1000, 'dual': False, 'loss': 'hinge', 'max_iter': 5000, 'penalty': 'l2', 'random_state': 512, 'tol': 0.0001}\n",
    "0.898 (+/-0.006) for {'C': 1000, 'dual': False, 'loss': 'squared_hinge', 'max_iter': 5000, 'penalty': 'l2', 'random_state': 512, 'tol': 0.001}\n",
    "0.899 (+/-0.006) for {'C': 1000, 'dual': False, 'loss': 'squared_hinge', 'max_iter': 5000, 'penalty': 'l2', 'random_state': 512, 'tol': 0.0001}\n",
    "0.898 (+/-0.006) for {'C': 1, 'dual': False, 'loss': 'squared_hinge', 'max_iter': 5000, 'penalty': 'l1', 'random_state': 512, 'tol': 0.001}\n",
    "0.898 (+/-0.006) for {'C': 1, 'dual': False, 'loss': 'squared_hinge', 'max_iter': 5000, 'penalty': 'l1', 'random_state': 512, 'tol': 0.0001}\n",
    "0.899 (+/-0.006) for {'C': 10, 'dual': False, 'loss': 'squared_hinge', 'max_iter': 5000, 'penalty': 'l1', 'random_state': 512, 'tol': 0.001}\n",
    "0.899 (+/-0.006) for {'C': 10, 'dual': False, 'loss': 'squared_hinge', 'max_iter': 5000, 'penalty': 'l1', 'random_state': 512, 'tol': 0.0001}\n",
    "0.898 (+/-0.006) for {'C': 100, 'dual': False, 'loss': 'squared_hinge', 'max_iter': 5000, 'penalty': 'l1', 'random_state': 512, 'tol': 0.001}\n",
    "0.898 (+/-0.006) for {'C': 100, 'dual': False, 'loss': 'squared_hinge', 'max_iter': 5000, 'penalty': 'l1', 'random_state': 512, 'tol': 0.0001}\n",
    "0.898 (+/-0.006) for {'C': 1000, 'dual': False, 'loss': 'squared_hinge', 'max_iter': 5000, 'penalty': 'l1', 'random_state': 512, 'tol': 0.001}\n",
    "0.898 (+/-0.006) for {'C': 1000, 'dual': False, 'loss': 'squared_hinge', 'max_iter': 5000, 'penalty': 'l1', 'random_state': 512, 'tol': 0.0001}\n",
    "\n",
    "``` \n",
    "\n",
    "It's important to note that those `nan` values are non-finite test scores, and the parameters that resulted in those will not be considered."
   ]
  },
  {
   "cell_type": "markdown",
   "metadata": {
    "id": "0A5aFpVQH0jx"
   },
   "source": [
    "Thus, we conclude that the best parameters in this model are:\n",
    "```\n",
    "C = 10,\n",
    "dual = False,\n",
    "loss = 'squared_hinge',\n",
    "max_iter: 5000,\n",
    "penalty = 'l2',\n",
    "tol = 1e-4\n",
    "```\n",
    "**Notes:**\n",
    "- The selection of `max_iter` took into account how many iterations were necessary so that the model would converge, and it was adjusted manually;\n",
    "- The selection of `dual` was made when we realized that when `dual = True`, the execution would take too long to finish. Besides that, the [documentation](https://scikit-learn.org/stable/modules/generated/sklearn.svm.LinearSVC.html) itself stated that we should prefer `dual = False` when `n_samples > n_features`, which is the case.\n",
    "\n",
    "Using the `scikit-learn` library implementation of a Linear Support Vector Machine to train the dataset with the chosen parameters:"
   ]
  },
  {
   "cell_type": "code",
   "execution_count": 16,
   "metadata": {
    "id": "7yQkJwCHivG-"
   },
   "outputs": [],
   "source": [
    "# training\n",
    "svm_clf = LinearSVC(dual=False, C=10.0, random_state=SEED, max_iter=5000).fit(D_train, y_train)\n",
    "\n",
    "# predicting\n",
    "y_predict_svm = svm_clf.predict(D_train)"
   ]
  },
  {
   "cell_type": "markdown",
   "metadata": {
    "id": "P2kLPgT_14e-"
   },
   "source": [
    "Printing performance metrics such as the *classifier score* and the *model selection method* that we defined previously:"
   ]
  },
  {
   "cell_type": "code",
   "execution_count": 17,
   "metadata": {
    "id": "lhwy3-xQjZgW"
   },
   "outputs": [
    {
     "name": "stdout",
     "output_type": "stream",
     "text": [
      "\n",
      "Classifier score:\n",
      " 0.9058095238095238\n",
      "\n",
      "\n",
      "Mean squared error:\n",
      " 1.6353333333333333\n",
      "\n",
      "Classification report:\n",
      "               precision    recall  f1-score   support\n",
      "\n",
      "           0       0.95      0.97      0.96      4142\n",
      "           1       0.93      0.97      0.95      4685\n",
      "           2       0.91      0.88      0.89      4141\n",
      "           3       0.89      0.88      0.89      4325\n",
      "           4       0.90      0.91      0.90      4087\n",
      "           5       0.87      0.85      0.86      3848\n",
      "           6       0.93      0.95      0.94      4194\n",
      "           7       0.92      0.92      0.92      4398\n",
      "           8       0.87      0.84      0.86      4076\n",
      "           9       0.87      0.86      0.87      4104\n",
      "\n",
      "    accuracy                           0.91     42000\n",
      "   macro avg       0.90      0.90      0.90     42000\n",
      "weighted avg       0.91      0.91      0.91     42000\n",
      "\n",
      "\n",
      "Confusion matrix:\n",
      " [[4034    1    8    9    5   22   28    7   21    7]\n",
      " [   1 4551   27    9    4   23    5   12   46    7]\n",
      " [  28   54 3643   60   59   21   66   72  122   16]\n",
      " [  18   31  111 3805   11  141   19   41   96   52]\n",
      " [  12   24   29    7 3715   13   32   14   41  200]\n",
      " [  50   28   34  164   54 3261   92   22   94   49]\n",
      " [  30   21   33    4   28   57 3996    2   21    2]\n",
      " [  19   32   50   16   62   10    2 4067   15  125]\n",
      " [  34  102   56  127   33  155   39   19 3425   86]\n",
      " [  23   40   26   70  158   43    2  152   43 3547]]\n"
     ]
    }
   ],
   "source": [
    "print()\n",
    "print(\"Classifier score:\\n\" , svm_clf.score(D_train, y_train))\n",
    "\n",
    "print()\n",
    "model_selection_metrics(y_train, y_predict_svm)"
   ]
  },
  {
   "cell_type": "markdown",
   "metadata": {
    "id": "OK8O7ANFNUiQ"
   },
   "source": [
    "# 3. Choosing a final model\n",
    "Now, evaluating – on the validation set ($D_{val}$) – the three models selected in the previous step.  \n",
    " Let's compare the performance computed with respect to ($D_{val}$) with the ones obtained in the previous step (in $D_{train}$):"
   ]
  },
  {
   "cell_type": "markdown",
   "metadata": {
    "id": "QGY-7Xbd5BKK"
   },
   "source": [
    "## 3.1. Validating the logistic regression model"
   ]
  },
  {
   "cell_type": "code",
   "execution_count": 18,
   "metadata": {
    "id": "8-t6LZk_nJSR"
   },
   "outputs": [
    {
     "name": "stdout",
     "output_type": "stream",
     "text": [
      "\n",
      "Classifier score:\n",
      " 0.9084444444444445\n",
      "\n",
      "\n",
      "Mean squared error:\n",
      " 1.5567777777777778\n",
      "\n",
      "Classification report:\n",
      "               precision    recall  f1-score   support\n",
      "\n",
      "           0       0.95      0.96      0.96      1781\n",
      "           1       0.94      0.97      0.96      2057\n",
      "           2       0.91      0.89      0.90      1817\n",
      "           3       0.88      0.87      0.87      1806\n",
      "           4       0.90      0.91      0.90      1755\n",
      "           5       0.86      0.87      0.86      1573\n",
      "           6       0.94      0.95      0.94      1724\n",
      "           7       0.93      0.93      0.93      1867\n",
      "           8       0.88      0.85      0.86      1775\n",
      "           9       0.88      0.88      0.88      1845\n",
      "\n",
      "    accuracy                           0.91     18000\n",
      "   macro avg       0.91      0.91      0.91     18000\n",
      "weighted avg       0.91      0.91      0.91     18000\n",
      "\n",
      "\n",
      "Confusion matrix:\n",
      " [[1718    0   10    7    3   12   12    3   15    1]\n",
      " [   0 2004    9   10    2   14    0    0   18    0]\n",
      " [  18   19 1620   31   25    9   18   23   44   10]\n",
      " [  10   13   44 1564    4   87    6   27   39   12]\n",
      " [   3   12   12    1 1589    3   21    4   10  100]\n",
      " [  17    6   14   62   20 1361   29    8   48    8]\n",
      " [   8    5   14    0   20   30 1635    0   10    2]\n",
      " [   5   11   16    9   27    2    0 1733    8   56]\n",
      " [  19   41   27   57   11   57   18    8 1507   30]\n",
      " [  15   12    8   31   68   15    0   61   14 1621]]\n"
     ]
    }
   ],
   "source": [
    "# predicting\n",
    "y_predict_val = clf.predict(D_val)\n",
    "\n",
    "# estimating metrics\n",
    "print()\n",
    "print('Classifier score:\\n', clf.score(D_val, y_val))\n",
    "\n",
    "print()\n",
    "model_selection_metrics(y_val, y_predict_val)"
   ]
  },
  {
   "cell_type": "markdown",
   "metadata": {
    "id": "QIxm7yCN5Kj_"
   },
   "source": [
    "## 3.2. Validating the multi-layer perceptron model"
   ]
  },
  {
   "cell_type": "code",
   "execution_count": 19,
   "metadata": {
    "id": "LY9N7Wmc0alV"
   },
   "outputs": [
    {
     "name": "stdout",
     "output_type": "stream",
     "text": [
      "\n",
      "Classifier score:\n",
      " 0.9376111111111111\n",
      "\n",
      "\n",
      "Mean squared error:\n",
      " 1.056111111111111\n",
      "\n",
      "Classification report:\n",
      "               precision    recall  f1-score   support\n",
      "\n",
      "           0       0.96      0.97      0.97      1781\n",
      "           1       0.97      0.98      0.98      2057\n",
      "           2       0.92      0.94      0.93      1817\n",
      "           3       0.94      0.90      0.92      1806\n",
      "           4       0.92      0.94      0.93      1755\n",
      "           5       0.90      0.92      0.91      1573\n",
      "           6       0.95      0.95      0.95      1724\n",
      "           7       0.94      0.96      0.95      1867\n",
      "           8       0.93      0.90      0.91      1775\n",
      "           9       0.93      0.91      0.92      1845\n",
      "\n",
      "    accuracy                           0.94     18000\n",
      "   macro avg       0.94      0.94      0.94     18000\n",
      "weighted avg       0.94      0.94      0.94     18000\n",
      "\n",
      "\n",
      "Confusion matrix:\n",
      " [[1732    0    5    3    4   11   10    2   12    2]\n",
      " [   0 2009   14    7    2    5    2    1   16    1]\n",
      " [  15    6 1716   17   12    5   13   18   12    3]\n",
      " [   7    5   41 1629    4   58    1   27   21   13]\n",
      " [   5    3    7    0 1656    8   10    3    4   59]\n",
      " [   7    5    9   32    5 1448   23   10   26    8]\n",
      " [  10    3   18    1   18   28 1635    0   11    0]\n",
      " [   6    9   14   10   16    5    1 1784    2   20]\n",
      " [  14   19   34   23   10   31   18    7 1594   25]\n",
      " [  10    3    1   19   70   15    0   38   15 1674]]\n"
     ]
    }
   ],
   "source": [
    "# predicting\n",
    "y_predict_nn_val = nn.predict(D_val)\n",
    "\n",
    "# estimating metrics\n",
    "print()\n",
    "print('Classifier score:\\n', nn.score(D_val, y_val))\n",
    "\n",
    "print()\n",
    "model_selection_metrics(y_val, y_predict_nn_val)"
   ]
  },
  {
   "cell_type": "markdown",
   "metadata": {
    "id": "BcpCRycp5RY7"
   },
   "source": [
    "## 3.3. Validating the linear SVM model"
   ]
  },
  {
   "cell_type": "code",
   "execution_count": 20,
   "metadata": {
    "id": "BzpmHayZ0bLb"
   },
   "outputs": [
    {
     "name": "stdout",
     "output_type": "stream",
     "text": [
      "\n",
      "Classifier score:\n",
      " 0.9007222222222222\n",
      "\n",
      "\n",
      "Mean squared error:\n",
      " 1.7233333333333334\n",
      "\n",
      "Classification report:\n",
      "               precision    recall  f1-score   support\n",
      "\n",
      "           0       0.94      0.97      0.95      1781\n",
      "           1       0.93      0.98      0.95      2057\n",
      "           2       0.91      0.88      0.89      1817\n",
      "           3       0.88      0.86      0.87      1806\n",
      "           4       0.90      0.90      0.90      1755\n",
      "           5       0.85      0.85      0.85      1573\n",
      "           6       0.94      0.95      0.94      1724\n",
      "           7       0.91      0.93      0.92      1867\n",
      "           8       0.87      0.82      0.85      1775\n",
      "           9       0.87      0.86      0.86      1845\n",
      "\n",
      "    accuracy                           0.90     18000\n",
      "   macro avg       0.90      0.90      0.90     18000\n",
      "weighted avg       0.90      0.90      0.90     18000\n",
      "\n",
      "\n",
      "Confusion matrix:\n",
      " [[1726    0    7   10    3    9   14    2   10    0]\n",
      " [   1 2006   13    4    2   10    1    0   18    2]\n",
      " [  17   23 1594   30   25    7   25   39   47   10]\n",
      " [  14   15   49 1552    4   74    9   31   39   19]\n",
      " [   4   16   10    0 1586    9   10    4   12  104]\n",
      " [  22    7   18   72   21 1333   26   12   45   17]\n",
      " [   6    6   13    0   17   27 1641    0   13    1]\n",
      " [   8   14   19    5   33    2    1 1729    8   48]\n",
      " [  21   52   29   57   12   73   23   11 1459   38]\n",
      " [  18   15    7   40   66   20    0   74   18 1587]]\n"
     ]
    }
   ],
   "source": [
    "# predicting\n",
    "y_predict_svm_val = svm_clf.predict(D_val)\n",
    "\n",
    "# estimating metrics\n",
    "print()\n",
    "print('Classifier score:\\n', svm_clf.score(D_val, y_val))\n",
    "\n",
    "print()\n",
    "model_selection_metrics(y_val, y_predict_svm_val)"
   ]
  },
  {
   "cell_type": "markdown",
   "metadata": {
    "id": "PT13k20T44Y_"
   },
   "source": [
    "## 3.4. Comparing the three models\n",
    "The computed metrics on the validation set can be more clearly compared through the table:\n",
    "\n",
    "|                     | Score | MSE  | Accuracy |  \n",
    "|:-------------------:|:-----:|:----:|:--------:|  \n",
    "| Logistic Regression | 0.91  | 1.56 | 0.91     |\n",
    "| Neural Networks     | 0.94  | 1.06 | 0.94     |\n",
    "| Linear SVM          | 0.90  | 1.72 | 0.90     |\n",
    "\n",
    "Thus, we can conclude that the **Neural Networks** have the highest score and accuracy, and also the lowest error; so that's our final chosen model.\n",
    "\n",
    "\n"
   ]
  },
  {
   "cell_type": "markdown",
   "metadata": {
    "id": "bveTKPbjNYUU"
   },
   "source": [
    "# 4. Error estimation\n",
    "Computing an estimate of the final model expected performance ($E_{out}$ and other metrics/analysis)."
   ]
  },
  {
   "cell_type": "markdown",
   "metadata": {
    "id": "oHyBxVmu9OSv"
   },
   "source": [
    "## 4.1. Estimating metrics over $D_{test}$\n",
    "Printing $E_{out}$ and other metrics/analysis, using neural networks:"
   ]
  },
  {
   "cell_type": "code",
   "execution_count": 21,
   "metadata": {
    "id": "I6VsfKGs2Uoc",
    "scrolled": true
   },
   "outputs": [
    {
     "name": "stdout",
     "output_type": "stream",
     "text": [
      "\n",
      "Classifier score:\n",
      " 0.9449\n",
      "\n",
      "\n",
      "Mean squared error:\n",
      " 1.0081\n",
      "\n",
      "Classification report:\n",
      "               precision    recall  f1-score   support\n",
      "\n",
      "           0       0.95      0.98      0.97       980\n",
      "           1       0.97      0.98      0.98      1135\n",
      "           2       0.95      0.94      0.94      1032\n",
      "           3       0.94      0.92      0.93      1010\n",
      "           4       0.93      0.95      0.94       982\n",
      "           5       0.92      0.92      0.92       892\n",
      "           6       0.96      0.96      0.96       958\n",
      "           7       0.93      0.96      0.95      1028\n",
      "           8       0.93      0.93      0.93       974\n",
      "           9       0.94      0.92      0.93      1009\n",
      "\n",
      "    accuracy                           0.94     10000\n",
      "   macro avg       0.94      0.94      0.94     10000\n",
      "weighted avg       0.94      0.94      0.94     10000\n",
      "\n",
      "\n",
      "Confusion matrix:\n",
      " [[ 959    0    1    2    1    4    7    3    1    2]\n",
      " [   0 1117    5    1    0    1    2    2    5    2]\n",
      " [   7    2  971    9    1    3    5   17   17    0]\n",
      " [   1    5   16  925    5   27    1   15   11    4]\n",
      " [   2    1    7    0  928    3    5    3    2   31]\n",
      " [   8    1    5   22    5  820   11    3   15    2]\n",
      " [  10    4    2    0   11    7  916    0    8    0]\n",
      " [   1    5   13    7    4    1    0  987    2    8]\n",
      " [  14    7    5    6    7   13    7    8  902    5]\n",
      " [   5    6    0    7   36    9    0   18    4  924]]\n"
     ]
    }
   ],
   "source": [
    "# predicting\n",
    "y_predict_nn_test = nn.predict(X_test)\n",
    "\n",
    "# estimating metrics\n",
    "print()\n",
    "print('Classifier score:\\n', nn.score(X_test, y_test))\n",
    "\n",
    "print()\n",
    "model_selection_metrics(y_test, y_predict_nn_test)"
   ]
  },
  {
   "cell_type": "markdown",
   "metadata": {
    "id": "dKeJbvcZ-hHM"
   },
   "source": [
    "Given that the $E_{out}$ value is `1 - accuracy`, we can easily get the output errors. Now, let's do a **Cross validation**, comparing the error outputs of training versus testing:\n",
    "\n",
    "|            | Accuracy  | $E_{out}$ |\n",
    "|:----------:|:---------:|:---------:| \n",
    "| Training   | 0.954     | 0.046     | \n",
    "| Validating | 0.938     | 0.062     | \n",
    "| Testing    | 0.945     | 0.055     |\n",
    "\n",
    "Comparing the error values and how similar they are (with a maximum deviation of only `0.06`), we can conclude that the model is fitting the data properly."
   ]
  },
  {
   "cell_type": "markdown",
   "metadata": {
    "id": "0AnyudlQ-vsN"
   },
   "source": [
    "## 4.2. Retraining the selected method on $D_{train} \\cup D_{val}$\n",
    "Now, let's retrain the neural network on $D_{train} \\cup D_{val}$ and verify if there is any significant\n",
    "difference:"
   ]
  },
  {
   "cell_type": "code",
   "execution_count": 27,
   "metadata": {},
   "outputs": [],
   "source": [
    "# training\n",
    "nn2 = MLPClassifier(alpha=0.0001, solver='sgd', random_state=SEED, max_iter=500, learning_rate_init=0.01, hidden_layer_sizes=(13, )).fit(X_train, y_train_padrao)\n",
    "\n",
    "# predicting\n",
    "y_predict_nn2 = nn2.predict(X_train)"
   ]
  },
  {
   "cell_type": "markdown",
   "metadata": {
    "id": "vZkMgfMcAHGd"
   },
   "source": [
    "Printing performance metrics such as the *classifier score* and the *model selection method* that we defined previously:"
   ]
  },
  {
   "cell_type": "code",
   "execution_count": 28,
   "metadata": {
    "id": "AppPCOLM-d3O"
   },
   "outputs": [
    {
     "name": "stdout",
     "output_type": "stream",
     "text": [
      "\n",
      "Classifier score:\n",
      " 0.9548833333333333\n",
      "\n",
      "\n",
      "Mean squared error:\n",
      " 0.7951\n",
      "\n",
      "Classification report:\n",
      "               precision    recall  f1-score   support\n",
      "\n",
      "           0       0.98      0.97      0.98      5923\n",
      "           1       0.97      0.98      0.98      6742\n",
      "           2       0.96      0.95      0.96      5958\n",
      "           3       0.95      0.93      0.94      6131\n",
      "           4       0.95      0.96      0.95      5842\n",
      "           5       0.94      0.94      0.94      5421\n",
      "           6       0.97      0.97      0.97      5918\n",
      "           7       0.96      0.95      0.96      6265\n",
      "           8       0.94      0.94      0.94      5851\n",
      "           9       0.93      0.94      0.93      5949\n",
      "\n",
      "    accuracy                           0.95     60000\n",
      "   macro avg       0.95      0.95      0.95     60000\n",
      "weighted avg       0.95      0.95      0.95     60000\n",
      "\n",
      "\n",
      "Confusion matrix:\n",
      " [[5767    1   12    3   13   30   30    8   48   11]\n",
      " [   0 6618   22   18    3   11   11   11   37   11]\n",
      " [  17   23 5685   54   25   14   20   56   57    7]\n",
      " [   8   19   86 5692   11  140    3   50   75   47]\n",
      " [   5   11   12    2 5609    4   27   14   12  146]\n",
      " [  17   17   24   95   19 5093   44   23   49   40]\n",
      " [  25   18   10    1   40   35 5760    4   25    0]\n",
      " [  15   32   43   23   38   11    4 5980   10  109]\n",
      " [  17   57   32   53   22   53   39   16 5482   80]\n",
      " [  16    9    3   36  153   20    5   67   33 5607]]\n"
     ]
    }
   ],
   "source": [
    "# estimating metrics\n",
    "print()\n",
    "print('Classifier score:\\n', nn2.score(X_train, y_train_padrao))\n",
    "\n",
    "print()\n",
    "model_selection_metrics(y_train_padrao, y_predict_nn2)"
   ]
  },
  {
   "cell_type": "markdown",
   "metadata": {
    "id": "vScKJBpnAfeX"
   },
   "source": [
    "Computing an estimate of the final model expected performance ($E_{out}$ and other metrics/analysis):"
   ]
  },
  {
   "cell_type": "code",
   "execution_count": 29,
   "metadata": {
    "id": "VNHrWwb7-SlA"
   },
   "outputs": [
    {
     "name": "stdout",
     "output_type": "stream",
     "text": [
      "Classifier score:\n",
      " 0.9515\n",
      "\n",
      "Mean squared error:\n",
      " 0.8389\n",
      "\n",
      "Classification report:\n",
      "               precision    recall  f1-score   support\n",
      "\n",
      "           0       0.97      0.97      0.97       980\n",
      "           1       0.97      0.98      0.98      1135\n",
      "           2       0.95      0.94      0.95      1032\n",
      "           3       0.95      0.94      0.94      1010\n",
      "           4       0.94      0.96      0.95       982\n",
      "           5       0.93      0.91      0.92       892\n",
      "           6       0.95      0.96      0.96       958\n",
      "           7       0.95      0.95      0.95      1028\n",
      "           8       0.94      0.94      0.94       974\n",
      "           9       0.96      0.94      0.95      1009\n",
      "\n",
      "    accuracy                           0.95     10000\n",
      "   macro avg       0.95      0.95      0.95     10000\n",
      "weighted avg       0.95      0.95      0.95     10000\n",
      "\n",
      "\n",
      "Confusion matrix:\n",
      " [[ 953    0    1    3    1    7   10    3    1    1]\n",
      " [   0 1117    5    0    1    1    3    1    7    0]\n",
      " [   4    2  975    8    5    5    5   11   16    1]\n",
      " [   2    3   11  950    1   17    0   15    8    3]\n",
      " [   1    1    5    0  947    1    6    4    5   12]\n",
      " [   3    2    7   22    5  815   16    4   13    5]\n",
      " [   8    6    2    0    9    7  924    0    2    0]\n",
      " [   0    7   13    8    8    4    0  972    3   13]\n",
      " [   8    6    4    8    6   12    7    2  917    4]\n",
      " [   3    5    1    5   24    7    1   12    6  945]]\n"
     ]
    }
   ],
   "source": [
    "y_predict_nn2_test = nn2.predict(X_test)\n",
    "print('Classifier score:\\n', nn2.score(X_test, y_test))\n",
    "\n",
    "model_selection_metrics(y_test, y_predict_nn2_test)"
   ]
  },
  {
   "cell_type": "markdown",
   "metadata": {
    "id": "W5r3e5HuCtPR"
   },
   "source": [
    "Calculating $E_{out}$ with `1-accuracy`:\n",
    "\n",
    "|                         | Accuracy  | $E_{out}$ |\n",
    "|:-----------------------:|:---------:|:---------:| \n",
    "| Training + Validation   | 0.955     | 0.045     |\n",
    "| Testing                 | 0.951     | 0.049     |\n",
    "\n",
    "The performance metrics computed on $D_{train} \\cup D_{val}$ still hold the high score and accuracy, and also the low error. That means that the output error $E_{out}$ is low, and our choices of a model keep showing to be a precise fit for the dataset."
   ]
  }
 ],
 "metadata": {
  "colab": {
   "collapsed_sections": [],
   "name": "ep04.ipynb",
   "provenance": []
  },
  "kernelspec": {
   "display_name": "Python 3",
   "language": "python",
   "name": "python3"
  },
  "language_info": {
   "codemirror_mode": {
    "name": "ipython",
    "version": 3
   },
   "file_extension": ".py",
   "mimetype": "text/x-python",
   "name": "python",
   "nbconvert_exporter": "python",
   "pygments_lexer": "ipython3",
   "version": "3.8.10"
  }
 },
 "nbformat": 4,
 "nbformat_minor": 2
}
